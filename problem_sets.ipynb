{
 "cells": [
  {
   "cell_type": "markdown",
   "metadata": {},
   "source": [
    "# Setup"
   ]
  },
  {
   "cell_type": "code",
   "execution_count": 1,
   "metadata": {},
   "outputs": [
    {
     "name": "stderr",
     "output_type": "stream",
     "text": [
      "/home/ubuntu/.local/lib/python3.8/site-packages/tqdm/auto.py:21: TqdmWarning: IProgress not found. Please update jupyter and ipywidgets. See https://ipywidgets.readthedocs.io/en/stable/user_install.html\n",
      "  from .autonotebook import tqdm as notebook_tqdm\n"
     ]
    },
    {
     "data": {
      "text/plain": [
       "True"
      ]
     },
     "execution_count": 1,
     "metadata": {},
     "output_type": "execute_result"
    }
   ],
   "source": [
    "import pandas as pd\n",
    "import numpy as np\n",
    "import random\n",
    "import transformers\n",
    "import torch\n",
    "import dotenv\n",
    "import os\n",
    "import matplotlib.pyplot as plt\n",
    "import re\n",
    "\n",
    "dotenv.load_dotenv()"
   ]
  },
  {
   "cell_type": "code",
   "execution_count": 2,
   "metadata": {},
   "outputs": [
    {
     "name": "stderr",
     "output_type": "stream",
     "text": [
      "Loading checkpoint shards: 100%|██████████| 4/4 [00:02<00:00,  1.54it/s]\n",
      "Special tokens have been added in the vocabulary, make sure the associated word embeddings are fine-tuned or trained.\n"
     ]
    }
   ],
   "source": [
    "model_id = \"meta-llama/Meta-Llama-3-8B-Instruct\"\n",
    "\n",
    "pipeline = transformers.pipeline(\n",
    "    \"text-generation\",\n",
    "    model=model_id,\n",
    "    model_kwargs={\"torch_dtype\": torch.bfloat16},\n",
    "    device_map=\"auto\",\n",
    "    token=os.getenv('HF_TOKEN')\n",
    ")\n",
    "\n",
    "terminators = [\n",
    "    pipeline.tokenizer.eos_token_id,\n",
    "    pipeline.tokenizer.convert_tokens_to_ids(\"<|eot_id|>\")\n",
    "]"
   ]
  },
  {
   "cell_type": "markdown",
   "metadata": {},
   "source": [
    "# Testing infrastructure, v1"
   ]
  },
  {
   "cell_type": "code",
   "execution_count": 3,
   "metadata": {},
   "outputs": [],
   "source": [
    "def make_problem(digits, format=None):\n",
    "    if format is None:\n",
    "        n = random.randint(10**(digits-1), 10**digits-1)\n",
    "        return str(n), n\n",
    "    elif format[0] == '+':\n",
    "        p1 = make_problem(digits, format[1][0])\n",
    "        p2 = make_problem(digits, format[1][1])\n",
    "        return f\"({p1[0]}+{p2[0]})\", p1[1] + p2[1]\n",
    "    elif format[0] == '-':\n",
    "        p1 = make_problem(digits, format[1][0])\n",
    "        p2 = make_problem(digits, format[1][1])\n",
    "        return f\"({p1[0]}-{p2[0]})\", p1[1] - p2[1]\n",
    "    elif format[0] == '*':\n",
    "        p1 = make_problem(digits, format[1][0])\n",
    "        p2 = make_problem(digits, format[1][1])\n",
    "        return f\"({p1[0]}*{p2[0]})\", p1[1] * p2[1]\n",
    "    \n",
    "def make_problem_set(digits, format, num_problems):\n",
    "    return pd.DataFrame([make_problem(digits, format) for _ in range(num_problems)], columns=['problem', 'correct_solution'])"
   ]
  },
  {
   "cell_type": "code",
   "execution_count": 4,
   "metadata": {},
   "outputs": [],
   "source": [
    "def solve_problem_cot(problem, sys_prompt, cot_prompt):\n",
    "    messages = [\n",
    "    {\"role\": \"system\", \"content\": sys_prompt + ' ' + cot_prompt},\n",
    "    {\"role\": \"user\", \"content\": problem},\n",
    "    ]\n",
    "\n",
    "    outputs = pipeline(\n",
    "    messages,\n",
    "    max_new_tokens=256,\n",
    "    eos_token_id=terminators,\n",
    "    do_sample=True,\n",
    "    temperature=0.6,\n",
    "    top_p=0.9,\n",
    "    pad_token_id=pipeline.tokenizer.eos_token_id\n",
    "    )\n",
    "\n",
    "    return outputs[0]['generated_text'][-1]['content']\n",
    "\n",
    "def solve_problem_set_cot(problem_set, sys_prompt, cot_prompt):\n",
    "    solved = problem_set.copy()\n",
    "    solved['solution'] = [solve_problem_cot(row['problem'], sys_prompt, cot_prompt) for _, row in problem_set.iterrows()]\n",
    "    return solved\n",
    "\n",
    "def solve_problem_fp(problem, sys_prompt, fp_prompt, max_toks=10): # setting max_toks to 1 because we're doing small digit numbers\n",
    "    messages = [\n",
    "    {\"role\": \"system\", \"content\": sys_prompt + ' ' + fp_prompt},\n",
    "    {\"role\": \"user\", \"content\": problem},\n",
    "    ]\n",
    "\n",
    "    outputs = pipeline(\n",
    "    messages,\n",
    "    max_new_tokens=max_toks,\n",
    "    eos_token_id=terminators,\n",
    "    do_sample=True,\n",
    "    temperature=0.6,\n",
    "    top_p=0.9,\n",
    "    pad_token_id=pipeline.tokenizer.eos_token_id\n",
    "    )\n",
    "\n",
    "    return outputs[0]['generated_text'][-1]['content']\n",
    "\n",
    "def solve_problem_set_fp(problem_set, sys_prompt, fp_prompt):\n",
    "    solved = problem_set.copy()\n",
    "    solved['solution'] = [solve_problem_fp(row['problem'], sys_prompt=sys_prompt, fp_prompt=fp_prompt) for _, row in problem_set.iterrows()]\n",
    "    return solved"
   ]
  },
  {
   "cell_type": "code",
   "execution_count": 5,
   "metadata": {},
   "outputs": [],
   "source": [
    "def correct_rate(solution_set):\n",
    "    df_with_correct = solution_set.copy()\n",
    "    df_with_correct['correct'] = df_with_correct.apply(lambda x: str(x['correct_solution']) in re.sub(r'[^0-9]+', '', x['solution']), axis=1)\n",
    "    return df_with_correct"
   ]
  },
  {
   "cell_type": "code",
   "execution_count": 6,
   "metadata": {},
   "outputs": [],
   "source": [
    "def bernoulli_std(mean, samples):\n",
    "    return np.sqrt((mean*(1-mean))/samples)\n",
    "\n",
    "def do_full_test(digits, format, sys_prompt, cot_prompt, fp_prompt, n):\n",
    "    df = make_problem_set(digits, format, n)\n",
    "    df_cot = solve_problem_set_cot(df, sys_prompt, cot_prompt)\n",
    "    df_cot = correct_rate(df_cot)\n",
    "    df_fp = solve_problem_set_fp(df, sys_prompt, fp_prompt)\n",
    "    df_fp = correct_rate(df_fp)\n",
    "    cot_mean = sum(df_cot['correct'])/n\n",
    "    fp_mean = sum(df_fp['correct'])/n\n",
    "    print(f\"COT accuracy: {cot_mean} +- {2*bernoulli_std(cot_mean, n):.3f}\\nFP accuracy: {fp_mean} +- {2*bernoulli_std(fp_mean, n):.3f}\")\n",
    "    return df_cot, df_fp\n",
    "    "
   ]
  },
  {
   "cell_type": "code",
   "execution_count": 7,
   "metadata": {},
   "outputs": [],
   "source": [
    "task_p = 'What is the value of this expression?'\n",
    "cot_p_add = 'Think through your answer carefully, and show all your work.'\n",
    "cot_p_mul = 'Think through your answer carefully, and show all your work.'\n",
    "fp_p = 'Answer with only a number.'\n",
    "\n",
    "n_samples = 50"
   ]
  },
  {
   "cell_type": "code",
   "execution_count": 8,
   "metadata": {},
   "outputs": [
    {
     "name": "stderr",
     "output_type": "stream",
     "text": [
      "You seem to be using the pipelines sequentially on GPU. In order to maximize efficiency please use a dataset\n"
     ]
    },
    {
     "name": "stdout",
     "output_type": "stream",
     "text": [
      "COT accuracy: 1.0 +- 0.000\n",
      "FP accuracy: 1.0 +- 0.000\n",
      "COT accuracy: 1.0 +- 0.000\n",
      "FP accuracy: 1.0 +- 0.000\n",
      "COT accuracy: 1.0 +- 0.000\n",
      "FP accuracy: 1.0 +- 0.000\n",
      "COT accuracy: 0.94 +- 0.067\n",
      "FP accuracy: 0.96 +- 0.055\n",
      "COT accuracy: 0.88 +- 0.092\n",
      "FP accuracy: 0.82 +- 0.109\n",
      "COT accuracy: 0.84 +- 0.104\n",
      "FP accuracy: 0.88 +- 0.092\n",
      "COT accuracy: 0.54 +- 0.141\n",
      "FP accuracy: 0.14 +- 0.098\n",
      "COT accuracy: 0.38 +- 0.137\n",
      "FP accuracy: 0.54 +- 0.141\n",
      "COT accuracy: 0.4 +- 0.139\n",
      "FP accuracy: 0.58 +- 0.140\n",
      "COT accuracy: 0.2 +- 0.113\n",
      "FP accuracy: 0.34 +- 0.134\n",
      "COT accuracy: 0.24 +- 0.121\n",
      "FP accuracy: 0.26 +- 0.124\n",
      "COT accuracy: 0.22 +- 0.117\n",
      "FP accuracy: 0.46 +- 0.141\n",
      "COT accuracy: 0.02 +- 0.040\n",
      "FP accuracy: 0.36 +- 0.136\n",
      "COT accuracy: 0.16 +- 0.104\n",
      "FP accuracy: 0.12 +- 0.092\n",
      "COT accuracy: 0.24 +- 0.121\n",
      "FP accuracy: 0.18 +- 0.109\n",
      "COT accuracy: 0.08 +- 0.077\n",
      "FP accuracy: 0.16 +- 0.104\n",
      "COT accuracy: 0.08 +- 0.077\n",
      "FP accuracy: 0.02 +- 0.040\n",
      "COT accuracy: 0.12 +- 0.092\n",
      "FP accuracy: 0.08 +- 0.077\n",
      "COT accuracy: 0.02 +- 0.040\n",
      "FP accuracy: 0.06 +- 0.067\n"
     ]
    }
   ],
   "source": [
    "results_add = []\n",
    "\n",
    "for n in range(1, 20):\n",
    "    results_add.append(do_full_test(n,\n",
    "             ('+', (None, None)),\n",
    "             task_p,\n",
    "             cot_p_add,\n",
    "             fp_p,\n",
    "             n_samples))"
   ]
  },
  {
   "cell_type": "code",
   "execution_count": 9,
   "metadata": {},
   "outputs": [
    {
     "name": "stdout",
     "output_type": "stream",
     "text": [
      "COT accuracy: 1.0 +- 0.000\n",
      "FP accuracy: 1.0 +- 0.000\n",
      "COT accuracy: 0.78 +- 0.117\n",
      "FP accuracy: 0.68 +- 0.132\n",
      "COT accuracy: 0.14 +- 0.098\n",
      "FP accuracy: 0.04 +- 0.055\n",
      "COT accuracy: 0.0 +- 0.000\n",
      "FP accuracy: 0.0 +- 0.000\n"
     ]
    }
   ],
   "source": [
    "results_mul = []\n",
    "\n",
    "for n in range(1, 5):\n",
    "    results_mul.append(do_full_test(n,\n",
    "             ('*', (None, None)),\n",
    "             task_p,\n",
    "             cot_p_add,\n",
    "             fp_p,\n",
    "             n_samples))"
   ]
  },
  {
   "cell_type": "code",
   "execution_count": 10,
   "metadata": {},
   "outputs": [
    {
     "data": {
      "image/png": "[encoded data removed]",
      "text/plain": [
       "<Figure size 1200x500 with 2 Axes>"
      ]
     },
     "metadata": {},
     "output_type": "display_data"
    }
   ],
   "source": [
    "fig, (ax1, ax2) = plt.subplots(1, 2, figsize=(12, 5))\n",
    "\n",
    "ax1.errorbar(\n",
    "    x = range(1, len(results_add)+1),\n",
    "    y = [sum(df_cot['correct'])/n_samples for df_cot, _ in results_add],\n",
    "    yerr = [2*bernoulli_std(sum(df_cot['correct'])/n_samples, n_samples) for df_cot, _ in results_add],\n",
    "    linestyle='',\n",
    "    fmt='o',\n",
    "    capsize=5\n",
    ")\n",
    "ax1.set_title('COT performance')\n",
    "ax1.set_ylim(0, 1)\n",
    "ax2.errorbar(\n",
    "    x = range(1, len(results_add)+1),\n",
    "    y = [sum(df_fp['correct'])/n_samples for _, df_fp in results_add],\n",
    "    yerr = [2*bernoulli_std(sum(df_fp['correct'])/n_samples, n_samples) for df_fp, _ in results_add],\n",
    "    linestyle='',\n",
    "    fmt='o',\n",
    "    capsize=5\n",
    ")\n",
    "ax2.set_title('FP performance')\n",
    "ax2.set_ylim(0, 1)\n",
    "plt.show()"
   ]
  },
  {
   "cell_type": "code",
   "execution_count": 11,
   "metadata": {},
   "outputs": [
    {
     "data": {
      "image/png": "[encoded data removed]",
      "text/plain": [
       "<Figure size 1200x500 with 2 Axes>"
      ]
     },
     "metadata": {},
     "output_type": "display_data"
    }
   ],
   "source": [
    "fig, (ax1, ax2) = plt.subplots(1, 2, figsize=(12, 5))\n",
    "\n",
    "ax1.errorbar(\n",
    "    x = range(1, len(results_mul)+1),\n",
    "    y = [sum(df_cot['correct'])/n_samples for df_cot, _ in results_mul],\n",
    "    yerr = [2*bernoulli_std(sum(df_cot['correct'])/n_samples, n_samples) for df_cot, _ in results_mul],\n",
    "    linestyle='',\n",
    "    fmt='o',\n",
    "    capsize=5\n",
    ")\n",
    "ax1.set_title('COT performance')\n",
    "ax1.set_ylim(0, 1)\n",
    "ax2.errorbar(\n",
    "    x = range(1, len(results_mul)+1),\n",
    "    y = [sum(df_fp['correct'])/n_samples for _, df_fp in results_mul],\n",
    "    yerr = [2*bernoulli_std(sum(df_fp['correct'])/n_samples, n_samples) for df_fp, _ in results_mul],\n",
    "    linestyle='',\n",
    "    fmt='o',\n",
    "    capsize=5\n",
    ")\n",
    "ax2.set_title('FP performance')\n",
    "ax2.set_ylim(0, 1)\n",
    "plt.show()"
   ]
  },
  {
   "cell_type": "markdown",
   "metadata": {},
   "source": [
    "# Testing infrastructure v2"
   ]
  },
  {
   "cell_type": "code",
   "execution_count": 12,
   "metadata": {},
   "outputs": [],
   "source": [
    "from math import sqrt\n",
    "def wilson(p, n, z = 1.96):\n",
    "    denominator = 1 + z**2/n\n",
    "    centre_adjusted_probability = p + z*z / (2*n)\n",
    "    adjusted_standard_deviation = sqrt((p*(1 - p) + z*z / (4*n)) / n)\n",
    "\n",
    "    lower_bound = (centre_adjusted_probability - z*adjusted_standard_deviation) / denominator\n",
    "    upper_bound = (centre_adjusted_probability + z*adjusted_standard_deviation) / denominator\n",
    "    return (max(p-lower_bound, 0), max(upper_bound-p, 0))\n",
    "\n",
    "def do_fuller_test(digits_range, format, sys_prompt, cot_prompt, fp_prompt, n_samples):\n",
    "    results = []\n",
    "    cot_conf_ints = []\n",
    "    fp_conf_ints = []\n",
    "    for digits in digits_range:\n",
    "        df = make_problem_set(digits, format, n_samples)\n",
    "\n",
    "        df_cot = solve_problem_set_cot(df, sys_prompt, cot_prompt)\n",
    "        df_cot = correct_rate(df_cot)\n",
    "        cot_mean = sum(df_cot['correct'])/n_samples\n",
    "        cot_lower, cot_upper = wilson(cot_mean, n_samples)\n",
    "        cot_conf_ints.append((cot_lower, cot_upper))\n",
    "        print(f\"COT accuracy: between {cot_mean-cot_lower} and {cot_mean+cot_upper}\")\n",
    "        \n",
    "        df_fp = solve_problem_set_fp(df, sys_prompt, fp_prompt)\n",
    "        df_fp = correct_rate(df_fp)\n",
    "        fp_mean = sum(df_fp['correct'])/n_samples\n",
    "        fp_lower, fp_upper = wilson(fp_mean, n_samples)\n",
    "        fp_conf_ints.append((fp_lower, fp_upper))\n",
    "        print(f\"FP accuracy: between {fp_mean-fp_lower} and {fp_mean+fp_upper}\")\n",
    "\n",
    "        results.append((df_cot, df_fp))\n",
    "    fig, (ax1, ax2) = plt.subplots(1, 2, figsize=(12, 5))\n",
    "    ax1.errorbar(\n",
    "        x = range(1, len(results)+1),\n",
    "        y = [sum(df_cot['correct'])/n_samples for df_cot, _ in results],\n",
    "        yerr = [[x[0] for x in cot_conf_ints], [x[1] for x in cot_conf_ints]],\n",
    "        linestyle='',\n",
    "        fmt='o',\n",
    "        capsize=5\n",
    "    )\n",
    "    ax1.set_title('COT performance')\n",
    "    ax1.set_xticks(range(1, len(results)+1))\n",
    "    ax1.set_xlabel('Number of digits')\n",
    "    ax1.set_ylim(0, 1)\n",
    "    ax1.set_ylabel('Proportion Correct')\n",
    "    ax2.errorbar(\n",
    "        x = range(1, len(results)+1),\n",
    "        y = [sum(df_fp['correct'])/n_samples for _, df_fp in results],\n",
    "        yerr = [[x[0] for x in fp_conf_ints], [x[1] for x in fp_conf_ints]],\n",
    "        linestyle='',\n",
    "        fmt='o',\n",
    "        capsize=5\n",
    "    )\n",
    "    ax2.set_title('Memorization performance')\n",
    "    ax2.set_xticks(range(1, len(results)+1))\n",
    "    ax2.set_xlabel('Number of digits')\n",
    "    ax2.set_ylim(0, 1)\n",
    "    ax2.set_ylabel('Proportion Correct')\n",
    "    plt.show()\n",
    "    return results"
   ]
  },
  {
   "cell_type": "code",
   "execution_count": 13,
   "metadata": {},
   "outputs": [
    {
     "name": "stdout",
     "output_type": "stream",
     "text": [
      "COT accuracy: between 0.963005192523998 and 1.0\n",
      "FP accuracy: between 0.06254131955225124 and 0.18631463027903025\n",
      "COT accuracy: between 0.963005192523998 and 1.0\n",
      "FP accuracy: between 0.005501852234968177 and 0.07001316294199365\n",
      "COT accuracy: between 0.8752303146877749 and 0.9722142547333434\n",
      "FP accuracy: between 0.0 and 0.03699480747600191\n",
      "COT accuracy: between 0.5627754565831095 and 0.74538620502457\n",
      "FP accuracy: between 0.0 and 0.03699480747600191\n",
      "COT accuracy: between 0.4920125056109662 and 0.6813284290433533\n",
      "FP accuracy: between 0.0 and 0.03699480747600191\n"
     ]
    },
    {
     "data": {
      "image/png": "[encoded data removed]",
      "text/plain": [
       "<Figure size 1200x500 with 2 Axes>"
      ]
     },
     "metadata": {},
     "output_type": "display_data"
    }
   ],
   "source": [
    "r = do_fuller_test(range(1, 6), ('+', (('+', (None, None)), ('+', (None, None)))), task_p, 'Think carefully and show all your work.', 'Answer with only a number.', 100)"
   ]
  },
  {
   "cell_type": "code",
   "execution_count": 14,
   "metadata": {},
   "outputs": [
    {
     "name": "stdout",
     "output_type": "stream",
     "text": [
      "COT mean: 1.0\n",
      "FP mean: 0.11\n",
      "COT mean: 1.0\n",
      "FP mean: 0.02\n",
      "COT mean: 0.94\n",
      "FP mean: 0.0\n",
      "COT mean: 0.66\n",
      "FP mean: 0.0\n",
      "COT mean: 0.59\n",
      "FP mean: 0.0\n"
     ]
    }
   ],
   "source": [
    "for df_cot, df_fp in r:\n",
    "    cot_mean = sum(df_cot['correct'])/100\n",
    "    fp_mean = sum(df_fp['correct'])/100\n",
    "    print(f\"COT mean: {cot_mean}\\nFP mean: {fp_mean}\")"
   ]
  },
  {
   "cell_type": "markdown",
   "metadata": {},
   "source": [
    "# 2-nested addition gets good scores for 1, 2, and 3 digits."
   ]
  },
  {
   "cell_type": "markdown",
   "metadata": {},
   "source": [
    "# prompt sensitivity validation testing\n",
    "making sure it's not possible to elicit better memorization performance with prompt variation"
   ]
  },
  {
   "cell_type": "code",
   "execution_count": 15,
   "metadata": {},
   "outputs": [
    {
     "name": "stdout",
     "output_type": "stream",
     "text": [
      "COT accuracy: 1.0 +- 0.000\n",
      "FP accuracy: 0.02 +- 0.040\n",
      "COT accuracy: 1.0 +- 0.000\n",
      "FP accuracy: 0.0 +- 0.000\n",
      "COT accuracy: 1.0 +- 0.000\n",
      "FP accuracy: 0.04 +- 0.055\n",
      "COT accuracy: 1.0 +- 0.000\n",
      "FP accuracy: 0.0 +- 0.000\n",
      "COT accuracy: 0.98 +- 0.040\n",
      "FP accuracy: 0.0 +- 0.000\n",
      "COT accuracy: 0.98 +- 0.040\n",
      "FP accuracy: 0.0 +- 0.000\n",
      "COT accuracy: 0.98 +- 0.040\n",
      "FP accuracy: 0.02 +- 0.040\n",
      "COT accuracy: 1.0 +- 0.000\n",
      "FP accuracy: 0.04 +- 0.055\n",
      "COT accuracy: 1.0 +- 0.000\n",
      "FP accuracy: 0.0 +- 0.000\n",
      "COT accuracy: 1.0 +- 0.000\n",
      "FP accuracy: 0.02 +- 0.040\n",
      "COT accuracy: 1.0 +- 0.000\n",
      "FP accuracy: 0.0 +- 0.000\n",
      "COT accuracy: 1.0 +- 0.000\n",
      "FP accuracy: 0.02 +- 0.040\n",
      "COT accuracy: 1.0 +- 0.000\n",
      "FP accuracy: 0.02 +- 0.040\n",
      "COT accuracy: 1.0 +- 0.000\n",
      "FP accuracy: 0.02 +- 0.040\n",
      "COT accuracy: 1.0 +- 0.000\n",
      "FP accuracy: 0.02 +- 0.040\n",
      "COT accuracy: 1.0 +- 0.000\n",
      "FP accuracy: 0.0 +- 0.000\n",
      "COT accuracy: 1.0 +- 0.000\n",
      "FP accuracy: 0.0 +- 0.000\n",
      "COT accuracy: 0.98 +- 0.040\n",
      "FP accuracy: 0.04 +- 0.055\n",
      "COT accuracy: 1.0 +- 0.000\n",
      "FP accuracy: 0.0 +- 0.000\n",
      "COT accuracy: 1.0 +- 0.000\n",
      "FP accuracy: 0.0 +- 0.000\n",
      "COT accuracy: 0.98 +- 0.040\n",
      "FP accuracy: 0.0 +- 0.000\n",
      "COT accuracy: 0.98 +- 0.040\n",
      "FP accuracy: 0.0 +- 0.000\n",
      "COT accuracy: 1.0 +- 0.000\n",
      "FP accuracy: 0.0 +- 0.000\n",
      "COT accuracy: 0.96 +- 0.055\n",
      "FP accuracy: 0.0 +- 0.000\n",
      "COT accuracy: 0.98 +- 0.040\n",
      "FP accuracy: 0.04 +- 0.055\n",
      "COT accuracy: 1.0 +- 0.000\n",
      "FP accuracy: 0.0 +- 0.000\n",
      "COT accuracy: 1.0 +- 0.000\n",
      "FP accuracy: 0.0 +- 0.000\n",
      "COT accuracy: 1.0 +- 0.000\n",
      "FP accuracy: 0.0 +- 0.000\n",
      "COT accuracy: 1.0 +- 0.000\n",
      "FP accuracy: 0.02 +- 0.040\n",
      "COT accuracy: 1.0 +- 0.000\n",
      "FP accuracy: 0.02 +- 0.040\n",
      "COT accuracy: 1.0 +- 0.000\n",
      "FP accuracy: 0.04 +- 0.055\n",
      "COT accuracy: 1.0 +- 0.000\n",
      "FP accuracy: 0.0 +- 0.000\n",
      "COT accuracy: 1.0 +- 0.000\n",
      "FP accuracy: 0.0 +- 0.000\n",
      "COT accuracy: 0.98 +- 0.040\n",
      "FP accuracy: 0.0 +- 0.000\n",
      "COT accuracy: 1.0 +- 0.000\n",
      "FP accuracy: 0.02 +- 0.040\n",
      "COT accuracy: 1.0 +- 0.000\n",
      "FP accuracy: 0.02 +- 0.040\n",
      "COT accuracy: 1.0 +- 0.000\n",
      "FP accuracy: 0.0 +- 0.000\n",
      "COT accuracy: 1.0 +- 0.000\n",
      "FP accuracy: 0.0 +- 0.000\n",
      "COT accuracy: 1.0 +- 0.000\n",
      "FP accuracy: 0.02 +- 0.040\n",
      "COT accuracy: 1.0 +- 0.000\n",
      "FP accuracy: 0.0 +- 0.000\n",
      "COT accuracy: 1.0 +- 0.000\n",
      "FP accuracy: 0.02 +- 0.040\n",
      "COT accuracy: 1.0 +- 0.000\n",
      "FP accuracy: 0.02 +- 0.040\n",
      "COT accuracy: 1.0 +- 0.000\n",
      "FP accuracy: 0.0 +- 0.000\n",
      "COT accuracy: 1.0 +- 0.000\n",
      "FP accuracy: 0.02 +- 0.040\n",
      "COT accuracy: 1.0 +- 0.000\n",
      "FP accuracy: 0.0 +- 0.000\n",
      "COT accuracy: 1.0 +- 0.000\n",
      "FP accuracy: 0.02 +- 0.040\n",
      "COT accuracy: 0.96 +- 0.055\n",
      "FP accuracy: 0.02 +- 0.040\n",
      "COT accuracy: 0.94 +- 0.067\n",
      "FP accuracy: 0.0 +- 0.000\n",
      "COT accuracy: 0.94 +- 0.067\n",
      "FP accuracy: 0.02 +- 0.040\n",
      "COT accuracy: 0.94 +- 0.067\n",
      "FP accuracy: 0.02 +- 0.040\n",
      "COT accuracy: 1.0 +- 0.000\n",
      "FP accuracy: 0.0 +- 0.000\n",
      "COT accuracy: 1.0 +- 0.000\n",
      "FP accuracy: 0.0 +- 0.000\n",
      "COT accuracy: 1.0 +- 0.000\n",
      "FP accuracy: 0.02 +- 0.040\n",
      "COT accuracy: 1.0 +- 0.000\n",
      "FP accuracy: 0.02 +- 0.040\n",
      "COT accuracy: 1.0 +- 0.000\n",
      "FP accuracy: 0.0 +- 0.000\n",
      "COT accuracy: 1.0 +- 0.000\n",
      "FP accuracy: 0.06 +- 0.067\n",
      "COT accuracy: 1.0 +- 0.000\n",
      "FP accuracy: 0.0 +- 0.000\n",
      "COT accuracy: 1.0 +- 0.000\n",
      "FP accuracy: 0.02 +- 0.040\n",
      "COT accuracy: 1.0 +- 0.000\n",
      "FP accuracy: 0.0 +- 0.000\n",
      "COT accuracy: 1.0 +- 0.000\n",
      "FP accuracy: 0.02 +- 0.040\n",
      "COT accuracy: 0.96 +- 0.055\n",
      "FP accuracy: 0.0 +- 0.000\n",
      "COT accuracy: 1.0 +- 0.000\n",
      "FP accuracy: 0.02 +- 0.040\n",
      "COT accuracy: 1.0 +- 0.000\n",
      "FP accuracy: 0.02 +- 0.040\n",
      "COT accuracy: 0.96 +- 0.055\n",
      "FP accuracy: 0.02 +- 0.040\n",
      "COT accuracy: 1.0 +- 0.000\n",
      "FP accuracy: 0.02 +- 0.040\n",
      "COT accuracy: 1.0 +- 0.000\n",
      "FP accuracy: 0.0 +- 0.000\n",
      "COT accuracy: 0.98 +- 0.040\n",
      "FP accuracy: 0.02 +- 0.040\n",
      "COT accuracy: 1.0 +- 0.000\n",
      "FP accuracy: 0.0 +- 0.000\n",
      "COT accuracy: 1.0 +- 0.000\n",
      "FP accuracy: 0.0 +- 0.000\n",
      "COT accuracy: 0.98 +- 0.040\n",
      "FP accuracy: 0.04 +- 0.055\n",
      "COT accuracy: 0.94 +- 0.067\n",
      "FP accuracy: 0.0 +- 0.000\n",
      "COT accuracy: 0.96 +- 0.055\n",
      "FP accuracy: 0.0 +- 0.000\n",
      "COT accuracy: 0.98 +- 0.040\n",
      "FP accuracy: 0.04 +- 0.055\n",
      "COT accuracy: 0.98 +- 0.040\n",
      "FP accuracy: 0.0 +- 0.000\n",
      "COT accuracy: 1.0 +- 0.000\n",
      "FP accuracy: 0.0 +- 0.000\n",
      "COT accuracy: 1.0 +- 0.000\n",
      "FP accuracy: 0.02 +- 0.040\n",
      "COT accuracy: 1.0 +- 0.000\n",
      "FP accuracy: 0.0 +- 0.000\n",
      "COT accuracy: 1.0 +- 0.000\n",
      "FP accuracy: 0.04 +- 0.055\n",
      "COT accuracy: 0.98 +- 0.040\n",
      "FP accuracy: 0.04 +- 0.055\n",
      "COT accuracy: 1.0 +- 0.000\n",
      "FP accuracy: 0.0 +- 0.000\n",
      "COT accuracy: 1.0 +- 0.000\n",
      "FP accuracy: 0.04 +- 0.055\n",
      "COT accuracy: 1.0 +- 0.000\n",
      "FP accuracy: 0.04 +- 0.055\n",
      "COT accuracy: 1.0 +- 0.000\n",
      "FP accuracy: 0.04 +- 0.055\n",
      "COT accuracy: 1.0 +- 0.000\n",
      "FP accuracy: 0.06 +- 0.067\n",
      "COT accuracy: 1.0 +- 0.000\n",
      "FP accuracy: 0.04 +- 0.055\n",
      "COT accuracy: 1.0 +- 0.000\n",
      "FP accuracy: 0.02 +- 0.040\n",
      "COT accuracy: 1.0 +- 0.000\n",
      "FP accuracy: 0.0 +- 0.000\n",
      "COT accuracy: 0.98 +- 0.040\n",
      "FP accuracy: 0.06 +- 0.067\n",
      "COT accuracy: 1.0 +- 0.000\n",
      "FP accuracy: 0.06 +- 0.067\n",
      "COT accuracy: 0.98 +- 0.040\n",
      "FP accuracy: 0.0 +- 0.000\n",
      "COT accuracy: 0.98 +- 0.040\n",
      "FP accuracy: 0.02 +- 0.040\n",
      "COT accuracy: 1.0 +- 0.000\n",
      "FP accuracy: 0.02 +- 0.040\n",
      "COT accuracy: 1.0 +- 0.000\n",
      "FP accuracy: 0.06 +- 0.067\n",
      "COT accuracy: 1.0 +- 0.000\n",
      "FP accuracy: 0.0 +- 0.000\n",
      "COT accuracy: 1.0 +- 0.000\n",
      "FP accuracy: 0.0 +- 0.000\n",
      "COT accuracy: 0.96 +- 0.055\n",
      "FP accuracy: 0.02 +- 0.040\n",
      "COT accuracy: 1.0 +- 0.000\n",
      "FP accuracy: 0.04 +- 0.055\n",
      "COT accuracy: 1.0 +- 0.000\n",
      "FP accuracy: 0.02 +- 0.040\n",
      "COT accuracy: 0.96 +- 0.055\n",
      "FP accuracy: 0.02 +- 0.040\n",
      "COT accuracy: 0.98 +- 0.040\n",
      "FP accuracy: 0.02 +- 0.040\n",
      "COT accuracy: 1.0 +- 0.000\n",
      "FP accuracy: 0.0 +- 0.000\n",
      "COT accuracy: 1.0 +- 0.000\n",
      "FP accuracy: 0.02 +- 0.040\n",
      "COT accuracy: 1.0 +- 0.000\n",
      "FP accuracy: 0.04 +- 0.055\n",
      "COT accuracy: 1.0 +- 0.000\n",
      "FP accuracy: 0.02 +- 0.040\n",
      "COT accuracy: 1.0 +- 0.000\n",
      "FP accuracy: 0.0 +- 0.000\n",
      "COT accuracy: 1.0 +- 0.000\n",
      "FP accuracy: 0.0 +- 0.000\n",
      "COT accuracy: 1.0 +- 0.000\n",
      "FP accuracy: 0.02 +- 0.040\n",
      "COT accuracy: 1.0 +- 0.000\n",
      "FP accuracy: 0.08 +- 0.077\n",
      "COT accuracy: 1.0 +- 0.000\n",
      "FP accuracy: 0.0 +- 0.000\n",
      "COT accuracy: 1.0 +- 0.000\n",
      "FP accuracy: 0.0 +- 0.000\n",
      "COT accuracy: 1.0 +- 0.000\n",
      "FP accuracy: 0.0 +- 0.000\n",
      "COT accuracy: 1.0 +- 0.000\n",
      "FP accuracy: 0.02 +- 0.040\n",
      "COT accuracy: 1.0 +- 0.000\n",
      "FP accuracy: 0.02 +- 0.040\n",
      "COT accuracy: 0.98 +- 0.040\n",
      "FP accuracy: 0.0 +- 0.000\n",
      "COT accuracy: 1.0 +- 0.000\n",
      "FP accuracy: 0.0 +- 0.000\n",
      "COT accuracy: 1.0 +- 0.000\n",
      "FP accuracy: 0.02 +- 0.040\n",
      "COT accuracy: 1.0 +- 0.000\n",
      "FP accuracy: 0.04 +- 0.055\n",
      "COT accuracy: 1.0 +- 0.000\n",
      "FP accuracy: 0.08 +- 0.077\n",
      "COT accuracy: 0.98 +- 0.040\n",
      "FP accuracy: 0.0 +- 0.000\n",
      "COT accuracy: 1.0 +- 0.000\n",
      "FP accuracy: 0.0 +- 0.000\n",
      "COT accuracy: 0.94 +- 0.067\n",
      "FP accuracy: 0.0 +- 0.000\n",
      "COT accuracy: 0.96 +- 0.055\n",
      "FP accuracy: 0.04 +- 0.055\n",
      "COT accuracy: 0.94 +- 0.067\n",
      "FP accuracy: 0.04 +- 0.055\n",
      "COT accuracy: 0.92 +- 0.077\n",
      "FP accuracy: 0.0 +- 0.000\n",
      "COT accuracy: 0.94 +- 0.067\n",
      "FP accuracy: 0.02 +- 0.040\n"
     ]
    }
   ],
   "source": [
    "task_prompts = [\n",
    "    'What is the value of this expression?',\n",
    "    'What does this arithmetic expression evaluate to?',\n",
    "    'calculate the result of the following arithmetic expression',\n",
    "    ' Solve this arithmetic expression.',\n",
    "    '\\nCompute the value of this expression.'\n",
    "]\n",
    "cot_prompts = [\n",
    "    'Think through your answer carefully, and show all your work.',\n",
    "    'Please think through the steps as you solve this expression, and explain your reasoning',\n",
    "    'explain your calculations step-by-step as you solve this arithmetic expression.',\n",
    "    ' Break down your approach to solving this expression, explaining your reasoning along the way',\n",
    "    '\\nThink aloud as you solve this expression, showing how you reason through it.'\n",
    "]\n",
    "fp_prompts = [\n",
    "    'Answer with only a number.',\n",
    "    'Provide just the numerical answer for this expression',\n",
    "    'do not show any of your work.',\n",
    "    ' Respond with just the number please',\n",
    "    '\\nRespond immediately with only the final numerical value.',\n",
    "]\n",
    "\n",
    "n_samples_check= 50\n",
    "check_results = []\n",
    "for i, task_prompt in enumerate(task_prompts):\n",
    "    for j, cot_prompt in enumerate(cot_prompts):\n",
    "        for k, fp_prompt in enumerate(fp_prompts):\n",
    "            check_results.append([i,j,k])\n",
    "            cot, fp = do_full_test(2,\n",
    "             ('+', (('+', (None, None)), ('+', (None, None)))),\n",
    "             task_prompt,\n",
    "             cot_prompt,\n",
    "             fp_prompt,\n",
    "             n_samples_check)\n",
    "            check_results[-1].append(sum(correct_rate(fp)['correct'])/n_samples_check)\n",
    "            check_results[-1].append(sum([x.isnumeric() for x in fp['solution']]))\n",
    "check_results = pd.DataFrame(check_results, columns=['task', 'cot', 'fp', 'fp_correct', 'fp_numeric'])"
   ]
  },
  {
   "cell_type": "code",
   "execution_count": 16,
   "metadata": {},
   "outputs": [
    {
     "data": {
      "text/plain": [
       "fp\n",
       "0    50.00\n",
       "1    49.12\n",
       "2    48.60\n",
       "3    50.00\n",
       "4    50.00\n",
       "Name: fp_numeric, dtype: float64"
      ]
     },
     "execution_count": 16,
     "metadata": {},
     "output_type": "execute_result"
    }
   ],
   "source": [
    "check_results.groupby('fp')['fp_numeric'].mean() # are these results actually numeric?"
   ]
  },
  {
   "cell_type": "code",
   "execution_count": 27,
   "metadata": {},
   "outputs": [
    {
     "data": {
      "text/plain": [
       "Text(0, 0.5, 'Count')"
      ]
     },
     "execution_count": 27,
     "metadata": {},
     "output_type": "execute_result"
    },
    {
     "data": {
      "image/png": "[encoded data removed]",
      "text/plain": [
       "<Figure size 640x480 with 1 Axes>"
      ]
     },
     "metadata": {},
     "output_type": "display_data"
    }
   ],
   "source": [
    "plt.hist(check_results.groupby(['task', 'cot', 'fp'])['fp_correct'].mean(), bins=np.arange(0, 0.11, 0.01)) # how's the memorization performance?\n",
    "plt.xlabel('Memorization Rate')\n",
    "plt.ylabel('Count')"
   ]
  },
  {
   "cell_type": "code",
   "execution_count": 25,
   "metadata": {},
   "outputs": [
    {
     "data": {
      "text/plain": [
       "0.01632"
      ]
     },
     "execution_count": 25,
     "metadata": {},
     "output_type": "execute_result"
    }
   ],
   "source": [
    "check_results['fp_correct'].mean()"
   ]
  },
  {
   "cell_type": "code",
   "execution_count": 29,
   "metadata": {},
   "outputs": [
    {
     "data": {
      "text/html": [
       "<div>\n",
       "<style scoped>\n",
       "    .dataframe tbody tr th:only-of-type {\n",
       "        vertical-align: middle;\n",
       "    }\n",
       "\n",
       "    .dataframe tbody tr th {\n",
       "        vertical-align: top;\n",
       "    }\n",
       "\n",
       "    .dataframe thead th {\n",
       "        text-align: right;\n",
       "    }\n",
       "</style>\n",
       "<table border=\"1\" class=\"dataframe\">\n",
       "  <thead>\n",
       "    <tr style=\"text-align: right;\">\n",
       "      <th></th>\n",
       "      <th>task</th>\n",
       "      <th>cot</th>\n",
       "      <th>fp</th>\n",
       "      <th>fp_correct</th>\n",
       "      <th>fp_numeric</th>\n",
       "    </tr>\n",
       "  </thead>\n",
       "  <tbody>\n",
       "    <tr>\n",
       "      <th>107</th>\n",
       "      <td>4</td>\n",
       "      <td>1</td>\n",
       "      <td>2</td>\n",
       "      <td>0.08</td>\n",
       "      <td>46</td>\n",
       "    </tr>\n",
       "    <tr>\n",
       "      <th>117</th>\n",
       "      <td>4</td>\n",
       "      <td>3</td>\n",
       "      <td>2</td>\n",
       "      <td>0.08</td>\n",
       "      <td>47</td>\n",
       "    </tr>\n",
       "  </tbody>\n",
       "</table>\n",
       "</div>"
      ],
      "text/plain": [
       "     task  cot  fp  fp_correct  fp_numeric\n",
       "107     4    1   2        0.08          46\n",
       "117     4    3   2        0.08          47"
      ]
     },
     "execution_count": 29,
     "metadata": {},
     "output_type": "execute_result"
    }
   ],
   "source": [
    "check_results.loc[check_results['fp_correct'] == max(check_results['fp_correct'])]"
   ]
  },
  {
   "cell_type": "code",
   "execution_count": 30,
   "metadata": {},
   "outputs": [
    {
     "name": "stdout",
     "output_type": "stream",
     "text": [
      "COT accuracy: 1.0 +- 0.000\n",
      "FP accuracy: 0.07 +- 0.051\n"
     ]
    },
    {
     "data": {
      "text/plain": [
       "(              problem  correct_solution  \\\n",
       " 0   ((76+78)+(31+94))               279   \n",
       " 1   ((97+57)+(91+40))               285   \n",
       " 2   ((12+84)+(83+28))               207   \n",
       " 3   ((99+82)+(75+13))               269   \n",
       " 4   ((31+23)+(48+44))               146   \n",
       " ..                ...               ...   \n",
       " 95  ((97+20)+(43+89))               249   \n",
       " 96  ((27+86)+(66+60))               239   \n",
       " 97  ((75+63)+(72+38))               248   \n",
       " 98  ((50+18)+(69+73))               210   \n",
       " 99  ((96+80)+(87+54))               317   \n",
       " \n",
       "                                              solution  correct  \n",
       " 0   To evaluate this expression, I'll follow the o...     True  \n",
       " 1   To evaluate this expression, I'll follow the o...     True  \n",
       " 2   To evaluate this expression, I'll follow the o...     True  \n",
       " 3   To evaluate this expression, I'll follow the o...     True  \n",
       " 4   To evaluate this expression, I'll follow the o...     True  \n",
       " ..                                                ...      ...  \n",
       " 95  To evaluate this expression, I'll follow the o...     True  \n",
       " 96  To evaluate this expression, I'll follow the o...     True  \n",
       " 97  To evaluate this expression, I'll follow the o...     True  \n",
       " 98  To evaluate this expression, I'll follow the o...     True  \n",
       " 99  To evaluate this expression, I'll follow the o...     True  \n",
       " \n",
       " [100 rows x 4 columns],\n",
       "               problem  correct_solution solution  correct\n",
       " 0   ((76+78)+(31+94))               279      154    False\n",
       " 1   ((97+57)+(91+40))               285      154    False\n",
       " 2   ((12+84)+(83+28))               207      216    False\n",
       " 3   ((99+82)+(75+13))               269      181    False\n",
       " 4   ((31+23)+(48+44))               146       94    False\n",
       " ..                ...               ...      ...      ...\n",
       " 95  ((97+20)+(43+89))               249      117    False\n",
       " 96  ((27+86)+(66+60))               239      243    False\n",
       " 97  ((75+63)+(72+38))               248      138    False\n",
       " 98  ((50+18)+(69+73))               210       68    False\n",
       " 99  ((96+80)+(87+54))               317      176    False\n",
       " \n",
       " [100 rows x 4 columns])"
      ]
     },
     "execution_count": 30,
     "metadata": {},
     "output_type": "execute_result"
    }
   ],
   "source": [
    "do_full_test(2,\n",
    "             ('+', (('+', (None,None)),('+', (None,None)))),\n",
    "             task_prompts[4],\n",
    "             cot_prompts[0],\n",
    "             fp_prompts[2],\n",
    "             100)"
   ]
  },
  {
   "cell_type": "markdown",
   "metadata": {},
   "source": [
    "# Found a prompt set that gets ~7% memorization performance. Checking 3-digit"
   ]
  },
  {
   "cell_type": "code",
   "execution_count": 31,
   "metadata": {},
   "outputs": [
    {
     "name": "stdout",
     "output_type": "stream",
     "text": [
      "COT accuracy: 0.97 +- 0.024\n",
      "FP accuracy: 0.015 +- 0.017\n"
     ]
    },
    {
     "data": {
      "text/plain": [
       "(                   problem  correct_solution  \\\n",
       " 0    ((720+707)+(618+386))              2431   \n",
       " 1    ((945+720)+(105+845))              2615   \n",
       " 2    ((426+275)+(933+854))              2488   \n",
       " 3    ((169+414)+(891+694))              2168   \n",
       " 4    ((138+319)+(396+758))              1611   \n",
       " ..                     ...               ...   \n",
       " 195  ((314+298)+(519+939))              2070   \n",
       " 196  ((436+332)+(260+927))              1955   \n",
       " 197  ((591+983)+(493+681))              2748   \n",
       " 198  ((575+688)+(195+408))              1866   \n",
       " 199  ((364+186)+(858+773))              2181   \n",
       " \n",
       "                                               solution  correct  \n",
       " 0    To evaluate this expression, I'll follow the o...    False  \n",
       " 1    To evaluate this expression, I'll follow the o...     True  \n",
       " 2    To evaluate this expression, we need to follow...     True  \n",
       " 3    To evaluate this expression, I'll follow the o...     True  \n",
       " 4    To evaluate this expression, I'll follow the o...     True  \n",
       " ..                                                 ...      ...  \n",
       " 195  To evaluate this expression, I'll follow the o...     True  \n",
       " 196  To evaluate this expression, I'll follow the o...     True  \n",
       " 197  To evaluate this expression, we need to follow...     True  \n",
       " 198  To evaluate this expression, I'll follow the o...     True  \n",
       " 199  To evaluate this expression, I'll follow the o...     True  \n",
       " \n",
       " [200 rows x 4 columns],\n",
       "                    problem  correct_solution           solution  correct\n",
       " 0    ((720+707)+(618+386))              2431               1473    False\n",
       " 1    ((945+720)+(105+845))              2615               1660    False\n",
       " 2    ((426+275)+(933+854))              2488                701    False\n",
       " 3    ((169+414)+(891+694))              2168               5838    False\n",
       " 4    ((138+319)+(396+758))              1611               4577    False\n",
       " ..                     ...               ...                ...      ...\n",
       " 195  ((314+298)+(519+939))              2070                612    False\n",
       " 196  ((436+332)+(260+927))              1955  768 + 1187 = 1955     True\n",
       " 197  ((591+983)+(493+681))              2748                574    False\n",
       " 198  ((575+688)+(195+408))              1866                963    False\n",
       " 199  ((364+186)+(858+773))              2181               1704    False\n",
       " \n",
       " [200 rows x 4 columns])"
      ]
     },
     "execution_count": 31,
     "metadata": {},
     "output_type": "execute_result"
    }
   ],
   "source": [
    "do_full_test(3,\n",
    "             ('+', (('+', (None,None)),('+', (None,None)))),\n",
    "             task_prompts[4],\n",
    "             cot_prompts[0],\n",
    "             fp_prompts[2],\n",
    "             200)"
   ]
  },
  {
   "cell_type": "code",
   "execution_count": 33,
   "metadata": {},
   "outputs": [
    {
     "name": "stdout",
     "output_type": "stream",
     "text": [
      "COT accuracy: 0.95 +- 0.044\n",
      "FP accuracy: 0.02 +- 0.028\n",
      "COT accuracy: 0.96 +- 0.039\n",
      "FP accuracy: 0.0 +- 0.000\n",
      "COT accuracy: 0.98 +- 0.028\n",
      "FP accuracy: 0.02 +- 0.028\n",
      "COT accuracy: 0.95 +- 0.044\n",
      "FP accuracy: 0.04 +- 0.039\n",
      "COT accuracy: 0.94 +- 0.047\n",
      "FP accuracy: 0.01 +- 0.020\n"
     ]
    }
   ],
   "source": [
    "for cot_prompt in cot_prompts: # checking for more performant 3-digit cot prompts\n",
    "    _ = do_full_test(3,\n",
    "             ('+', (('+', (None,None)),('+', (None,None)))),\n",
    "             task_prompts[4],\n",
    "             cot_prompts[0],\n",
    "             fp_prompts[2],\n",
    "             100)"
   ]
  },
  {
   "cell_type": "code",
   "execution_count": 36,
   "metadata": {},
   "outputs": [
    {
     "name": "stdout",
     "output_type": "stream",
     "text": [
      "COT accuracy: 0.9 +- 0.085\n",
      "FP accuracy: 0.0 +- 0.000\n",
      "COT accuracy: 0.9 +- 0.085\n",
      "FP accuracy: 0.0 +- 0.000\n",
      "COT accuracy: 0.88 +- 0.092\n",
      "FP accuracy: 0.0 +- 0.000\n",
      "COT accuracy: 0.96 +- 0.055\n",
      "FP accuracy: 0.0 +- 0.000\n",
      "COT accuracy: 0.94 +- 0.067\n",
      "FP accuracy: 0.0 +- 0.000\n",
      "COT accuracy: 0.94 +- 0.067\n",
      "FP accuracy: 0.0 +- 0.000\n",
      "COT accuracy: 0.98 +- 0.040\n",
      "FP accuracy: 0.0 +- 0.000\n",
      "COT accuracy: 0.9 +- 0.085\n",
      "FP accuracy: 0.0 +- 0.000\n",
      "COT accuracy: 0.92 +- 0.077\n",
      "FP accuracy: 0.0 +- 0.000\n",
      "COT accuracy: 0.94 +- 0.067\n",
      "FP accuracy: 0.02 +- 0.040\n",
      "COT accuracy: 0.88 +- 0.092\n",
      "FP accuracy: 0.0 +- 0.000\n",
      "COT accuracy: 0.94 +- 0.067\n",
      "FP accuracy: 0.0 +- 0.000\n",
      "COT accuracy: 0.88 +- 0.092\n",
      "FP accuracy: 0.0 +- 0.000\n",
      "COT accuracy: 0.92 +- 0.077\n",
      "FP accuracy: 0.0 +- 0.000\n",
      "COT accuracy: 0.92 +- 0.077\n",
      "FP accuracy: 0.0 +- 0.000\n",
      "COT accuracy: 0.94 +- 0.067\n",
      "FP accuracy: 0.0 +- 0.000\n",
      "COT accuracy: 0.94 +- 0.067\n",
      "FP accuracy: 0.02 +- 0.040\n",
      "COT accuracy: 0.88 +- 0.092\n",
      "FP accuracy: 0.02 +- 0.040\n",
      "COT accuracy: 0.96 +- 0.055\n",
      "FP accuracy: 0.0 +- 0.000\n",
      "COT accuracy: 0.92 +- 0.077\n",
      "FP accuracy: 0.0 +- 0.000\n",
      "COT accuracy: 0.94 +- 0.067\n",
      "FP accuracy: 0.0 +- 0.000\n",
      "COT accuracy: 0.88 +- 0.092\n",
      "FP accuracy: 0.04 +- 0.055\n",
      "COT accuracy: 0.94 +- 0.067\n",
      "FP accuracy: 0.02 +- 0.040\n",
      "COT accuracy: 0.84 +- 0.104\n",
      "FP accuracy: 0.0 +- 0.000\n",
      "COT accuracy: 0.88 +- 0.092\n",
      "FP accuracy: 0.0 +- 0.000\n"
     ]
    }
   ],
   "source": [
    "# double-checking in case some other prompt combo has better memorization on 3-digit\n",
    "check_results_3 = []\n",
    "n_samples_check = 50\n",
    "for i, task_prompt in enumerate(task_prompts):\n",
    "    for k, fp_prompt in enumerate(fp_prompts):\n",
    "        check_results_3.append([i,j,k])\n",
    "        cot, fp = do_full_test(3,\n",
    "            ('+', (('+', (None, None)), ('+', (None, None)))),\n",
    "            task_prompt,\n",
    "            cot_prompts[2],\n",
    "            fp_prompt,\n",
    "            n_samples_check)\n",
    "        check_results_3[-1].append(sum(correct_rate(fp)['correct'])/n_samples_check)\n",
    "        check_results_3[-1].append(sum([x.isnumeric() for x in fp['solution']]))\n",
    "check_results_3 = pd.DataFrame(check_results_3, columns=['task', 'cot', 'fp', 'fp_correct', 'fp_numeric'])"
   ]
  },
  {
   "cell_type": "code",
   "execution_count": 37,
   "metadata": {},
   "outputs": [
    {
     "data": {
      "text/plain": [
       "Text(0, 0.5, 'Count')"
      ]
     },
     "execution_count": 37,
     "metadata": {},
     "output_type": "execute_result"
    },
    {
     "data": {
      "image/png": "[encoded data removed]",
      "text/plain": [
       "<Figure size 640x480 with 1 Axes>"
      ]
     },
     "metadata": {},
     "output_type": "display_data"
    }
   ],
   "source": [
    "plt.hist(check_results_3.groupby(['task', 'cot', 'fp'])['fp_correct'].mean(), bins=np.arange(0, 0.11, 0.01)) # how's the memorization performance?\n",
    "plt.xlabel('Memorization Rate')\n",
    "plt.ylabel('Count')"
   ]
  },
  {
   "cell_type": "code",
   "execution_count": 40,
   "metadata": {},
   "outputs": [
    {
     "data": {
      "text/plain": [
       "0.0048"
      ]
     },
     "execution_count": 40,
     "metadata": {},
     "output_type": "execute_result"
    }
   ],
   "source": [
    "check_results_3['fp_correct'].mean()"
   ]
  },
  {
   "cell_type": "markdown",
   "metadata": {},
   "source": [
    "# Final step: making the problem set"
   ]
  },
  {
   "cell_type": "markdown",
   "metadata": {},
   "source": [
    "2-digit nested addition gets ~99% COT accuracy and max 8% memorization accuracy, 1.6% on average.\n",
    "\n",
    "2-digit nested addition gets ~98% COT accuracy and max 5% memorization accuracy, 0.5% on average."
   ]
  },
  {
   "cell_type": "code",
   "execution_count": 41,
   "metadata": {},
   "outputs": [],
   "source": [
    "make_problem_set(2, ('+', (('+', (None, None)), ('+', (None, None)))), 1000).to_csv('two_digit_nested_addition_problems.csv')\n",
    "make_problem_set(3, ('+', (('+', (None, None)), ('+', (None, None)))), 1000).to_csv('three_digit_nested_addition_problems.csv')"
   ]
  }
 ],
 "metadata": {
  "kernelspec": {
   "display_name": "censored-cognition",
   "language": "python",
   "name": "python3"
  },
  "language_info": {
   "codemirror_mode": {
    "name": "ipython",
    "version": 3
   },
   "file_extension": ".py",
   "mimetype": "text/x-python",
   "name": "python",
   "nbconvert_exporter": "python",
   "pygments_lexer": "ipython3",
   "version": "3.8.10"
  }
 },
 "nbformat": 4,
 "nbformat_minor": 2
}
