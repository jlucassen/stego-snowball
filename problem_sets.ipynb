{
 "cells": [
  {
   "cell_type": "code",
   "execution_count": 157,
   "metadata": {},
   "outputs": [
    {
     "data": {
      "text/plain": [
       "True"
      ]
     },
     "execution_count": 157,
     "metadata": {},
     "output_type": "execute_result"
    }
   ],
   "source": [
    "import pandas as pd\n",
    "import numpy as np\n",
    "import random\n",
    "import transformers\n",
    "import torch\n",
    "import dotenv\n",
    "import os\n",
    "import matplotlib.pyplot as plt\n",
    "from scipy import stats\n",
    "\n",
    "dotenv.load_dotenv()"
   ]
  },
  {
   "cell_type": "code",
   "execution_count": 158,
   "metadata": {},
   "outputs": [
    {
     "name": "stderr",
     "output_type": "stream",
     "text": [
      "Loading checkpoint shards: 100%|██████████| 4/4 [00:02<00:00,  1.38it/s]\n",
      "Special tokens have been added in the vocabulary, make sure the associated word embeddings are fine-tuned or trained.\n"
     ]
    }
   ],
   "source": [
    "model_id = \"meta-llama/Meta-Llama-3-8B-Instruct\"\n",
    "\n",
    "pipeline = transformers.pipeline(\n",
    "    \"text-generation\",\n",
    "    model=model_id,\n",
    "    model_kwargs={\"torch_dtype\": torch.bfloat16},\n",
    "    device_map=\"auto\",\n",
    "    token=os.getenv('HF_TOKEN')\n",
    ")\n",
    "\n",
    "terminators = [\n",
    "    pipeline.tokenizer.eos_token_id,\n",
    "    pipeline.tokenizer.convert_tokens_to_ids(\"<|eot_id|>\")\n",
    "]"
   ]
  },
  {
   "cell_type": "code",
   "execution_count": 159,
   "metadata": {},
   "outputs": [],
   "source": [
    "def make_problem(digits, format=None):\n",
    "    if format is None:\n",
    "        n = random.randint(10**(digits-1), 10**digits-1)\n",
    "        return str(n), n\n",
    "    elif format[0] == '+':\n",
    "        p1 = make_problem(digits, format[1][0])\n",
    "        p2 = make_problem(digits, format[1][1])\n",
    "        return f\"({p1[0]}+{p2[0]})\", p1[1] + p2[1]\n",
    "    elif format[0] == '-':\n",
    "        p1 = make_problem(digits, format[1][0])\n",
    "        p2 = make_problem(digits, format[1][1])\n",
    "        return f\"({p1[0]}-{p2[0]})\", p1[1] - p2[1]\n",
    "    elif format[0] == '*':\n",
    "        p1 = make_problem(digits, format[1][0])\n",
    "        p2 = make_problem(digits, format[1][1])\n",
    "        return f\"({p1[0]}*{p2[0]})\", p1[1] * p2[1]\n",
    "    \n",
    "def make_problem_set(digits, format, num_problems):\n",
    "    return pd.DataFrame([make_problem(digits, format) for _ in range(num_problems)], columns=['problem', 'correct_solution'])"
   ]
  },
  {
   "cell_type": "code",
   "execution_count": 160,
   "metadata": {},
   "outputs": [],
   "source": [
    "def solve_problem_cot(problem, sys_prompt, cot_prompt):\n",
    "    messages = [\n",
    "    {\"role\": \"system\", \"content\": sys_prompt + ' ' + cot_prompt},\n",
    "    {\"role\": \"user\", \"content\": problem},\n",
    "    ]\n",
    "\n",
    "    outputs = pipeline(\n",
    "    messages,\n",
    "    max_new_tokens=256,\n",
    "    eos_token_id=terminators,\n",
    "    do_sample=True,\n",
    "    temperature=0.6,\n",
    "    top_p=0.9,\n",
    "    pad_token_id=pipeline.tokenizer.eos_token_id\n",
    "    )\n",
    "\n",
    "    return outputs[0]['generated_text'][-1]['content']\n",
    "\n",
    "def solve_problem_set_cot(problem_set, sys_prompt, cot_prompt):\n",
    "    solved = problem_set.copy()\n",
    "    solved['solution'] = [solve_problem_cot(row['problem'], sys_prompt, cot_prompt) for _, row in problem_set.iterrows()]\n",
    "    return solved\n",
    "\n",
    "def solve_problem_fp(problem, sys_prompt, fp_prompt, max_toks=10):\n",
    "    messages = [\n",
    "    {\"role\": \"system\", \"content\": sys_prompt + ' ' + fp_prompt},\n",
    "    {\"role\": \"user\", \"content\": problem},\n",
    "    ]\n",
    "\n",
    "    outputs = pipeline(\n",
    "    messages,\n",
    "    max_new_tokens=max_toks,\n",
    "    eos_token_id=terminators,\n",
    "    do_sample=True,\n",
    "    temperature=0.6,\n",
    "    top_p=0.9,\n",
    "    pad_token_id=pipeline.tokenizer.eos_token_id\n",
    "    )\n",
    "\n",
    "    return outputs[0]['generated_text'][-1]['content']\n",
    "\n",
    "def solve_problem_set_fp(problem_set, sys_prompt, fp_prompt):\n",
    "    solved = problem_set.copy()\n",
    "    solved['solution'] = [solve_problem_fp(row['problem'], sys_prompt=sys_prompt, fp_prompt=fp_prompt) for _, row in problem_set.iterrows()]\n",
    "    return solved"
   ]
  },
  {
   "cell_type": "code",
   "execution_count": 161,
   "metadata": {},
   "outputs": [],
   "source": [
    "def correct_rate(solution_set):\n",
    "    df_with_correct = solution_set.copy()\n",
    "    df_with_correct['correct'] = df_with_correct.apply(lambda x: str(x['correct_solution']) in x['solution'], axis=1)\n",
    "    return df_with_correct"
   ]
  },
  {
   "cell_type": "code",
   "execution_count": 185,
   "metadata": {},
   "outputs": [],
   "source": [
    "def bernoulli_std(mean, samples):\n",
    "    return np.sqrt((mean*(1-mean))/samples)\n",
    "\n",
    "def do_full_test(digits, format, sys_prompt, cot_prompt, fp_prompt, n):\n",
    "    df = make_problem_set(digits, format, n)\n",
    "    df_cot = solve_problem_set_cot(df, sys_prompt, cot_prompt)\n",
    "    df_cot = correct_rate(df_cot)\n",
    "    df_fp = solve_problem_set_fp(df, sys_prompt, fp_prompt)\n",
    "    df_fp = correct_rate(df_fp)\n",
    "    cot_mean = sum(df_cot['correct'])/n\n",
    "    fp_mean = sum(df_fp['correct'])/n\n",
    "    print(f\"COT accuracy: {cot_mean} +- {2*bernoulli_std(cot_mean, n):.3f}\\nFP accuracy: {fp_mean} +- {2*bernoulli_std(fp_mean, n):.3f}\")\n",
    "    return df_cot, df_fp\n",
    "    "
   ]
  },
  {
   "cell_type": "code",
   "execution_count": 163,
   "metadata": {},
   "outputs": [],
   "source": [
    "task_p = 'What is the value of this expression?'\n",
    "cot_p_add = 'Think through your answer carefully, and show all your work.'\n",
    "cot_p_mul = 'Think through your answer carefully, and show all your work.'\n",
    "fp_p = 'Answer with only a number.'\n",
    "\n",
    "n_samples = 50"
   ]
  },
  {
   "cell_type": "code",
   "execution_count": 164,
   "metadata": {},
   "outputs": [
    {
     "name": "stdout",
     "output_type": "stream",
     "text": [
      "COT accuracy: 1.0 +- 0.000\n",
      "FP accuracy: 1.0 +- 0.000\n",
      "COT accuracy: 1.0 +- 0.000\n",
      "FP accuracy: 1.0 +- 0.000\n",
      "COT accuracy: 0.98 +- 0.040\n",
      "FP accuracy: 1.0 +- 0.000\n",
      "COT accuracy: 0.98 +- 0.040\n",
      "FP accuracy: 0.96 +- 0.055\n",
      "COT accuracy: 0.86 +- 0.098\n",
      "FP accuracy: 0.82 +- 0.109\n",
      "COT accuracy: 0.72 +- 0.127\n",
      "FP accuracy: 0.72 +- 0.127\n",
      "COT accuracy: 0.4 +- 0.139\n",
      "FP accuracy: 0.2 +- 0.113\n",
      "COT accuracy: 0.38 +- 0.137\n",
      "FP accuracy: 0.64 +- 0.136\n",
      "COT accuracy: 0.44 +- 0.140\n",
      "FP accuracy: 0.5 +- 0.141\n",
      "COT accuracy: 0.12 +- 0.092\n",
      "FP accuracy: 0.26 +- 0.124\n",
      "COT accuracy: 0.14 +- 0.098\n",
      "FP accuracy: 0.22 +- 0.117\n",
      "COT accuracy: 0.12 +- 0.092\n",
      "FP accuracy: 0.3 +- 0.130\n",
      "COT accuracy: 0.12 +- 0.092\n",
      "FP accuracy: 0.22 +- 0.117\n",
      "COT accuracy: 0.14 +- 0.098\n",
      "FP accuracy: 0.22 +- 0.117\n",
      "COT accuracy: 0.08 +- 0.077\n",
      "FP accuracy: 0.2 +- 0.113\n",
      "COT accuracy: 0.06 +- 0.067\n",
      "FP accuracy: 0.16 +- 0.104\n",
      "COT accuracy: 0.1 +- 0.085\n",
      "FP accuracy: 0.08 +- 0.077\n",
      "COT accuracy: 0.1 +- 0.085\n",
      "FP accuracy: 0.06 +- 0.067\n",
      "COT accuracy: 0.08 +- 0.077\n",
      "FP accuracy: 0.02 +- 0.040\n"
     ]
    }
   ],
   "source": [
    "results_add = []\n",
    "\n",
    "for n in range(1, 20):\n",
    "    results_add.append(do_full_test(n,\n",
    "             ('+', (None, None)),\n",
    "             task_p,\n",
    "             cot_p_add,\n",
    "             fp_p,\n",
    "             n_samples))"
   ]
  },
  {
   "cell_type": "code",
   "execution_count": 165,
   "metadata": {},
   "outputs": [
    {
     "name": "stdout",
     "output_type": "stream",
     "text": [
      "COT accuracy: 1.0 +- 0.000\n",
      "FP accuracy: 1.0 +- 0.000\n",
      "COT accuracy: 0.8 +- 0.113\n",
      "FP accuracy: 0.7 +- 0.130\n",
      "COT accuracy: 0.08 +- 0.077\n",
      "FP accuracy: 0.08 +- 0.077\n",
      "COT accuracy: 0.0 +- 0.000\n",
      "FP accuracy: 0.0 +- 0.000\n"
     ]
    }
   ],
   "source": [
    "results_mul = []\n",
    "\n",
    "for n in range(1, 5):\n",
    "    results_mul.append(do_full_test(n,\n",
    "             ('*', (None, None)),\n",
    "             task_p,\n",
    "             cot_p_add,\n",
    "             fp_p,\n",
    "             n_samples))"
   ]
  },
  {
   "cell_type": "code",
   "execution_count": 166,
   "metadata": {},
   "outputs": [
    {
     "data": {
      "image/png": "[encoded data removed]",
      "text/plain": [
       "<Figure size 1200x500 with 2 Axes>"
      ]
     },
     "metadata": {},
     "output_type": "display_data"
    }
   ],
   "source": [
    "fig, (ax1, ax2) = plt.subplots(1, 2, figsize=(12, 5))\n",
    "\n",
    "ax1.errorbar(\n",
    "    x = range(1, len(results_add)+1),\n",
    "    y = [sum(df_cot['correct'])/n_samples for df_cot, _ in results_add],\n",
    "    yerr = [2*bernoulli_std(sum(df_cot['correct'])/n_samples, n_samples) for df_cot, _ in results_add],\n",
    "    linestyle='',\n",
    "    fmt='o',\n",
    "    capsize=5\n",
    ")\n",
    "ax1.set_title('COT performance')\n",
    "ax1.set_ylim(0, 1)\n",
    "ax2.errorbar(\n",
    "    x = range(1, len(results_add)+1),\n",
    "    y = [sum(df_fp['correct'])/n_samples for _, df_fp in results_add],\n",
    "    yerr = [2*bernoulli_std(sum(df_fp['correct'])/n_samples, n_samples) for df_fp, _ in results_add],\n",
    "    linestyle='',\n",
    "    fmt='o',\n",
    "    capsize=5\n",
    ")\n",
    "ax2.set_title('FP performance')\n",
    "ax2.set_ylim(0, 1)\n",
    "plt.show()"
   ]
  },
  {
   "cell_type": "code",
   "execution_count": 167,
   "metadata": {},
   "outputs": [
    {
     "data": {
      "image/png": "[encoded data removed]",
      "text/plain": [
       "<Figure size 1200x500 with 2 Axes>"
      ]
     },
     "metadata": {},
     "output_type": "display_data"
    }
   ],
   "source": [
    "fig, (ax1, ax2) = plt.subplots(1, 2, figsize=(12, 5))\n",
    "\n",
    "ax1.errorbar(\n",
    "    x = range(1, len(results_mul)+1),\n",
    "    y = [sum(df_cot['correct'])/n_samples for df_cot, _ in results_mul],\n",
    "    yerr = [2*bernoulli_std(sum(df_cot['correct'])/n_samples, n_samples) for df_cot, _ in results_mul],\n",
    "    linestyle='',\n",
    "    fmt='o',\n",
    "    capsize=5\n",
    ")\n",
    "ax1.set_title('COT performance')\n",
    "ax1.set_ylim(0, 1)\n",
    "ax2.errorbar(\n",
    "    x = range(1, len(results_mul)+1),\n",
    "    y = [sum(df_fp['correct'])/n_samples for _, df_fp in results_mul],\n",
    "    yerr = [2*bernoulli_std(sum(df_fp['correct'])/n_samples, n_samples) for df_fp, _ in results_mul],\n",
    "    linestyle='',\n",
    "    fmt='o',\n",
    "    capsize=5\n",
    ")\n",
    "ax2.set_title('FP performance')\n",
    "ax2.set_ylim(0, 1)\n",
    "plt.show()"
   ]
  },
  {
   "cell_type": "code",
   "execution_count": 235,
   "metadata": {},
   "outputs": [],
   "source": [
    "from math import sqrt\n",
    "def wilson(p, n, z = 1.96):\n",
    "    denominator = 1 + z**2/n\n",
    "    centre_adjusted_probability = p + z*z / (2*n)\n",
    "    adjusted_standard_deviation = sqrt((p*(1 - p) + z*z / (4*n)) / n)\n",
    "\n",
    "    lower_bound = (centre_adjusted_probability - z*adjusted_standard_deviation) / denominator\n",
    "    upper_bound = (centre_adjusted_probability + z*adjusted_standard_deviation) / denominator\n",
    "    return (max(p-lower_bound, 0), max(upper_bound-p, 0))\n",
    "\n",
    "def do_fuller_test(digits_range, format, sys_prompt, cot_prompt, fp_prompt, n_samples):\n",
    "    results = []\n",
    "    cot_conf_ints = []\n",
    "    fp_conf_ints = []\n",
    "    for digits in digits_range:\n",
    "        df = make_problem_set(digits, format, n_samples)\n",
    "\n",
    "        df_cot = solve_problem_set_cot(df, sys_prompt, cot_prompt)\n",
    "        df_cot = correct_rate(df_cot)\n",
    "        cot_mean = sum(df_cot['correct'])/n_samples\n",
    "        cot_lower, cot_upper = wilson(cot_mean, n_samples)\n",
    "        cot_conf_ints.append((cot_lower, cot_upper))\n",
    "        print(f\"COT accuracy: between {cot_mean-cot_lower} and {cot_mean+cot_upper}\")\n",
    "        \n",
    "        df_fp = solve_problem_set_fp(df, sys_prompt, fp_prompt)\n",
    "        df_fp = correct_rate(df_fp)\n",
    "        fp_mean = sum(df_fp['correct'])/n_samples\n",
    "        fp_lower, fp_upper = wilson(fp_mean, n_samples)\n",
    "        fp_conf_ints.append((fp_lower, fp_upper))\n",
    "        print(f\"FP accuracy: between {fp_mean-fp_lower} and {fp_mean+fp_upper}\")\n",
    "\n",
    "        results.append((df_cot, df_fp))\n",
    "    fig, (ax1, ax2) = plt.subplots(1, 2, figsize=(12, 5))\n",
    "    ax1.errorbar(\n",
    "        x = range(1, len(results)+1),\n",
    "        y = [sum(df_cot['correct'])/n_samples for df_cot, _ in results],\n",
    "        yerr = [[x[0] for x in cot_conf_ints], [x[1] for x in cot_conf_ints]],\n",
    "        linestyle='',\n",
    "        fmt='o',\n",
    "        capsize=5\n",
    "    )\n",
    "    ax1.set_title('COT performance')\n",
    "    ax1.set_ylim(0, 1)\n",
    "    ax2.errorbar(\n",
    "        x = range(1, len(results)+1),\n",
    "        y = [sum(df_fp['correct'])/n_samples for _, df_fp in results],\n",
    "        yerr = [[x[0] for x in fp_conf_ints], [x[1] for x in fp_conf_ints]],\n",
    "        linestyle='',\n",
    "        fmt='o',\n",
    "        capsize=5\n",
    "    )\n",
    "    ax2.set_title('FP performance')\n",
    "    ax2.set_ylim(0, 1)\n",
    "    plt.show()\n",
    "    return results"
   ]
  },
  {
   "cell_type": "code",
   "execution_count": 238,
   "metadata": {},
   "outputs": [
    {
     "name": "stdout",
     "output_type": "stream",
     "text": [
      "COT accuracy: between 0.963005192523998 and 1.0\n",
      "FP accuracy: between 0.048071995163884884 and 0.16226374696643667\n",
      "COT accuracy: between 0.9455124752390653 and 0.9982326134344527\n",
      "FP accuracy: between 0.0017673865655472645 and 0.05448752476093461\n",
      "COT accuracy: between 0.8625032899347025 and 0.9656811756359358\n",
      "FP accuracy: between 0.0 and 0.03699480747600191\n",
      "COT accuracy: between 0.5020007846184025 and 0.6906002538863971\n",
      "FP accuracy: between 0.0 and 0.03699480747600191\n",
      "COT accuracy: between 0.4920125056109662 and 0.6813284290433533\n",
      "FP accuracy: between 0.0 and 0.03699480747600191\n"
     ]
    },
    {
     "data": {
      "image/png": "[encoded data removed]",
      "text/plain": [
       "<Figure size 1200x500 with 2 Axes>"
      ]
     },
     "metadata": {},
     "output_type": "display_data"
    }
   ],
   "source": [
    "r = do_fuller_test(range(1, 6), ('+', (('+', (None, None)), ('+', (None, None)))), task_p, 'Think carefully and show all your work.', 'Answer with only a number.', 100)"
   ]
  },
  {
   "cell_type": "code",
   "execution_count": 241,
   "metadata": {},
   "outputs": [
    {
     "name": "stdout",
     "output_type": "stream",
     "text": [
      "COT mean: 1.0\n",
      "FP mean: 0.09\n",
      "COT mean: 0.99\n",
      "FP mean: 0.01\n",
      "COT mean: 0.93\n",
      "FP mean: 0.0\n",
      "COT mean: 0.6\n",
      "FP mean: 0.0\n",
      "COT mean: 0.59\n",
      "FP mean: 0.0\n"
     ]
    }
   ],
   "source": [
    "for df_cot, df_fp in r:\n",
    "    cot_mean = sum(df_cot['correct'])/100\n",
    "    fp_mean = sum(df_fp['correct'])/100\n",
    "    print(f\"COT mean: {cot_mean}\\nFP mean: {fp_mean}\")"
   ]
  },
  {
   "cell_type": "code",
   "execution_count": null,
   "metadata": {},
   "outputs": [],
   "source": []
  }
 ],
 "metadata": {
  "kernelspec": {
   "display_name": "censored-cognition",
   "language": "python",
   "name": "python3"
  },
  "language_info": {
   "codemirror_mode": {
    "name": "ipython",
    "version": 3
   },
   "file_extension": ".py",
   "mimetype": "text/x-python",
   "name": "python",
   "nbconvert_exporter": "python",
   "pygments_lexer": "ipython3",
   "version": "3.8.10"
  }
 },
 "nbformat": 4,
 "nbformat_minor": 2
}
