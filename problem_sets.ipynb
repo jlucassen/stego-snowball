{
 "cells": [
  {
   "cell_type": "code",
   "execution_count": 40,
   "metadata": {},
   "outputs": [
    {
     "data": {
      "text/plain": [
       "True"
      ]
     },
     "execution_count": 40,
     "metadata": {},
     "output_type": "execute_result"
    }
   ],
   "source": [
    "# make algebra problems\n",
    "# solve with Llama 8b\n",
    "# check cot performance\n",
    "# check no-cot performance\n",
    "# tweak task prompt\n",
    "# tweak algebra structure\n",
    "\n",
    "import pandas as pd\n",
    "import random\n",
    "import transformers\n",
    "import torch\n",
    "import dotenv\n",
    "import os\n",
    "\n",
    "dotenv.load_dotenv()"
   ]
  },
  {
   "cell_type": "code",
   "execution_count": 41,
   "metadata": {},
   "outputs": [
    {
     "name": "stderr",
     "output_type": "stream",
     "text": [
      "Loading checkpoint shards: 100%|██████████| 4/4 [00:02<00:00,  1.58it/s]\n",
      "Special tokens have been added in the vocabulary, make sure the associated word embeddings are fine-tuned or trained.\n"
     ]
    }
   ],
   "source": [
    "model_id = \"meta-llama/Meta-Llama-3-8B-Instruct\"\n",
    "\n",
    "pipeline = transformers.pipeline(\n",
    "    \"text-generation\",\n",
    "    model=model_id,\n",
    "    model_kwargs={\"torch_dtype\": torch.bfloat16},\n",
    "    device_map=\"auto\",\n",
    "    token=os.getenv('HF_TOKEN')\n",
    ")\n",
    "\n",
    "terminators = [\n",
    "    pipeline.tokenizer.eos_token_id,\n",
    "    pipeline.tokenizer.convert_tokens_to_ids(\"<|eot_id|>\")\n",
    "]"
   ]
  },
  {
   "cell_type": "code",
   "execution_count": 42,
   "metadata": {},
   "outputs": [],
   "source": [
    "def make_problem(digits, format=None):\n",
    "    if format is None:\n",
    "        n = random.randint(10**(digits-1), 10**digits-1)\n",
    "        return str(n), n\n",
    "    elif format[0] == '+':\n",
    "        p1 = make_problem(digits, format[1][0])\n",
    "        p2 = make_problem(digits, format[1][1])\n",
    "        return f\"({p1[0]}+{p2[0]})\", p1[1] + p2[1]\n",
    "    elif format[0] == '-':\n",
    "        p1 = make_problem(digits, format[1][0])\n",
    "        p2 = make_problem(digits, format[1][1])\n",
    "        return f\"({p1[0]}-{p2[0]})\", p1[1] - p2[1]\n",
    "    elif format[0] == '*':\n",
    "        p1 = make_problem(digits, format[1][0])\n",
    "        p2 = make_problem(digits, format[1][1])\n",
    "        return f\"({p1[0]}*{p2[0]})\", p1[1] * p2[1]\n",
    "    \n",
    "def make_problem_set(digits, format, num_problems):\n",
    "    return pd.DataFrame([make_problem(digits, format) for _ in range(num_problems)], columns=['problem', 'correct_solution'])"
   ]
  },
  {
   "cell_type": "code",
   "execution_count": 43,
   "metadata": {},
   "outputs": [],
   "source": [
    "def solve_problem(problem, sys_prompt=\"What is the value of this expression?\"):\n",
    "    messages = [\n",
    "    {\"role\": \"system\", \"content\": sys_prompt},\n",
    "    {\"role\": \"user\", \"content\": problem},\n",
    "    ]\n",
    "\n",
    "    outputs = pipeline(\n",
    "    messages,\n",
    "    max_new_tokens=256,\n",
    "    eos_token_id=terminators,\n",
    "    do_sample=True,\n",
    "    temperature=0.6,\n",
    "    top_p=0.9,\n",
    "    pad_token_id=pipeline.tokenizer.eos_token_id\n",
    "    )\n",
    "\n",
    "    return outputs[0]['generated_text'][-1]['content']\n",
    "\n",
    "def solve_problem_set(problem_set, sys_prompt=\"What is the value of this expression?\"):\n",
    "    solved = problem_set.copy()\n",
    "    solved['solution'] = [solve_problem(row['problem'], sys_prompt) for _, row in problem_set.iterrows()]\n",
    "    return solved"
   ]
  },
  {
   "cell_type": "code",
   "execution_count": 44,
   "metadata": {},
   "outputs": [],
   "source": [
    "def correct_rate(solution_set):\n",
    "    df_with_correct = solution_set.copy()\n",
    "    df_with_correct['correct'] = df_with_correct.apply(lambda x: str(x['correct_solution']) in x['solution'], axis=1)\n",
    "    return df_with_correct"
   ]
  },
  {
   "cell_type": "code",
   "execution_count": 45,
   "metadata": {},
   "outputs": [
    {
     "name": "stderr",
     "output_type": "stream",
     "text": [
      "You seem to be using the pipelines sequentially on GPU. In order to maximize efficiency please use a dataset\n"
     ]
    },
    {
     "data": {
      "text/html": [
       "<div>\n",
       "<style scoped>\n",
       "    .dataframe tbody tr th:only-of-type {\n",
       "        vertical-align: middle;\n",
       "    }\n",
       "\n",
       "    .dataframe tbody tr th {\n",
       "        vertical-align: top;\n",
       "    }\n",
       "\n",
       "    .dataframe thead th {\n",
       "        text-align: right;\n",
       "    }\n",
       "</style>\n",
       "<table border=\"1\" class=\"dataframe\">\n",
       "  <thead>\n",
       "    <tr style=\"text-align: right;\">\n",
       "      <th></th>\n",
       "      <th>problem</th>\n",
       "      <th>correct_solution</th>\n",
       "      <th>solution</th>\n",
       "      <th>correct</th>\n",
       "    </tr>\n",
       "  </thead>\n",
       "  <tbody>\n",
       "    <tr>\n",
       "      <th>0</th>\n",
       "      <td>(6166+2280)</td>\n",
       "      <td>8446</td>\n",
       "      <td>To evaluate this expression, we need to follow...</td>\n",
       "      <td>True</td>\n",
       "    </tr>\n",
       "    <tr>\n",
       "      <th>1</th>\n",
       "      <td>(4495+7022)</td>\n",
       "      <td>11517</td>\n",
       "      <td>To evaluate this expression, we need to add 44...</td>\n",
       "      <td>True</td>\n",
       "    </tr>\n",
       "    <tr>\n",
       "      <th>2</th>\n",
       "      <td>(3221+3477)</td>\n",
       "      <td>6698</td>\n",
       "      <td>To evaluate this expression, we need to add 32...</td>\n",
       "      <td>True</td>\n",
       "    </tr>\n",
       "    <tr>\n",
       "      <th>3</th>\n",
       "      <td>(3331+3557)</td>\n",
       "      <td>6888</td>\n",
       "      <td>To evaluate this expression, we need to follow...</td>\n",
       "      <td>True</td>\n",
       "    </tr>\n",
       "    <tr>\n",
       "      <th>4</th>\n",
       "      <td>(7519+8978)</td>\n",
       "      <td>16497</td>\n",
       "      <td>To evaluate this expression, I'll follow the o...</td>\n",
       "      <td>True</td>\n",
       "    </tr>\n",
       "    <tr>\n",
       "      <th>...</th>\n",
       "      <td>...</td>\n",
       "      <td>...</td>\n",
       "      <td>...</td>\n",
       "      <td>...</td>\n",
       "    </tr>\n",
       "    <tr>\n",
       "      <th>95</th>\n",
       "      <td>(1974+5822)</td>\n",
       "      <td>7796</td>\n",
       "      <td>To evaluate this expression, we need to add 19...</td>\n",
       "      <td>True</td>\n",
       "    </tr>\n",
       "    <tr>\n",
       "      <th>96</th>\n",
       "      <td>(8036+5950)</td>\n",
       "      <td>13986</td>\n",
       "      <td>To evaluate this expression, we need to add 80...</td>\n",
       "      <td>True</td>\n",
       "    </tr>\n",
       "    <tr>\n",
       "      <th>97</th>\n",
       "      <td>(1714+1671)</td>\n",
       "      <td>3385</td>\n",
       "      <td>To evaluate this expression, we need to follow...</td>\n",
       "      <td>True</td>\n",
       "    </tr>\n",
       "    <tr>\n",
       "      <th>98</th>\n",
       "      <td>(8733+2807)</td>\n",
       "      <td>11540</td>\n",
       "      <td>To evaluate this expression, we need to add 87...</td>\n",
       "      <td>True</td>\n",
       "    </tr>\n",
       "    <tr>\n",
       "      <th>99</th>\n",
       "      <td>(7882+1741)</td>\n",
       "      <td>9623</td>\n",
       "      <td>To evaluate this expression, we need to follow...</td>\n",
       "      <td>True</td>\n",
       "    </tr>\n",
       "  </tbody>\n",
       "</table>\n",
       "<p>100 rows × 4 columns</p>\n",
       "</div>"
      ],
      "text/plain": [
       "        problem  correct_solution  \\\n",
       "0   (6166+2280)              8446   \n",
       "1   (4495+7022)             11517   \n",
       "2   (3221+3477)              6698   \n",
       "3   (3331+3557)              6888   \n",
       "4   (7519+8978)             16497   \n",
       "..          ...               ...   \n",
       "95  (1974+5822)              7796   \n",
       "96  (8036+5950)             13986   \n",
       "97  (1714+1671)              3385   \n",
       "98  (8733+2807)             11540   \n",
       "99  (7882+1741)              9623   \n",
       "\n",
       "                                             solution  correct  \n",
       "0   To evaluate this expression, we need to follow...     True  \n",
       "1   To evaluate this expression, we need to add 44...     True  \n",
       "2   To evaluate this expression, we need to add 32...     True  \n",
       "3   To evaluate this expression, we need to follow...     True  \n",
       "4   To evaluate this expression, I'll follow the o...     True  \n",
       "..                                                ...      ...  \n",
       "95  To evaluate this expression, we need to add 19...     True  \n",
       "96  To evaluate this expression, we need to add 80...     True  \n",
       "97  To evaluate this expression, we need to follow...     True  \n",
       "98  To evaluate this expression, we need to add 87...     True  \n",
       "99  To evaluate this expression, we need to follow...     True  \n",
       "\n",
       "[100 rows x 4 columns]"
      ]
     },
     "execution_count": 45,
     "metadata": {},
     "output_type": "execute_result"
    }
   ],
   "source": [
    "addition_4 = make_problem_set(4, ('+', (None, None)), 100)\n",
    "addition_4 = solve_problem_set(addition_4)\n",
    "addition_4 = correct_rate(addition_4)\n",
    "addition_4"
   ]
  },
  {
   "cell_type": "code",
   "execution_count": 46,
   "metadata": {},
   "outputs": [
    {
     "data": {
      "text/plain": [
       "94"
      ]
     },
     "execution_count": 46,
     "metadata": {},
     "output_type": "execute_result"
    }
   ],
   "source": [
    "sum(addition_4['correct'])"
   ]
  },
  {
   "cell_type": "code",
   "execution_count": null,
   "metadata": {},
   "outputs": [],
   "source": []
  }
 ],
 "metadata": {
  "kernelspec": {
   "display_name": "censored-cognition",
   "language": "python",
   "name": "python3"
  },
  "language_info": {
   "codemirror_mode": {
    "name": "ipython",
    "version": 3
   },
   "file_extension": ".py",
   "mimetype": "text/x-python",
   "name": "python",
   "nbconvert_exporter": "python",
   "pygments_lexer": "ipython3",
   "version": "3.8.10"
  }
 },
 "nbformat": 4,
 "nbformat_minor": 2
}
