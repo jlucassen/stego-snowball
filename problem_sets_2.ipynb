{
 "cells": [
  {
   "cell_type": "code",
   "execution_count": 53,
   "metadata": {},
   "outputs": [
    {
     "data": {
      "text/plain": [
       "True"
      ]
     },
     "execution_count": 53,
     "metadata": {},
     "output_type": "execute_result"
    }
   ],
   "source": [
    "import pandas as pd\n",
    "import numpy as np\n",
    "import random\n",
    "import transformers\n",
    "import torch\n",
    "import dotenv\n",
    "import os\n",
    "import matplotlib.pyplot as plt\n",
    "import re\n",
    "import string\n",
    "from tqdm import tqdm\n",
    "\n",
    "dotenv.load_dotenv()"
   ]
  },
  {
   "cell_type": "code",
   "execution_count": 54,
   "metadata": {},
   "outputs": [
    {
     "name": "stderr",
     "output_type": "stream",
     "text": [
      "Loading checkpoint shards: 100%|██████████| 4/4 [00:03<00:00,  1.31it/s]\n"
     ]
    }
   ],
   "source": [
    "model_id = \"meta-llama/Meta-Llama-3-8B-Instruct\"\n",
    "\n",
    "pipeline = transformers.pipeline(\n",
    "    \"text-generation\",\n",
    "    model=model_id,\n",
    "    model_kwargs={\"torch_dtype\": torch.bfloat16},\n",
    "    device_map=\"auto\",\n",
    "    token=os.getenv('HF_TOKEN')\n",
    ")\n",
    "\n",
    "terminators = [\n",
    "    pipeline.tokenizer.eos_token_id,\n",
    "    pipeline.tokenizer.convert_tokens_to_ids(\"<|eot_id|>\")\n",
    "]"
   ]
  },
  {
   "cell_type": "markdown",
   "metadata": {},
   "source": [
    "# Rule 110 Cellular Automaton"
   ]
  },
  {
   "cell_type": "code",
   "execution_count": 55,
   "metadata": {},
   "outputs": [],
   "source": [
    "def make_cellular_problem_set(size, steps, num_problems, boundary='wrap'):\n",
    "    if steps < 3:\n",
    "        raise ValueError(\"Need 3 steps to have a solution and 2 intermediates\")\n",
    "    def int_to_binary_list(n, min_length=8):\n",
    "        binary = bin(n)[2:]  # Convert to binary string and remove '0b' prefix\n",
    "        binary_list = [int(b) for b in binary.zfill(min_length)]  # Pad with zeros if necessary\n",
    "        return binary_list\n",
    "    \n",
    "    dict_110 = {\n",
    "        (0, 0, 0): 0,\n",
    "        (0, 0, 1): 1,\n",
    "        (0, 1, 0): 1,\n",
    "        (0, 1, 1): 1,\n",
    "        (1, 0, 0): 0,\n",
    "        (1, 0, 1): 1,\n",
    "        (1, 1, 0): 1,\n",
    "        (1, 1, 1): 0\n",
    "    }\n",
    "\n",
    "    def rule_110(prev):\n",
    "        next_state = []\n",
    "        for i in range(len(prev)):\n",
    "            left = prev[(i-1) % len(prev)] if boundary == 'wrap' or (i > 0 and i < len(prev)-1) else boundary\n",
    "            center = prev[i]\n",
    "            right = prev[(i+1) % len(prev)] if boundary == 'wrap' or (i > 0 and i < len(prev)-1) else boundary\n",
    "            pattern = (left, center, right)\n",
    "            next_state.append(dict_110[pattern])\n",
    "        return next_state\n",
    "    \n",
    "    def make_rule_110_problem(initial_state, steps):\n",
    "        current_state = initial_state\n",
    "        states = [current_state]\n",
    "        for _ in range(steps):\n",
    "            current_state = rule_110(current_state)\n",
    "            states.append(current_state)\n",
    "        return (''.join(str(x) for x in initial_state),\n",
    "            ''.join(str(x) for x in states[-1]),\n",
    "            ''.join(str(x) for x in states[1]),\n",
    "            ''.join(str(x) for x in states[-2]))\n",
    "\n",
    "    return pd.DataFrame(\n",
    "        [make_rule_110_problem(int_to_binary_list(((i+1)*33581)%(2**(size))), steps) for i in range(num_problems)]\n",
    "        , columns=['problem', 'correct_solution', 'intermediate_1', 'intermediate_2'])"
   ]
  },
  {
   "cell_type": "code",
   "execution_count": 56,
   "metadata": {},
   "outputs": [
    {
     "data": {
      "text/html": [
       "<div>\n",
       "<style scoped>\n",
       "    .dataframe tbody tr th:only-of-type {\n",
       "        vertical-align: middle;\n",
       "    }\n",
       "\n",
       "    .dataframe tbody tr th {\n",
       "        vertical-align: top;\n",
       "    }\n",
       "\n",
       "    .dataframe thead th {\n",
       "        text-align: right;\n",
       "    }\n",
       "</style>\n",
       "<table border=\"1\" class=\"dataframe\">\n",
       "  <thead>\n",
       "    <tr style=\"text-align: right;\">\n",
       "      <th></th>\n",
       "      <th>problem</th>\n",
       "      <th>correct_solution</th>\n",
       "      <th>intermediate_1</th>\n",
       "      <th>intermediate_2</th>\n",
       "    </tr>\n",
       "  </thead>\n",
       "  <tbody>\n",
       "    <tr>\n",
       "      <th>0</th>\n",
       "      <td>1100101101</td>\n",
       "      <td>1001000011</td>\n",
       "      <td>1101111111</td>\n",
       "      <td>1111000001</td>\n",
       "    </tr>\n",
       "    <tr>\n",
       "      <th>1</th>\n",
       "      <td>1001011010</td>\n",
       "      <td>1010000110</td>\n",
       "      <td>1011111110</td>\n",
       "      <td>1110000010</td>\n",
       "    </tr>\n",
       "    <tr>\n",
       "      <th>2</th>\n",
       "      <td>110000111</td>\n",
       "      <td>110110001</td>\n",
       "      <td>110001101</td>\n",
       "      <td>110011111</td>\n",
       "    </tr>\n",
       "    <tr>\n",
       "      <th>3</th>\n",
       "      <td>10110100</td>\n",
       "      <td>10001100</td>\n",
       "      <td>11111100</td>\n",
       "      <td>10000100</td>\n",
       "    </tr>\n",
       "    <tr>\n",
       "      <th>4</th>\n",
       "      <td>1111100001</td>\n",
       "      <td>1011101101</td>\n",
       "      <td>1000100011</td>\n",
       "      <td>1001100111</td>\n",
       "    </tr>\n",
       "    <tr>\n",
       "      <th>...</th>\n",
       "      <td>...</td>\n",
       "      <td>...</td>\n",
       "      <td>...</td>\n",
       "      <td>...</td>\n",
       "    </tr>\n",
       "    <tr>\n",
       "      <th>995</th>\n",
       "      <td>1100010100</td>\n",
       "      <td>1111101100</td>\n",
       "      <td>1100111100</td>\n",
       "      <td>1101100100</td>\n",
       "    </tr>\n",
       "    <tr>\n",
       "      <th>996</th>\n",
       "      <td>1001000001</td>\n",
       "      <td>1001001101</td>\n",
       "      <td>1011000011</td>\n",
       "      <td>1111000111</td>\n",
       "    </tr>\n",
       "    <tr>\n",
       "      <th>997</th>\n",
       "      <td>101101110</td>\n",
       "      <td>100011010</td>\n",
       "      <td>111111010</td>\n",
       "      <td>100001110</td>\n",
       "    </tr>\n",
       "    <tr>\n",
       "      <th>998</th>\n",
       "      <td>10011011</td>\n",
       "      <td>10100011</td>\n",
       "      <td>10111111</td>\n",
       "      <td>11100001</td>\n",
       "    </tr>\n",
       "    <tr>\n",
       "      <th>999</th>\n",
       "      <td>1111001000</td>\n",
       "      <td>1110001000</td>\n",
       "      <td>1001011000</td>\n",
       "      <td>1011111000</td>\n",
       "    </tr>\n",
       "  </tbody>\n",
       "</table>\n",
       "<p>1000 rows × 4 columns</p>\n",
       "</div>"
      ],
      "text/plain": [
       "        problem correct_solution intermediate_1 intermediate_2\n",
       "0    1100101101       1001000011     1101111111     1111000001\n",
       "1    1001011010       1010000110     1011111110     1110000010\n",
       "2     110000111        110110001      110001101      110011111\n",
       "3      10110100         10001100       11111100       10000100\n",
       "4    1111100001       1011101101     1000100011     1001100111\n",
       "..          ...              ...            ...            ...\n",
       "995  1100010100       1111101100     1100111100     1101100100\n",
       "996  1001000001       1001001101     1011000011     1111000111\n",
       "997   101101110        100011010      111111010      100001110\n",
       "998    10011011         10100011       10111111       11100001\n",
       "999  1111001000       1110001000     1001011000     1011111000\n",
       "\n",
       "[1000 rows x 4 columns]"
      ]
     },
     "execution_count": 56,
     "metadata": {},
     "output_type": "execute_result"
    }
   ],
   "source": [
    "make_cellular_problem_set(10, 3, 1000, boundary=0)"
   ]
  },
  {
   "cell_type": "markdown",
   "metadata": {},
   "source": [
    "# SAT"
   ]
  },
  {
   "cell_type": "code",
   "execution_count": 57,
   "metadata": {},
   "outputs": [],
   "source": [
    "from pysat.formula import CNF\n",
    "from pysat.solvers import Glucose3\n",
    "\n",
    "def solve_nsat(clauses):\n",
    "    # Create a CNF formula\n",
    "    cnf = CNF()\n",
    "    for clause in clauses:\n",
    "        cnf.append(clause)\n",
    "\n",
    "    # Create a SAT solver\n",
    "    with Glucose3(bootstrap_with=cnf) as solver:\n",
    "        # Check if the formula is satisfiable\n",
    "        if solver.solve():\n",
    "            return solver.get_model()\n",
    "        else:\n",
    "            return None"
   ]
  },
  {
   "cell_type": "code",
   "execution_count": 58,
   "metadata": {},
   "outputs": [],
   "source": [
    "def make_nsat_problem_set(vars_per_clause, num_clauses, num_problems):\n",
    "    def make_nsat_problem(vars_per_clause, num_clauses):\n",
    "        text_variables = [string.ascii_lowercase[i] for i in range(vars_per_clause)]\n",
    "        text_problem = []\n",
    "        pysat_problem = []\n",
    "        for _ in range(num_clauses):\n",
    "            clause = random.sample(range(vars_per_clause), 3)\n",
    "            signs = [random.choice([-1, 1]) for _ in range(3)]\n",
    "            pysat_clause = [signs[i]*(var+1) for i, var in enumerate(clause)]\n",
    "            pysat_problem.append(pysat_clause)\n",
    "            pysat_solution = solve_nsat(pysat_problem)\n",
    "            if pysat_solution is None:\n",
    "                text_solution = None\n",
    "            else:\n",
    "                text_solution_letters = [f\"{'¬' if var <0 else ''}{text_variables[abs(var)-1]}\" for i, var in enumerate(pysat_solution)]\n",
    "                text_solution = f\"{' ^ '.join(text_solution_letters)}\"\n",
    "\n",
    "            text_clause = [f\"{'¬' if signs[i] == -1 else ''}{text_variables[var]}\" for i, var in enumerate(clause)]\n",
    "            text_problem.append(f\"({' v '.join(text_clause)})\")\n",
    "        return ' ^ '.join(text_problem), text_solution, None, None\n",
    "\n",
    "    return pd.DataFrame(\n",
    "        [make_nsat_problem(vars_per_clause, num_clauses) for _ in range(num_problems)],\n",
    "        columns=['problem', 'correct_solution', 'intermediate_1', 'intermediate_2'])"
   ]
  },
  {
   "cell_type": "code",
   "execution_count": 59,
   "metadata": {},
   "outputs": [
    {
     "data": {
      "text/html": [
       "<div>\n",
       "<style scoped>\n",
       "    .dataframe tbody tr th:only-of-type {\n",
       "        vertical-align: middle;\n",
       "    }\n",
       "\n",
       "    .dataframe tbody tr th {\n",
       "        vertical-align: top;\n",
       "    }\n",
       "\n",
       "    .dataframe thead th {\n",
       "        text-align: right;\n",
       "    }\n",
       "</style>\n",
       "<table border=\"1\" class=\"dataframe\">\n",
       "  <thead>\n",
       "    <tr style=\"text-align: right;\">\n",
       "      <th></th>\n",
       "      <th>problem</th>\n",
       "      <th>correct_solution</th>\n",
       "      <th>intermediate_1</th>\n",
       "      <th>intermediate_2</th>\n",
       "    </tr>\n",
       "  </thead>\n",
       "  <tbody>\n",
       "    <tr>\n",
       "      <th>0</th>\n",
       "      <td>(¬b v c v a) ^ (b v ¬a v ¬c) ^ (c v b v ¬a) ^ ...</td>\n",
       "      <td>¬a ^ b ^ c</td>\n",
       "      <td>None</td>\n",
       "      <td>None</td>\n",
       "    </tr>\n",
       "    <tr>\n",
       "      <th>1</th>\n",
       "      <td>(c v ¬b v a) ^ (a v ¬c v ¬b) ^ (¬c v b v a) ^ ...</td>\n",
       "      <td>None</td>\n",
       "      <td>None</td>\n",
       "      <td>None</td>\n",
       "    </tr>\n",
       "    <tr>\n",
       "      <th>2</th>\n",
       "      <td>(c v ¬a v b) ^ (a v ¬b v c) ^ (c v ¬b v ¬a) ^ ...</td>\n",
       "      <td>None</td>\n",
       "      <td>None</td>\n",
       "      <td>None</td>\n",
       "    </tr>\n",
       "    <tr>\n",
       "      <th>3</th>\n",
       "      <td>(b v ¬a v c) ^ (c v ¬a v ¬b) ^ (c v b v ¬a) ^ ...</td>\n",
       "      <td>None</td>\n",
       "      <td>None</td>\n",
       "      <td>None</td>\n",
       "    </tr>\n",
       "    <tr>\n",
       "      <th>4</th>\n",
       "      <td>(¬a v b v ¬c) ^ (¬a v ¬c v ¬b) ^ (a v ¬c v b) ...</td>\n",
       "      <td>None</td>\n",
       "      <td>None</td>\n",
       "      <td>None</td>\n",
       "    </tr>\n",
       "    <tr>\n",
       "      <th>...</th>\n",
       "      <td>...</td>\n",
       "      <td>...</td>\n",
       "      <td>...</td>\n",
       "      <td>...</td>\n",
       "    </tr>\n",
       "    <tr>\n",
       "      <th>995</th>\n",
       "      <td>(¬a v c v b) ^ (a v c v ¬b) ^ (a v ¬b v c) ^ (...</td>\n",
       "      <td>None</td>\n",
       "      <td>None</td>\n",
       "      <td>None</td>\n",
       "    </tr>\n",
       "    <tr>\n",
       "      <th>996</th>\n",
       "      <td>(c v ¬a v b) ^ (¬c v ¬a v ¬b) ^ (c v ¬b v ¬a) ...</td>\n",
       "      <td>¬a ^ b ^ c</td>\n",
       "      <td>None</td>\n",
       "      <td>None</td>\n",
       "    </tr>\n",
       "    <tr>\n",
       "      <th>997</th>\n",
       "      <td>(a v c v ¬b) ^ (c v ¬b v ¬a) ^ (¬b v a v ¬c) ^...</td>\n",
       "      <td>None</td>\n",
       "      <td>None</td>\n",
       "      <td>None</td>\n",
       "    </tr>\n",
       "    <tr>\n",
       "      <th>998</th>\n",
       "      <td>(a v c v ¬b) ^ (¬c v ¬a v b) ^ (c v b v a) ^ (...</td>\n",
       "      <td>None</td>\n",
       "      <td>None</td>\n",
       "      <td>None</td>\n",
       "    </tr>\n",
       "    <tr>\n",
       "      <th>999</th>\n",
       "      <td>(¬c v b v ¬a) ^ (a v ¬b v c) ^ (b v c v ¬a) ^ ...</td>\n",
       "      <td>None</td>\n",
       "      <td>None</td>\n",
       "      <td>None</td>\n",
       "    </tr>\n",
       "  </tbody>\n",
       "</table>\n",
       "<p>1000 rows × 4 columns</p>\n",
       "</div>"
      ],
      "text/plain": [
       "                                               problem correct_solution  \\\n",
       "0    (¬b v c v a) ^ (b v ¬a v ¬c) ^ (c v b v ¬a) ^ ...       ¬a ^ b ^ c   \n",
       "1    (c v ¬b v a) ^ (a v ¬c v ¬b) ^ (¬c v b v a) ^ ...             None   \n",
       "2    (c v ¬a v b) ^ (a v ¬b v c) ^ (c v ¬b v ¬a) ^ ...             None   \n",
       "3    (b v ¬a v c) ^ (c v ¬a v ¬b) ^ (c v b v ¬a) ^ ...             None   \n",
       "4    (¬a v b v ¬c) ^ (¬a v ¬c v ¬b) ^ (a v ¬c v b) ...             None   \n",
       "..                                                 ...              ...   \n",
       "995  (¬a v c v b) ^ (a v c v ¬b) ^ (a v ¬b v c) ^ (...             None   \n",
       "996  (c v ¬a v b) ^ (¬c v ¬a v ¬b) ^ (c v ¬b v ¬a) ...       ¬a ^ b ^ c   \n",
       "997  (a v c v ¬b) ^ (c v ¬b v ¬a) ^ (¬b v a v ¬c) ^...             None   \n",
       "998  (a v c v ¬b) ^ (¬c v ¬a v b) ^ (c v b v a) ^ (...             None   \n",
       "999  (¬c v b v ¬a) ^ (a v ¬b v c) ^ (b v c v ¬a) ^ ...             None   \n",
       "\n",
       "    intermediate_1 intermediate_2  \n",
       "0             None           None  \n",
       "1             None           None  \n",
       "2             None           None  \n",
       "3             None           None  \n",
       "4             None           None  \n",
       "..             ...            ...  \n",
       "995           None           None  \n",
       "996           None           None  \n",
       "997           None           None  \n",
       "998           None           None  \n",
       "999           None           None  \n",
       "\n",
       "[1000 rows x 4 columns]"
      ]
     },
     "execution_count": 59,
     "metadata": {},
     "output_type": "execute_result"
    }
   ],
   "source": [
    "make_nsat_problem_set(3, 20, 1000)"
   ]
  },
  {
   "cell_type": "markdown",
   "metadata": {},
   "source": [
    "# Dot Product"
   ]
  },
  {
   "cell_type": "code",
   "execution_count": 60,
   "metadata": {},
   "outputs": [],
   "source": [
    "def make_dot_product_problem_set(vec_len, vec_mag, num_problems):\n",
    "    if vec_len < 2:\n",
    "        raise ValueError(\"Need vectors of length 2 or greater to have two intermediates\")\n",
    "    def make_dot_product_problem(vec_len):\n",
    "        a = np.random.randint(-vec_mag, vec_mag, vec_len)\n",
    "        b = np.random.randint(-vec_mag, vec_mag, vec_len)\n",
    "        return (f\"[{', '.join([str(x) for x in a])}] ⋅ [{', '.join([str(x) for x in b])}]\"\n",
    "        , np.dot(a, b)\n",
    "        , a[0]*b[0],\n",
    "        a[-1]*b[-1])\n",
    "\n",
    "    return pd.DataFrame(\n",
    "        [make_dot_product_problem(vec_len) for _ in range(num_problems)],\n",
    "        columns=['problem', 'correct_solution', 'intermediate_1', 'intermediate_2'])"
   ]
  },
  {
   "cell_type": "code",
   "execution_count": 61,
   "metadata": {},
   "outputs": [
    {
     "data": {
      "text/html": [
       "<div>\n",
       "<style scoped>\n",
       "    .dataframe tbody tr th:only-of-type {\n",
       "        vertical-align: middle;\n",
       "    }\n",
       "\n",
       "    .dataframe tbody tr th {\n",
       "        vertical-align: top;\n",
       "    }\n",
       "\n",
       "    .dataframe thead th {\n",
       "        text-align: right;\n",
       "    }\n",
       "</style>\n",
       "<table border=\"1\" class=\"dataframe\">\n",
       "  <thead>\n",
       "    <tr style=\"text-align: right;\">\n",
       "      <th></th>\n",
       "      <th>problem</th>\n",
       "      <th>correct_solution</th>\n",
       "      <th>intermediate_1</th>\n",
       "      <th>intermediate_2</th>\n",
       "    </tr>\n",
       "  </thead>\n",
       "  <tbody>\n",
       "    <tr>\n",
       "      <th>0</th>\n",
       "      <td>[0, 7, 5] ⋅ [1, -2, -9]</td>\n",
       "      <td>-59</td>\n",
       "      <td>0</td>\n",
       "      <td>-45</td>\n",
       "    </tr>\n",
       "    <tr>\n",
       "      <th>1</th>\n",
       "      <td>[-3, -8, -7] ⋅ [9, -10, -3]</td>\n",
       "      <td>74</td>\n",
       "      <td>-27</td>\n",
       "      <td>21</td>\n",
       "    </tr>\n",
       "    <tr>\n",
       "      <th>2</th>\n",
       "      <td>[-3, -3, -9] ⋅ [-6, 8, -9]</td>\n",
       "      <td>75</td>\n",
       "      <td>18</td>\n",
       "      <td>81</td>\n",
       "    </tr>\n",
       "    <tr>\n",
       "      <th>3</th>\n",
       "      <td>[8, -6, 6] ⋅ [-9, -7, -2]</td>\n",
       "      <td>-42</td>\n",
       "      <td>-72</td>\n",
       "      <td>-12</td>\n",
       "    </tr>\n",
       "    <tr>\n",
       "      <th>4</th>\n",
       "      <td>[-1, -1, 0] ⋅ [-6, 5, 1]</td>\n",
       "      <td>1</td>\n",
       "      <td>6</td>\n",
       "      <td>0</td>\n",
       "    </tr>\n",
       "    <tr>\n",
       "      <th>...</th>\n",
       "      <td>...</td>\n",
       "      <td>...</td>\n",
       "      <td>...</td>\n",
       "      <td>...</td>\n",
       "    </tr>\n",
       "    <tr>\n",
       "      <th>995</th>\n",
       "      <td>[-5, -5, -2] ⋅ [3, 8, -1]</td>\n",
       "      <td>-53</td>\n",
       "      <td>-15</td>\n",
       "      <td>2</td>\n",
       "    </tr>\n",
       "    <tr>\n",
       "      <th>996</th>\n",
       "      <td>[7, -10, 7] ⋅ [-7, 8, 2]</td>\n",
       "      <td>-115</td>\n",
       "      <td>-49</td>\n",
       "      <td>14</td>\n",
       "    </tr>\n",
       "    <tr>\n",
       "      <th>997</th>\n",
       "      <td>[-4, -1, -6] ⋅ [2, -6, -3]</td>\n",
       "      <td>16</td>\n",
       "      <td>-8</td>\n",
       "      <td>18</td>\n",
       "    </tr>\n",
       "    <tr>\n",
       "      <th>998</th>\n",
       "      <td>[-4, 8, 1] ⋅ [-1, 2, 4]</td>\n",
       "      <td>24</td>\n",
       "      <td>4</td>\n",
       "      <td>4</td>\n",
       "    </tr>\n",
       "    <tr>\n",
       "      <th>999</th>\n",
       "      <td>[-7, 3, 0] ⋅ [-10, -5, -8]</td>\n",
       "      <td>55</td>\n",
       "      <td>70</td>\n",
       "      <td>0</td>\n",
       "    </tr>\n",
       "  </tbody>\n",
       "</table>\n",
       "<p>1000 rows × 4 columns</p>\n",
       "</div>"
      ],
      "text/plain": [
       "                         problem  correct_solution  intermediate_1  \\\n",
       "0        [0, 7, 5] ⋅ [1, -2, -9]               -59               0   \n",
       "1    [-3, -8, -7] ⋅ [9, -10, -3]                74             -27   \n",
       "2     [-3, -3, -9] ⋅ [-6, 8, -9]                75              18   \n",
       "3      [8, -6, 6] ⋅ [-9, -7, -2]               -42             -72   \n",
       "4       [-1, -1, 0] ⋅ [-6, 5, 1]                 1               6   \n",
       "..                           ...               ...             ...   \n",
       "995    [-5, -5, -2] ⋅ [3, 8, -1]               -53             -15   \n",
       "996     [7, -10, 7] ⋅ [-7, 8, 2]              -115             -49   \n",
       "997   [-4, -1, -6] ⋅ [2, -6, -3]                16              -8   \n",
       "998      [-4, 8, 1] ⋅ [-1, 2, 4]                24               4   \n",
       "999   [-7, 3, 0] ⋅ [-10, -5, -8]                55              70   \n",
       "\n",
       "     intermediate_2  \n",
       "0               -45  \n",
       "1                21  \n",
       "2                81  \n",
       "3               -12  \n",
       "4                 0  \n",
       "..              ...  \n",
       "995               2  \n",
       "996              14  \n",
       "997              18  \n",
       "998               4  \n",
       "999               0  \n",
       "\n",
       "[1000 rows x 4 columns]"
      ]
     },
     "execution_count": 61,
     "metadata": {},
     "output_type": "execute_result"
    }
   ],
   "source": [
    "make_dot_product_problem_set(3, 10, 1000)"
   ]
  },
  {
   "cell_type": "code",
   "execution_count": 62,
   "metadata": {},
   "outputs": [],
   "source": [
    "def solve_problem_cot(problem, sys_prompt, cot_prompt):\n",
    "    messages = [\n",
    "    {\"role\": \"system\", \"content\": sys_prompt + ' ' + cot_prompt},\n",
    "    {\"role\": \"user\", \"content\": problem},\n",
    "    ]\n",
    "\n",
    "    outputs = pipeline(\n",
    "    messages,\n",
    "    max_new_tokens=256,\n",
    "    eos_token_id=terminators,\n",
    "    do_sample=True,\n",
    "    temperature=0.6,\n",
    "    top_p=0.9,\n",
    "    pad_token_id=pipeline.tokenizer.eos_token_id\n",
    "    )\n",
    "\n",
    "    return outputs[0]['generated_text'][-1]['content']\n",
    "\n",
    "def solve_problem_memo(problem, sys_prompt, fp_prompt, max_toks=10): # setting max_toks to 1 because we're doing small digit numbers\n",
    "    messages = [\n",
    "    {\"role\": \"system\", \"content\": sys_prompt + ' ' + fp_prompt},\n",
    "    {\"role\": \"user\", \"content\": problem},\n",
    "    ]\n",
    "\n",
    "    outputs = pipeline(\n",
    "    messages,\n",
    "    max_new_tokens=max_toks,\n",
    "    eos_token_id=terminators,\n",
    "    do_sample=True,\n",
    "    temperature=0.6,\n",
    "    top_p=0.9,\n",
    "    pad_token_id=pipeline.tokenizer.eos_token_id\n",
    "    )\n",
    "\n",
    "    return outputs[0]['generated_text'][-1]['content']"
   ]
  },
  {
   "cell_type": "code",
   "execution_count": 63,
   "metadata": {},
   "outputs": [],
   "source": [
    "problem_prompt = \"What is the dot product of these two vectors?\"\n",
    "cot_prompt = \"Show your work.\"\n",
    "memo_prompt = \"Answer with only a number.\"\n",
    "n=100"
   ]
  },
  {
   "cell_type": "code",
   "execution_count": 64,
   "metadata": {},
   "outputs": [],
   "source": [
    "def dot_test(dot_problems, problem_prompt=problem_prompt, cot_prompt=cot_prompt, memo_prompt=memo_prompt, n=n):\n",
    "    cot_solutions = []\n",
    "    cot_correct = 0\n",
    "    for i, row in tqdm(list(dot_problems.iterrows())[:n]):\n",
    "        cot_solutions.append(solve_problem_cot(row['problem'], problem_prompt, cot_prompt))\n",
    "        cot_correct += str(row['correct_solution']) in cot_solutions[-1]\n",
    "\n",
    "    memo_solutions = []\n",
    "    memo_correct = 0\n",
    "    for i, row in tqdm(list(dot_problems.iterrows())[:n]):\n",
    "        memo_solutions.append(solve_problem_memo(row['problem'], problem_prompt, memo_prompt))\n",
    "        memo_correct += str(row['correct_solution']) in memo_solutions[-1]\n",
    "\n",
    "    print(cot_correct, memo_correct)\n",
    "    return cot_solutions, memo_solutions"
   ]
  },
  {
   "cell_type": "code",
   "execution_count": 65,
   "metadata": {},
   "outputs": [],
   "source": [
    "results = {}"
   ]
  },
  {
   "cell_type": "code",
   "execution_count": 66,
   "metadata": {},
   "outputs": [
    {
     "name": "stderr",
     "output_type": "stream",
     "text": [
      "  0%|          | 0/100 [00:00<?, ?it/s]"
     ]
    },
    {
     "name": "stderr",
     "output_type": "stream",
     "text": [
      "100%|██████████| 100/100 [05:20<00:00,  3.20s/it]\n",
      "100%|██████████| 100/100 [00:17<00:00,  5.68it/s]"
     ]
    },
    {
     "name": "stdout",
     "output_type": "stream",
     "text": [
      "80 5\n"
     ]
    },
    {
     "name": "stderr",
     "output_type": "stream",
     "text": [
      "\n"
     ]
    }
   ],
   "source": [
    "results[(3, 10)] = dot_test(make_dot_product_problem_set(3, 10, n))"
   ]
  },
  {
   "cell_type": "code",
   "execution_count": 71,
   "metadata": {},
   "outputs": [
    {
     "name": "stderr",
     "output_type": "stream",
     "text": [
      "100%|██████████| 100/100 [04:18<00:00,  2.59s/it]\n",
      "100%|██████████| 100/100 [00:13<00:00,  7.35it/s]"
     ]
    },
    {
     "name": "stdout",
     "output_type": "stream",
     "text": [
      "87 26\n"
     ]
    },
    {
     "name": "stderr",
     "output_type": "stream",
     "text": [
      "\n"
     ]
    }
   ],
   "source": [
    "results[(2, 10)] = dot_test(make_dot_product_problem_set(2, 10, n))"
   ]
  },
  {
   "cell_type": "code",
   "execution_count": 67,
   "metadata": {},
   "outputs": [
    {
     "name": "stderr",
     "output_type": "stream",
     "text": [
      "  0%|          | 0/100 [00:00<?, ?it/s]"
     ]
    },
    {
     "name": "stderr",
     "output_type": "stream",
     "text": [
      "100%|██████████| 100/100 [04:13<00:00,  2.53s/it]\n",
      "100%|██████████| 100/100 [00:12<00:00,  8.13it/s]"
     ]
    },
    {
     "name": "stdout",
     "output_type": "stream",
     "text": [
      "90 19\n"
     ]
    },
    {
     "name": "stderr",
     "output_type": "stream",
     "text": [
      "\n"
     ]
    }
   ],
   "source": [
    "results[(2, 20)] = dot_test(make_dot_product_problem_set(2, 20, n))"
   ]
  },
  {
   "cell_type": "code",
   "execution_count": 69,
   "metadata": {},
   "outputs": [
    {
     "name": "stderr",
     "output_type": "stream",
     "text": [
      "100%|██████████| 100/100 [07:20<00:00,  4.41s/it]\n",
      "100%|██████████| 100/100 [00:16<00:00,  6.05it/s]"
     ]
    },
    {
     "name": "stdout",
     "output_type": "stream",
     "text": [
      "70 3\n"
     ]
    },
    {
     "name": "stderr",
     "output_type": "stream",
     "text": [
      "\n"
     ]
    }
   ],
   "source": [
    "results[(5, 10)] = dot_test(make_dot_product_problem_set(5, 10, n))"
   ]
  }
 ],
 "metadata": {
  "kernelspec": {
   "display_name": "censored-cognition",
   "language": "python",
   "name": "python3"
  },
  "language_info": {
   "codemirror_mode": {
    "name": "ipython",
    "version": 3
   },
   "file_extension": ".py",
   "mimetype": "text/x-python",
   "name": "python",
   "nbconvert_exporter": "python",
   "pygments_lexer": "ipython3",
   "version": "3.10.12"
  }
 },
 "nbformat": 4,
 "nbformat_minor": 2
}
