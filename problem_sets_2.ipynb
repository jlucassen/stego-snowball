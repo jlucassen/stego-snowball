{
 "cells": [
  {
   "cell_type": "code",
   "execution_count": 4,
   "metadata": {},
   "outputs": [
    {
     "data": {
      "text/plain": [
       "True"
      ]
     },
     "execution_count": 4,
     "metadata": {},
     "output_type": "execute_result"
    }
   ],
   "source": [
    "import pandas as pd\n",
    "import numpy as np\n",
    "import random\n",
    "import transformers\n",
    "import torch\n",
    "import dotenv\n",
    "import os\n",
    "import matplotlib.pyplot as plt\n",
    "import re\n",
    "import string\n",
    "from tqdm import tqdm\n",
    "\n",
    "dotenv.load_dotenv()"
   ]
  },
  {
   "cell_type": "code",
   "execution_count": 5,
   "metadata": {},
   "outputs": [
    {
     "name": "stderr",
     "output_type": "stream",
     "text": [
      "Loading checkpoint shards: 100%|██████████| 4/4 [00:38<00:00,  9.59s/it]\n"
     ]
    }
   ],
   "source": [
    "model_id = \"meta-llama/Meta-Llama-3-8B-Instruct\"\n",
    "\n",
    "pipeline = transformers.pipeline(\n",
    "    \"text-generation\",\n",
    "    model=model_id,\n",
    "    model_kwargs={\"torch_dtype\": torch.bfloat16},\n",
    "    device_map=\"auto\",\n",
    "    token=os.getenv('HF_TOKEN')\n",
    ")\n",
    "\n",
    "terminators = [\n",
    "    pipeline.tokenizer.eos_token_id,\n",
    "    pipeline.tokenizer.convert_tokens_to_ids(\"<|eot_id|>\")\n",
    "]"
   ]
  },
  {
   "cell_type": "markdown",
   "metadata": {},
   "source": [
    "# Rule 110 Cellular Automaton"
   ]
  },
  {
   "cell_type": "code",
   "execution_count": null,
   "metadata": {},
   "outputs": [],
   "source": [
    "def make_cellular_problem_set(size, steps, num_problems, boundary='wrap'):\n",
    "    if steps < 3:\n",
    "        raise ValueError(\"Need 3 steps to have a solution and 2 intermediates\")\n",
    "    def int_to_binary_list(n, min_length=8):\n",
    "        binary = bin(n)[2:]  # Convert to binary string and remove '0b' prefix\n",
    "        binary_list = [int(b) for b in binary.zfill(min_length)]  # Pad with zeros if necessary\n",
    "        return binary_list\n",
    "    \n",
    "    dict_110 = {\n",
    "        (0, 0, 0): 0,\n",
    "        (0, 0, 1): 1,\n",
    "        (0, 1, 0): 1,\n",
    "        (0, 1, 1): 1,\n",
    "        (1, 0, 0): 0,\n",
    "        (1, 0, 1): 1,\n",
    "        (1, 1, 0): 1,\n",
    "        (1, 1, 1): 0\n",
    "    }\n",
    "\n",
    "    def rule_110(prev):\n",
    "        next_state = []\n",
    "        for i in range(len(prev)):\n",
    "            left = prev[(i-1) % len(prev)] if boundary == 'wrap' or (i > 0 and i < len(prev)-1) else boundary\n",
    "            center = prev[i]\n",
    "            right = prev[(i+1) % len(prev)] if boundary == 'wrap' or (i > 0 and i < len(prev)-1) else boundary\n",
    "            pattern = (left, center, right)\n",
    "            next_state.append(dict_110[pattern])\n",
    "        return next_state\n",
    "    \n",
    "    def make_rule_110_problem(initial_state, steps):\n",
    "        current_state = initial_state\n",
    "        states = [current_state]\n",
    "        for _ in range(steps):\n",
    "            current_state = rule_110(current_state)\n",
    "            states.append(current_state)\n",
    "        return (''.join(str(x) for x in initial_state),\n",
    "            ''.join(str(x) for x in states[-1]),\n",
    "            ''.join(str(x) for x in states[1]),\n",
    "            ''.join(str(x) for x in states[-2]))\n",
    "\n",
    "    return pd.DataFrame(\n",
    "        [make_rule_110_problem(int_to_binary_list(((i+1)*33581)%(2**(size))), steps) for i in range(num_problems)]\n",
    "        , columns=['problem', 'correct_solution', 'intermediate_1', 'intermediate_2'])"
   ]
  },
  {
   "cell_type": "code",
   "execution_count": null,
   "metadata": {},
   "outputs": [],
   "source": [
    "make_cellular_problem_set(10, 3, 1000, boundary=0)"
   ]
  },
  {
   "cell_type": "markdown",
   "metadata": {},
   "source": [
    "# SAT"
   ]
  },
  {
   "cell_type": "code",
   "execution_count": null,
   "metadata": {},
   "outputs": [],
   "source": [
    "from pysat.formula import CNF\n",
    "from pysat.solvers import Glucose3\n",
    "\n",
    "def solve_nsat(clauses):\n",
    "    # Create a CNF formula\n",
    "    cnf = CNF()\n",
    "    for clause in clauses:\n",
    "        cnf.append(clause)\n",
    "\n",
    "    # Create a SAT solver\n",
    "    with Glucose3(bootstrap_with=cnf) as solver:\n",
    "        # Check if the formula is satisfiable\n",
    "        if solver.solve():\n",
    "            return solver.get_model()\n",
    "        else:\n",
    "            return None"
   ]
  },
  {
   "cell_type": "code",
   "execution_count": null,
   "metadata": {},
   "outputs": [],
   "source": [
    "def make_nsat_problem_set(vars_per_clause, num_clauses, num_problems):\n",
    "    def make_nsat_problem(vars_per_clause, num_clauses):\n",
    "        text_variables = [string.ascii_lowercase[i] for i in range(vars_per_clause)]\n",
    "        text_problem = []\n",
    "        pysat_problem = []\n",
    "        for _ in range(num_clauses):\n",
    "            clause = random.sample(range(vars_per_clause), 3)\n",
    "            signs = [random.choice([-1, 1]) for _ in range(3)]\n",
    "            pysat_clause = [signs[i]*(var+1) for i, var in enumerate(clause)]\n",
    "            pysat_problem.append(pysat_clause)\n",
    "            pysat_solution = solve_nsat(pysat_problem)\n",
    "            if pysat_solution is None:\n",
    "                text_solution = None\n",
    "            else:\n",
    "                text_solution_letters = [f\"{'¬' if var <0 else ''}{text_variables[abs(var)-1]}\" for i, var in enumerate(pysat_solution)]\n",
    "                text_solution = f\"{' ^ '.join(text_solution_letters)}\"\n",
    "\n",
    "            text_clause = [f\"{'¬' if signs[i] == -1 else ''}{text_variables[var]}\" for i, var in enumerate(clause)]\n",
    "            text_problem.append(f\"({' v '.join(text_clause)})\")\n",
    "        return ' ^ '.join(text_problem), text_solution, None, None\n",
    "\n",
    "    return pd.DataFrame(\n",
    "        [make_nsat_problem(vars_per_clause, num_clauses) for _ in range(num_problems)],\n",
    "        columns=['problem', 'correct_solution', 'intermediate_1', 'intermediate_2'])"
   ]
  },
  {
   "cell_type": "code",
   "execution_count": null,
   "metadata": {},
   "outputs": [],
   "source": [
    "make_nsat_problem_set(3, 20, 1000)"
   ]
  },
  {
   "cell_type": "markdown",
   "metadata": {},
   "source": [
    "# Dot Product"
   ]
  },
  {
   "cell_type": "code",
   "execution_count": 6,
   "metadata": {},
   "outputs": [],
   "source": [
    "def make_dot_product_problem_set(vec_len, vec_mag, num_problems):\n",
    "    if vec_len < 2:\n",
    "        raise ValueError(\"Need vectors of length 2 or greater to have two intermediates\")\n",
    "    def make_dot_product_problem(vec_len):\n",
    "        a = np.random.randint(0, vec_mag, vec_len)\n",
    "        b = np.random.randint(0, vec_mag, vec_len)\n",
    "        return (f\"[{', '.join([str(x) for x in a])}] ⋅ [{', '.join([str(x) for x in b])}]\"\n",
    "        , np.dot(a, b)\n",
    "        , a[0]*b[0],\n",
    "        a[-1]*b[-1])\n",
    "\n",
    "    return pd.DataFrame(\n",
    "        [make_dot_product_problem(vec_len) for _ in range(num_problems)],\n",
    "        columns=['problem', 'correct_solution', 'intermediate_1', 'intermediate_2'])"
   ]
  },
  {
   "cell_type": "code",
   "execution_count": 7,
   "metadata": {},
   "outputs": [
    {
     "data": {
      "text/html": [
       "<div>\n",
       "<style scoped>\n",
       "    .dataframe tbody tr th:only-of-type {\n",
       "        vertical-align: middle;\n",
       "    }\n",
       "\n",
       "    .dataframe tbody tr th {\n",
       "        vertical-align: top;\n",
       "    }\n",
       "\n",
       "    .dataframe thead th {\n",
       "        text-align: right;\n",
       "    }\n",
       "</style>\n",
       "<table border=\"1\" class=\"dataframe\">\n",
       "  <thead>\n",
       "    <tr style=\"text-align: right;\">\n",
       "      <th></th>\n",
       "      <th>problem</th>\n",
       "      <th>correct_solution</th>\n",
       "      <th>intermediate_1</th>\n",
       "      <th>intermediate_2</th>\n",
       "    </tr>\n",
       "  </thead>\n",
       "  <tbody>\n",
       "    <tr>\n",
       "      <th>0</th>\n",
       "      <td>[7, 7, 8] ⋅ [3, 7, 6]</td>\n",
       "      <td>118</td>\n",
       "      <td>21</td>\n",
       "      <td>48</td>\n",
       "    </tr>\n",
       "    <tr>\n",
       "      <th>1</th>\n",
       "      <td>[7, 3, 4] ⋅ [9, 8, 3]</td>\n",
       "      <td>99</td>\n",
       "      <td>63</td>\n",
       "      <td>12</td>\n",
       "    </tr>\n",
       "    <tr>\n",
       "      <th>2</th>\n",
       "      <td>[2, 9, 8] ⋅ [2, 9, 3]</td>\n",
       "      <td>109</td>\n",
       "      <td>4</td>\n",
       "      <td>24</td>\n",
       "    </tr>\n",
       "    <tr>\n",
       "      <th>3</th>\n",
       "      <td>[3, 1, 4] ⋅ [2, 6, 6]</td>\n",
       "      <td>36</td>\n",
       "      <td>6</td>\n",
       "      <td>24</td>\n",
       "    </tr>\n",
       "    <tr>\n",
       "      <th>4</th>\n",
       "      <td>[2, 4, 8] ⋅ [5, 8, 4]</td>\n",
       "      <td>74</td>\n",
       "      <td>10</td>\n",
       "      <td>32</td>\n",
       "    </tr>\n",
       "    <tr>\n",
       "      <th>...</th>\n",
       "      <td>...</td>\n",
       "      <td>...</td>\n",
       "      <td>...</td>\n",
       "      <td>...</td>\n",
       "    </tr>\n",
       "    <tr>\n",
       "      <th>995</th>\n",
       "      <td>[2, 1, 2] ⋅ [4, 7, 8]</td>\n",
       "      <td>31</td>\n",
       "      <td>8</td>\n",
       "      <td>16</td>\n",
       "    </tr>\n",
       "    <tr>\n",
       "      <th>996</th>\n",
       "      <td>[0, 6, 7] ⋅ [3, 3, 2]</td>\n",
       "      <td>32</td>\n",
       "      <td>0</td>\n",
       "      <td>14</td>\n",
       "    </tr>\n",
       "    <tr>\n",
       "      <th>997</th>\n",
       "      <td>[8, 3, 3] ⋅ [1, 6, 2]</td>\n",
       "      <td>32</td>\n",
       "      <td>8</td>\n",
       "      <td>6</td>\n",
       "    </tr>\n",
       "    <tr>\n",
       "      <th>998</th>\n",
       "      <td>[6, 9, 3] ⋅ [6, 0, 4]</td>\n",
       "      <td>48</td>\n",
       "      <td>36</td>\n",
       "      <td>12</td>\n",
       "    </tr>\n",
       "    <tr>\n",
       "      <th>999</th>\n",
       "      <td>[5, 0, 7] ⋅ [1, 5, 0]</td>\n",
       "      <td>5</td>\n",
       "      <td>5</td>\n",
       "      <td>0</td>\n",
       "    </tr>\n",
       "  </tbody>\n",
       "</table>\n",
       "<p>1000 rows × 4 columns</p>\n",
       "</div>"
      ],
      "text/plain": [
       "                   problem  correct_solution  intermediate_1  intermediate_2\n",
       "0    [7, 7, 8] ⋅ [3, 7, 6]               118              21              48\n",
       "1    [7, 3, 4] ⋅ [9, 8, 3]                99              63              12\n",
       "2    [2, 9, 8] ⋅ [2, 9, 3]               109               4              24\n",
       "3    [3, 1, 4] ⋅ [2, 6, 6]                36               6              24\n",
       "4    [2, 4, 8] ⋅ [5, 8, 4]                74              10              32\n",
       "..                     ...               ...             ...             ...\n",
       "995  [2, 1, 2] ⋅ [4, 7, 8]                31               8              16\n",
       "996  [0, 6, 7] ⋅ [3, 3, 2]                32               0              14\n",
       "997  [8, 3, 3] ⋅ [1, 6, 2]                32               8               6\n",
       "998  [6, 9, 3] ⋅ [6, 0, 4]                48              36              12\n",
       "999  [5, 0, 7] ⋅ [1, 5, 0]                 5               5               0\n",
       "\n",
       "[1000 rows x 4 columns]"
      ]
     },
     "execution_count": 7,
     "metadata": {},
     "output_type": "execute_result"
    }
   ],
   "source": [
    "make_dot_product_problem_set(3, 10, 1000)"
   ]
  },
  {
   "cell_type": "code",
   "execution_count": 8,
   "metadata": {},
   "outputs": [],
   "source": [
    "def solve_problem_cot(problem, sys_prompt, cot_prompt):\n",
    "    messages = [\n",
    "    {\"role\": \"system\", \"content\": sys_prompt + ' ' + cot_prompt},\n",
    "    {\"role\": \"user\", \"content\": problem},\n",
    "    ]\n",
    "\n",
    "    outputs = pipeline(\n",
    "    messages,\n",
    "    max_new_tokens=256,\n",
    "    eos_token_id=terminators,\n",
    "    do_sample=True,\n",
    "    temperature=0.6,\n",
    "    top_p=0.9,\n",
    "    pad_token_id=pipeline.tokenizer.eos_token_id\n",
    "    )\n",
    "\n",
    "    return outputs[0]['generated_text'][-1]['content']\n",
    "\n",
    "def solve_problem_memo(problem, sys_prompt, memo_prompt, max_toks=10): # setting max_toks to 1 because we're doing small digit numbers\n",
    "    messages = [\n",
    "    {\"role\": \"system\", \"content\": sys_prompt + ' ' + memo_prompt},\n",
    "    {\"role\": \"user\", \"content\": problem},\n",
    "    ]\n",
    "\n",
    "    outputs = pipeline(\n",
    "    messages,\n",
    "    max_new_tokens=max_toks,\n",
    "    eos_token_id=terminators,\n",
    "    do_sample=True,\n",
    "    temperature=0.6,\n",
    "    top_p=0.9,\n",
    "    pad_token_id=pipeline.tokenizer.eos_token_id\n",
    "    )\n",
    "\n",
    "    return outputs[0]['generated_text'][-1]['content']"
   ]
  },
  {
   "cell_type": "code",
   "execution_count": 9,
   "metadata": {},
   "outputs": [],
   "source": [
    "problem_prompt = \"What is the dot product of these two vectors?\"\n",
    "cot_prompt = \"Show your work.\"\n",
    "memo_prompt = \"Answer with only a number.\"\n",
    "n=100"
   ]
  },
  {
   "cell_type": "code",
   "execution_count": 10,
   "metadata": {},
   "outputs": [],
   "source": [
    "def dot_test(dot_problems, problem_prompt=problem_prompt, cot_prompt=cot_prompt, memo_prompt=memo_prompt, n=n):\n",
    "    cot_solutions = []\n",
    "    cot_correct = 0\n",
    "    for i, row in tqdm(list(dot_problems.iterrows())[:n]):\n",
    "        cot_solutions.append(solve_problem_cot(row['problem'], problem_prompt, cot_prompt))\n",
    "        cot_correct += str(row['correct_solution']) in cot_solutions[-1]\n",
    "\n",
    "    memo_solutions = []\n",
    "    memo_correct = 0\n",
    "    for i, row in tqdm(list(dot_problems.iterrows())[:n]):\n",
    "        memo_solutions.append(solve_problem_memo(row['problem'], problem_prompt, memo_prompt))\n",
    "        memo_correct += str(row['correct_solution']) in memo_solutions[-1]\n",
    "\n",
    "    print(cot_correct, memo_correct)\n",
    "    return cot_solutions, memo_solutions"
   ]
  },
  {
   "cell_type": "code",
   "execution_count": 14,
   "metadata": {},
   "outputs": [],
   "source": [
    "results = {}"
   ]
  },
  {
   "cell_type": "code",
   "execution_count": null,
   "metadata": {},
   "outputs": [],
   "source": [
    "results[(3, 10)] = dot_test(make_dot_product_problem_set(3, 10, n))"
   ]
  },
  {
   "cell_type": "code",
   "execution_count": null,
   "metadata": {},
   "outputs": [],
   "source": [
    "results[(2, 10)] = dot_test(make_dot_product_problem_set(2, 10, n))"
   ]
  },
  {
   "cell_type": "code",
   "execution_count": null,
   "metadata": {},
   "outputs": [],
   "source": [
    "results[(2, 20)] = dot_test(make_dot_product_problem_set(2, 20, n))"
   ]
  },
  {
   "cell_type": "code",
   "execution_count": null,
   "metadata": {},
   "outputs": [],
   "source": [
    "results[(5, 10)] = dot_test(make_dot_product_problem_set(5, 10, n))"
   ]
  },
  {
   "cell_type": "code",
   "execution_count": 11,
   "metadata": {},
   "outputs": [
    {
     "name": "stderr",
     "output_type": "stream",
     "text": [
      "  9%|▉         | 9/100 [00:02<00:12,  7.27it/s]You seem to be using the pipelines sequentially on GPU. In order to maximize efficiency please use a dataset\n",
      "100%|██████████| 100/100 [00:07<00:00, 12.79it/s]"
     ]
    },
    {
     "name": "stdout",
     "output_type": "stream",
     "text": [
      "100\n",
      "34\n",
      "56\n",
      "22\n",
      "70\n",
      "48\n",
      "28\n",
      "0\n",
      "21\n",
      "16\n",
      "30\n",
      "32\n",
      "42\n",
      "36\n",
      "54\n",
      "35\n",
      "56\n",
      "63\n",
      "18\n",
      "54\n",
      "35\n",
      "18\n",
      "27\n",
      "70\n",
      "30\n",
      "34\n",
      "56\n",
      "35\n",
      "14\n",
      "54\n",
      "36\n",
      "21\n",
      "21\n",
      "42\n",
      "21\n",
      "32\n",
      "63\n",
      "9\n",
      "23\n",
      "48\n",
      "54\n",
      "64\n",
      "60\n",
      "20\n",
      "6\n",
      "32\n",
      "56\n",
      "24\n",
      "24\n",
      "72\n",
      "14\n",
      "30\n",
      "24\n",
      "30\n",
      "20\n",
      "60\n",
      "30\n",
      "70\n",
      "42\n",
      "33\n",
      "5\n",
      "35\n",
      "70\n",
      "48\n",
      "56\n",
      "20\n",
      "34\n",
      "12\n",
      "8\n",
      "0\n",
      "32\n",
      "20\n",
      "26\n",
      "30\n",
      "14\n",
      "72\n",
      "20\n",
      "63\n",
      "42\n",
      "49\n",
      "0\n",
      "35\n",
      "56\n",
      "18\n",
      "21\n",
      "18\n",
      "56\n",
      "32\n",
      "21\n",
      "56\n",
      "33\n",
      "31\n",
      "27\n",
      "24\n",
      "14\n",
      "30\n",
      "6\n",
      "30\n",
      "20\n",
      "14\n",
      "21\n"
     ]
    },
    {
     "name": "stderr",
     "output_type": "stream",
     "text": [
      "\n"
     ]
    }
   ],
   "source": [
    "def repeated_solve_problem_memo(problem, sys_prompt, memo_prompt, max_toks=10, return_retries=False):\n",
    "    soln = solve_problem_memo(problem, sys_prompt, memo_prompt, max_toks=max_toks)\n",
    "    i = 0\n",
    "    while sum([len([n for n in soln if n.isnumeric()]) > 3]):\n",
    "        if i >= 50: # tap out\n",
    "            return soln if not return_retries else (soln, i)\n",
    "        i += 1\n",
    "        print('retrying', i, soln)\n",
    "        soln = solve_problem_memo(problem, sys_prompt, memo_prompt, max_toks=max_toks)\n",
    "    return soln if not return_retries else (soln, i)\n",
    "\n",
    "def test_memo_prompt(memo_prompt):\n",
    "    dot_problems = make_dot_product_problem_set(3, 10, n)\n",
    "    memo_solutions = []\n",
    "    memo_correct = 0\n",
    "    for i, row in tqdm(list(dot_problems.iterrows())[:n]):\n",
    "        memo_solutions.append(repeated_solve_problem_memo(row['problem'], problem_prompt, memo_prompt=memo_prompt, max_toks=20))\n",
    "        memo_correct += str(row['correct_solution']) in memo_solutions[-1]\n",
    "    print(sum([len([n for n in x if n.isnumeric()]) <= 2 for x in memo_solutions]))\n",
    "    print('\\n'.join(memo_solutions))\n",
    "\n",
    "test_memo_prompt(\"\"\"Answer with only a number. Do not do any calculations. For example:\n",
    "                 Problem: [2, 9, -3] ⋅ [-6, -2, -9]\n",
    "                 Solution: -3\n",
    "                 \"\"\")"
   ]
  },
  {
   "cell_type": "code",
   "execution_count": 12,
   "metadata": {},
   "outputs": [],
   "source": [
    "one_shot_true_memo_prompt = \"\"\"Answer with only a number. Do not do any calculations. For example:\n",
    "                 Problem: [2, 9, -3] ⋅ [-6, -2, -9]\n",
    "                 Solution: -3\n",
    "                 \"\"\"\n",
    "\n",
    "one_shot_false_memo_prompt = \"\"\"Answer with only a number. Do not do any calculations. For example:\n",
    "                 Problem: [2, 9, -3] ⋅ [-6, -2, -9]\n",
    "                 Solution: 6\n",
    "                 \"\"\"\n",
    "\n",
    "def test_memo_prompt_correctness(memo_prompt, n):\n",
    "    dot_problems = make_dot_product_problem_set(3, 10, n)\n",
    "    memo_solutions = []\n",
    "    memo_correct = 0\n",
    "    max_retries = 0\n",
    "    for i, row in tqdm(list(dot_problems.iterrows())[:n]):\n",
    "        sol, retries = repeated_solve_problem_memo(row['problem'], problem_prompt, memo_prompt=memo_prompt, max_toks=20, return_retries=True)\n",
    "        memo_solutions.append(sol)\n",
    "        memo_correct += str(row['correct_solution']) in memo_solutions[-1]\n",
    "        max_retries = max(max_retries, retries)\n",
    "    print(f\"Max retries: {max_retries}\")\n",
    "    print(f\"Correctness: {memo_correct}\")"
   ]
  },
  {
   "cell_type": "code",
   "execution_count": 13,
   "metadata": {},
   "outputs": [
    {
     "name": "stderr",
     "output_type": "stream",
     "text": [
      "  0%|          | 0/1000 [00:00<?, ?it/s]"
     ]
    },
    {
     "name": "stderr",
     "output_type": "stream",
     "text": [
      " 93%|█████████▎| 934/1000 [00:57<00:07,  9.12it/s]"
     ]
    },
    {
     "name": "stdout",
     "output_type": "stream",
     "text": [
      "retrying 1 7 + 3 + 0 = 10\n"
     ]
    },
    {
     "name": "stderr",
     "output_type": "stream",
     "text": [
      "100%|██████████| 1000/1000 [01:01<00:00, 16.30it/s]\n"
     ]
    },
    {
     "name": "stdout",
     "output_type": "stream",
     "text": [
      "Max retries: 1\n",
      "Correctness: 59\n"
     ]
    },
    {
     "name": "stderr",
     "output_type": "stream",
     "text": [
      "  4%|▍         | 42/1000 [00:02<00:58, 16.40it/s]"
     ]
    },
    {
     "name": "stdout",
     "output_type": "stream",
     "text": [
      "retrying 1 9 + 6 + 4 = 19\n",
      "retrying 2 9 + 6 + 4 = 19\n",
      "retrying 3 9 + 6 + 4 = 19\n"
     ]
    },
    {
     "name": "stderr",
     "output_type": "stream",
     "text": [
      "  5%|▍         | 46/1000 [00:04<03:07,  5.07it/s]"
     ]
    },
    {
     "name": "stdout",
     "output_type": "stream",
     "text": [
      "retrying 4 9 + 6 + 4 = 19\n"
     ]
    },
    {
     "name": "stderr",
     "output_type": "stream",
     "text": [
      " 40%|███▉      | 396/1000 [00:25<01:06,  9.07it/s]"
     ]
    },
    {
     "name": "stdout",
     "output_type": "stream",
     "text": [
      "retrying 1 9 + 3 + 8 = 20\n"
     ]
    },
    {
     "name": "stderr",
     "output_type": "stream",
     "text": [
      "100%|██████████| 1000/1000 [01:03<00:00, 15.83it/s]"
     ]
    },
    {
     "name": "stdout",
     "output_type": "stream",
     "text": [
      "Max retries: 4\n",
      "Correctness: 47\n"
     ]
    },
    {
     "name": "stderr",
     "output_type": "stream",
     "text": [
      "\n"
     ]
    }
   ],
   "source": [
    "test_memo_prompt_correctness(one_shot_true_memo_prompt, n=1000)\n",
    "test_memo_prompt_correctness(one_shot_false_memo_prompt, n=1000)"
   ]
  },
  {
   "cell_type": "markdown",
   "metadata": {},
   "source": [
    "# Found a useable memo prompt\n",
    "Correct example elicits more reliably\n",
    "Correct example doesn't seem to significantly boost performance"
   ]
  },
  {
   "cell_type": "code",
   "execution_count": 15,
   "metadata": {},
   "outputs": [],
   "source": [
    "results = {}"
   ]
  },
  {
   "cell_type": "code",
   "execution_count": 16,
   "metadata": {},
   "outputs": [
    {
     "name": "stderr",
     "output_type": "stream",
     "text": [
      "  0%|          | 0/100 [00:00<?, ?it/s]"
     ]
    },
    {
     "name": "stderr",
     "output_type": "stream",
     "text": [
      "100%|██████████| 100/100 [05:21<00:00,  3.22s/it]\n",
      "100%|██████████| 100/100 [00:06<00:00, 16.56it/s]"
     ]
    },
    {
     "name": "stdout",
     "output_type": "stream",
     "text": [
      "100 6\n"
     ]
    },
    {
     "name": "stderr",
     "output_type": "stream",
     "text": [
      "\n"
     ]
    }
   ],
   "source": [
    "results[(3, 10)] = dot_test(make_dot_product_problem_set(3, 10, n), memo_prompt=one_shot_true_memo_prompt)"
   ]
  },
  {
   "cell_type": "code",
   "execution_count": 19,
   "metadata": {},
   "outputs": [
    {
     "name": "stderr",
     "output_type": "stream",
     "text": [
      "  0%|          | 0/100 [00:00<?, ?it/s]"
     ]
    },
    {
     "name": "stderr",
     "output_type": "stream",
     "text": [
      "100%|██████████| 100/100 [06:53<00:00,  4.14s/it]\n",
      "100%|██████████| 100/100 [00:06<00:00, 16.65it/s]"
     ]
    },
    {
     "name": "stdout",
     "output_type": "stream",
     "text": [
      "100 0\n"
     ]
    },
    {
     "name": "stderr",
     "output_type": "stream",
     "text": [
      "\n"
     ]
    }
   ],
   "source": [
    "results[(4, 10)] = dot_test(make_dot_product_problem_set(4, 10, n), memo_prompt=one_shot_true_memo_prompt)"
   ]
  },
  {
   "cell_type": "code",
   "execution_count": 20,
   "metadata": {},
   "outputs": [
    {
     "data": {
      "text/plain": [
       "([\"To find the dot product of two vectors, we multiply corresponding elements of the two vectors and add up the results. Here's the step-by-step calculation:\\n\\n[7, 9, 5, 2] ⋅ [9, 7, 1, 4] =?\\n\\n1. Multiply the first elements: 7 × 9 = 63\\n2. Multiply the second elements: 9 × 7 = 63\\n3. Multiply the third elements: 5 × 1 = 5\\n4. Multiply the fourth elements: 2 × 4 = 8\\n5. Add up the results: 63 + 63 + 5 + 8 = 139\\n\\nTherefore, the dot product of the two vectors is 139.\",\n",
       "  'To find the dot product of two vectors, we multiply corresponding elements of the two vectors and add them up.\\n\\nHere are the corresponding elements of the two vectors:\\n\\n* 9 (from the first vector) × 8 (from the second vector) = 72\\n* 4 (from the first vector) × 6 (from the second vector) = 24\\n* 6 (from the first vector) × 4 (from the second vector) = 24\\n* 2 (from the first vector) × 6 (from the second vector) = 12\\n\\nNow, we add up these products:\\n\\n72 + 24 + 24 + 12 = 132\\n\\nSo, the dot product of the two vectors is 132.',\n",
       "  'To find the dot product of two vectors, we multiply corresponding components and sum them up. Here are the steps:\\n\\n[3, 7, 3, 7] ⋅ [9, 7, 3, 5] =?\\n\\n1. Multiply the first components:\\n3 × 9 = 27\\n2. Multiply the second components:\\n7 × 7 = 49\\n3. Multiply the third components:\\n3 × 3 = 9\\n4. Multiply the fourth components:\\n7 × 5 = 35\\n5. Sum up the products:\\n27 + 49 + 9 + 35 = 120\\n\\nTherefore, the dot product of the two vectors is:\\n\\n[3, 7, 3, 7] ⋅ [9, 7, 3, 5] = 120',\n",
       "  'To find the dot product of two vectors, we multiply corresponding components and sum them up. Here are the steps:\\n\\n[2, 6, 4, 2] ⋅ [2, 6, 1, 3] =?\\n\\n1. Multiply the first components:\\n2 × 2 = 4\\n\\n2. Multiply the second components:\\n6 × 6 = 36\\n\\n3. Multiply the third components:\\n4 × 1 = 4\\n\\n4. Multiply the fourth components:\\n2 × 3 = 6\\n\\n5. Add up the results:\\n4 + 36 + 4 + 6 = 50\\n\\nSo, the dot product of the two vectors is 50.',\n",
       "  \"To calculate the dot product of two vectors, we multiply corresponding components and sum the results. Here's the step-by-step calculation:\\n\\n[2, 2, 4, 2] ⋅ [2, 5, 8, 1] =?\\n\\n1. Multiply corresponding components:\\n\\t* 2 × 2 = 4\\n\\t* 2 × 5 = 10\\n\\t* 4 × 8 = 32\\n\\t* 2 × 1 = 2\\n2. Sum the results:\\n\\t* 4 + 10 + 32 + 2 = 48\\n\\nTherefore, the dot product of the two vectors is:\\n\\n[2, 2, 4, 2] ⋅ [2, 5, 8, 1] = 48\",\n",
       "  'To find the dot product of two vectors, we multiply corresponding elements of the two vectors and sum them up.\\n\\nGiven vectors:\\n[8, 7, 3, 3]\\n[5, 3, 2, 0]\\n\\nDot product:\\n(8 × 5) + (7 × 3) + (3 × 2) + (3 × 0)\\n= 40 + 21 + 6 + 0\\n= 67\\n\\nSo, the dot product of the given vectors is 67.',\n",
       "  'To find the dot product of the two vectors, we multiply corresponding elements and sum them up:\\n\\n[3, 4, 6, 5] ⋅ [8, 5, 7, 4] = 3*8 + 4*5 + 6*7 + 5*4\\n\\n= 24 + 20 + 42 + 20\\n\\n= 106\\n\\nSo, the dot product of the two vectors is 106.',\n",
       "  'To calculate the dot product of two vectors, we multiply corresponding elements of the two vectors and sum them up. Here are the steps:\\n\\n[6, 9, 5, 2] ⋅ [6, 6, 5, 9] =?\\n\\n1. Multiply the first elements: 6 × 6 = 36\\n2. Multiply the second elements: 9 × 6 = 54\\n3. Multiply the third elements: 5 × 5 = 25\\n4. Multiply the fourth elements: 2 × 9 = 18\\n5. Sum up the products: 36 + 54 + 25 + 18 = 133\\n\\nSo, the dot product of the two vectors is:\\n\\n[6, 9, 5, 2] ⋅ [6, 6, 5, 9] = 133',\n",
       "  'To calculate the dot product, we multiply corresponding elements of the two vectors and add them up:\\n\\n(8 × 0) + (9 × 7) + (7 × 3) + (7 × 6)\\n= 0 + 63 + 21 + 42\\n= 126\\n\\nSo, the dot product of the two vectors is 126.',\n",
       "  'To find the dot product of two vectors, we multiply corresponding elements of the vectors and then add up the results.\\n\\nThe two vectors are:\\n\\n[0, 8, 3, 2]\\n[4, 0, 9, 5]\\n\\nWe multiply corresponding elements:\\n\\n0 × 4 = 0\\n8 × 0 = 0\\n3 × 9 = 27\\n2 × 5 = 10\\n\\nThen, we add up the results:\\n\\n0 + 0 + 27 + 10 = 37\\n\\nSo, the dot product of the two vectors is 37.',\n",
       "  \"To find the dot product of two vectors, we multiply corresponding elements of the vectors and sum them up. Here's the step-by-step calculation:\\n\\n[3, 5, 4, 6] ⋅ [8, 9, 5, 8] =?\\n\\n1. Multiply corresponding elements:\\n\\t* 3 × 8 = 24\\n\\t* 5 × 9 = 45\\n\\t* 4 × 5 = 20\\n\\t* 6 × 8 = 48\\n2. Sum up the products:\\n\\t* 24 + 45 + 20 + 48 = 137\\n\\nTherefore, the dot product of the two vectors is:\\n\\n[3, 5, 4, 6] ⋅ [8, 9, 5, 8] = 137\",\n",
       "  'To find the dot product of two vectors, we multiply corresponding elements and sum them up.\\n\\nThe given vectors are:\\n\\n[0, 9, 5, 1] and [8, 1, 5, 8]\\n\\nFirst, we multiply corresponding elements:\\n\\n0 × 8 = 0\\n9 × 1 = 9\\n5 × 5 = 25\\n1 × 8 = 8\\n\\nNow, we sum up the products:\\n\\n0 + 9 + 25 + 8 = 42\\n\\nSo, the dot product of the two vectors is 42.',\n",
       "  'To find the dot product of two vectors, we multiply corresponding elements and sum them up. Here are the steps:\\n\\n[8, 6, 1, 3] ⋅ [5, 6, 8, 6] =?\\n\\n1. Multiply the first elements: 8 × 5 = 40\\n2. Multiply the second elements: 6 × 6 = 36\\n3. Multiply the third elements: 1 × 8 = 8\\n4. Multiply the fourth elements: 3 × 6 = 18\\n5. Sum up the products: 40 + 36 + 8 + 18 = 102\\n\\nSo, the dot product of the two vectors is:\\n\\n[8, 6, 1, 3] ⋅ [5, 6, 8, 6] = 102',\n",
       "  \"To find the dot product of two vectors, we multiply corresponding components and sum them up. Here's the step-by-step calculation:\\n\\n[1, 1, 1, 5] ⋅ [7, 5, 2, 2] =?\\n\\n1 × 7 = 7\\n1 × 5 = 5\\n1 × 2 = 2\\n5 × 2 = 10\\n\\nAdd up the products:\\n\\n7 + 5 + 2 + 10 = 24\\n\\nSo, the dot product of the two vectors is 24.\",\n",
       "  'To find the dot product of two vectors, we multiply corresponding elements and sum them up. Here are the steps:\\n\\n[1, 2, 3, 8] ⋅ [9, 7, 2, 6] =?\\n\\n1. Multiply the first elements: 1 × 9 = 9\\n2. Multiply the second elements: 2 × 7 = 14\\n3. Multiply the third elements: 3 × 2 = 6\\n4. Multiply the fourth elements: 8 × 6 = 48\\n5. Add up the results: 9 + 14 + 6 + 48 = 77\\n\\nTherefore, the dot product of the two vectors is:\\n\\n[1, 2, 3, 8] ⋅ [9, 7, 2, 6] = 77',\n",
       "  'To calculate the dot product of two vectors, we multiply corresponding elements of the two vectors and add up the results.\\n\\nThe two vectors are:\\n\\n[6, 1, 5, 5] and [8, 8, 2, 5]\\n\\nWe multiply corresponding elements:\\n\\n6 × 8 = 48\\n1 × 8 = 8\\n5 × 2 = 10\\n5 × 5 = 25\\n\\nAdd up the results:\\n\\n48 + 8 + 10 + 25 = 91\\n\\nSo, the dot product of the two vectors is:\\n\\n[6, 1, 5, 5] ⋅ [8, 8, 2, 5] = 91',\n",
       "  'To find the dot product of two vectors, we multiply corresponding components and sum them up. Here are the steps:\\n\\n[6, 7, 3, 4] ⋅ [3, 6, 5, 6] =?\\n\\n1. Multiply corresponding components:\\n\\t* 6 × 3 = 18\\n\\t* 7 × 6 = 42\\n\\t* 3 × 5 = 15\\n\\t* 4 × 6 = 24\\n2. Sum up the products:\\n\\t* 18 + 42 + 15 + 24 = 99\\n\\nSo, the dot product of the two vectors is:\\n\\n[6, 7, 3, 4] ⋅ [3, 6, 5, 6] = 99',\n",
       "  'To find the dot product of two vectors, we multiply corresponding elements of the vectors and then add up the results.\\n\\nHere are the vectors:\\n\\n[9, 8, 6, 0]\\n[4, 9, 8, 5]\\n\\nWe multiply corresponding elements:\\n\\n9 × 4 = 36\\n8 × 9 = 72\\n6 × 8 = 48\\n0 × 5 = 0\\n\\nAdd up the results:\\n\\n36 + 72 + 48 + 0 = 156\\n\\nSo, the dot product of the two vectors is 156.',\n",
       "  \"To find the dot product of two vectors, we multiply corresponding elements and add them up. Here's the step-by-step calculation:\\n\\n[2, 4, 9, 7] ⋅ [8, 4, 0, 8] =?\\n\\n1. Multiply the first elements: 2 × 8 = 16\\n2. Multiply the second elements: 4 × 4 = 16\\n3. Multiply the third elements: 9 × 0 = 0\\n4. Multiply the fourth elements: 7 × 8 = 56\\n5. Add up the products: 16 + 16 + 0 + 56 = 88\\n\\nTherefore, the dot product of the two vectors is 88.\",\n",
       "  \"To find the dot product of two vectors, we multiply corresponding components and sum them up.\\n\\nLet's do it:\\n\\n[0, 4, 5, 0] ⋅ [4, 9, 0, 5] =?\\n\\n= 0 × 4 + 4 × 9 + 5 × 0 + 0 × 5\\n= 0 + 36 + 0 + 0\\n= 36\\n\\nSo, the dot product of the two vectors is 36.\",\n",
       "  'To find the dot product of two vectors, we multiply corresponding elements of the two vectors and sum them up.\\n\\nVector 1: [2, 2, 2, 1]\\nVector 2: [2, 7, 9, 0]\\n\\nDot product = (2*2) + (2*7) + (2*9) + (1*0)\\n= 4 + 14 + 18 + 0\\n= 36\\n\\nSo, the dot product of the two vectors is 36.',\n",
       "  'To find the dot product of two vectors, we multiply corresponding components and sum them up.\\n\\nGiven vectors:\\n[4, 1, 4, 1]\\n[6, 1, 8, 7]\\n\\nDot product:\\n(4*6) + (1*1) + (4*8) + (1*7)\\n= 24 + 1 + 32 + 7\\n= 64\\n\\nSo, the dot product of the given vectors is 64.',\n",
       "  \"To find the dot product of the two vectors, we need to multiply corresponding elements and then add them up. Here's the step-by-step calculation:\\n\\n[0, 5, 1, 6] ⋅ [3, 2, 2, 8] =?\\n\\n= 0 × 3 + 5 × 2 + 1 × 2 + 6 × 8\\n= 0 + 10 + 2 + 48\\n= 60\\n\\nSo, the dot product of the two vectors is 60.\",\n",
       "  'To find the dot product of two vectors, we multiply corresponding elements of the two vectors and add them up. Here are the steps:\\n\\n[1, 8, 3, 0] ⋅ [4, 4, 8, 7] =?\\n\\n1. Multiply the first elements: 1 × 4 = 4\\n2. Multiply the second elements: 8 × 4 = 32\\n3. Multiply the third elements: 3 × 8 = 24\\n4. Multiply the fourth elements: 0 × 7 = 0\\n5. Add up the results: 4 + 32 + 24 + 0 = 60\\n\\nTherefore, the dot product of the two vectors is 60.',\n",
       "  'To find the dot product of two vectors, we multiply corresponding elements and sum them up. Here are the steps:\\n\\n[6, 8, 4, 6] ⋅ [9, 7, 7, 5] =?\\n\\n1. Multiply the first elements:\\n6 × 9 = 54\\n\\n2. Multiply the second elements:\\n8 × 7 = 56\\n\\n3. Multiply the third elements:\\n4 × 7 = 28\\n\\n4. Multiply the fourth elements:\\n6 × 5 = 30\\n\\n5. Add up the results:\\n54 + 56 + 28 + 30 = 168\\n\\nTherefore, the dot product of the two vectors is:\\n\\n[6, 8, 4, 6] ⋅ [9, 7, 7, 5] = 168',\n",
       "  'To calculate the dot product, we multiply corresponding elements of the two vectors and sum them up:\\n\\n(9 × 6) + (5 × 8) + (3 × 3) + (3 × 6)\\n\\n= 54 + 40 + 9 + 18\\n\\n= 121\\n\\nSo, the dot product of the two vectors is 121.',\n",
       "  'To calculate the dot product, we multiply corresponding elements of the two vectors and add them up:\\n\\n[0, 2, 9, 3] ⋅ [3, 0, 0, 2] = 0*3 + 2*0 + 9*0 + 3*2\\n= 0 + 0 + 0 + 6\\n= 6\\n\\nSo the dot product is 6.',\n",
       "  'To find the dot product of the two vectors, we multiply corresponding components and sum them up:\\n\\n[3, 4, 5, 5] ⋅ [7, 7, 7, 1] =?\\n\\n= (3 × 7) + (4 × 7) + (5 × 7) + (5 × 1)\\n= 21 + 28 + 35 + 5\\n= 89\\n\\nSo, the dot product of the two vectors is 89.',\n",
       "  'To find the dot product of two vectors, we multiply corresponding elements and add them up. Here are the steps:\\n\\n[2, 0, 4, 0] ⋅ [1, 8, 3, 3] =?\\n\\n1. Multiply corresponding elements:\\n\\t* 2 × 1 = 2\\n\\t* 0 × 8 = 0\\n\\t* 4 × 3 = 12\\n\\t* 0 × 3 = 0\\n\\n2. Add up the products:\\n\\t* 2 + 0 + 12 + 0 = 14\\n\\nSo, the dot product of the two vectors is 14.',\n",
       "  \"To find the dot product of two vectors, we multiply corresponding elements of the two vectors and add them up. Here's the step-by-step calculation:\\n\\n[7, 9, 4, 4] ⋅ [3, 5, 3, 8] =?\\n\\n1. Multiply the first elements: 7 × 3 = 21\\n2. Multiply the second elements: 9 × 5 = 45\\n3. Multiply the third elements: 4 × 3 = 12\\n4. Multiply the fourth elements: 4 × 8 = 32\\n5. Add up the products: 21 + 45 + 12 + 32 = 110\\n\\nSo, the dot product of the two vectors is:\\n\\n[7, 9, 4, 4] ⋅ [3, 5, 3, 8] = 110\",\n",
       "  \"To find the dot product of two vectors, we multiply corresponding elements of the vectors and sum them up.\\n\\nLet's do it step by step:\\n\\n[5, 2, 0, 6] ⋅ [5, 2, 0, 8] =?\\n\\n1. Multiply the first elements: 5 × 5 = 25\\n2. Multiply the second elements: 2 × 2 = 4\\n3. Multiply the third elements: 0 × 0 = 0\\n4. Multiply the fourth elements: 6 × 8 = 48\\n\\nNow, add up the results:\\n\\n25 + 4 + 0 + 48 = 77\\n\\nSo, the dot product of the two vectors is:\\n\\n[5, 2, 0, 6] ⋅ [5, 2, 0, 8] = 77\",\n",
       "  \"To find the dot product of two vectors, we multiply corresponding components and sum them up. Here's the step-by-step calculation:\\n\\n[9, 3, 0, 3] ⋅ [7, 1, 5, 0] =?\\n\\n1. Multiply the first components: 9 × 7 = 63\\n2. Multiply the second components: 3 × 1 = 3\\n3. Multiply the third components: 0 × 5 = 0\\n4. Multiply the fourth components: 3 × 0 = 0\\n5. Sum up the products: 63 + 3 + 0 + 0 = 66\\n\\nTherefore, the dot product of the two vectors is:\\n\\n[9, 3, 0, 3] ⋅ [7, 1, 5, 0] = 66\",\n",
       "  'To calculate the dot product of two vectors, we multiply corresponding components and sum them up. Here are the steps:\\n\\n[1, 9, 9, 6] ⋅ [3, 7, 8, 3] =?\\n\\n1. Multiply the first components:\\n1 × 3 = 3\\n\\n2. Multiply the second components:\\n9 × 7 = 63\\n\\n3. Multiply the third components:\\n9 × 8 = 72\\n\\n4. Multiply the fourth components:\\n6 × 3 = 18\\n\\n5. Sum up the results:\\n3 + 63 + 72 + 18 = 156\\n\\nSo, the dot product of the two vectors is 156.',\n",
       "  'To find the dot product of two vectors, we multiply corresponding components and add them up.\\n\\nVector 1: [8, 3, 8, 5]\\nVector 2: [2, 2, 0, 0]\\n\\nDot product = (8 × 2) + (3 × 2) + (8 × 0) + (5 × 0)\\n= 16 + 6 + 0 + 0\\n= 22\\n\\nSo, the dot product of the two vectors is 22.',\n",
       "  \"To find the dot product of the two vectors, we need to multiply corresponding components and add them up. Here's the step-by-step calculation:\\n\\n[8, 7, 2, 0] ⋅ [4, 3, 1, 0] =?\\n\\n1. Multiply the first components: 8 × 4 = 32\\n2. Multiply the second components: 7 × 3 = 21\\n3. Multiply the third components: 2 × 1 = 2\\n4. Multiply the fourth components: 0 × 0 = 0 (since 0 multiplied by anything is 0)\\n5. Add up the results: 32 + 21 + 2 + 0 = 55\\n\\nTherefore, the dot product of the two vectors is:\\n\\n[8, 7, 2, 0] ⋅ [4, 3, 1, 0] = 55\",\n",
       "  \"To find the dot product of two vectors, we multiply corresponding elements of the two vectors and add up the results. Here's the calculation:\\n\\n[7, 7, 1, 5] ⋅ [6, 4, 3, 1] =?\\n\\n1. Multiply the first elements: 7 × 6 = 42\\n2. Multiply the second elements: 7 × 4 = 28\\n3. Multiply the third elements: 1 × 3 = 3\\n4. Multiply the fourth elements: 5 × 1 = 5\\n5. Add up the results: 42 + 28 + 3 + 5 = 78\\n\\nTherefore, the dot product of the two vectors is:\\n\\n[7, 7, 1, 5] ⋅ [6, 4, 3, 1] = 78\",\n",
       "  \"To calculate the dot product of two vectors, we multiply corresponding elements of the vectors and sum the results. Here's the step-by-step calculation:\\n\\n[5, 5, 0, 1] ⋅ [3, 2, 6, 1] =?\\n\\n1. Multiply corresponding elements:\\n\\t* 5 × 3 = 15\\n\\t* 5 × 2 = 10\\n\\t* 0 × 6 = 0\\n\\t* 1 × 1 = 1\\n2. Sum the results:\\n\\t15 + 10 + 0 + 1 = 26\\n\\nSo, the dot product of the two vectors is:\\n\\n[5, 5, 0, 1] ⋅ [3, 2, 6, 1] = 26\",\n",
       "  'To find the dot product of two vectors, we multiply corresponding elements and sum them up. Here are the steps:\\n\\n[7, 3, 8, 8] ⋅ [7, 1, 6, 9] =?\\n\\n1. Multiply corresponding elements:\\n\\t* 7 × 7 = 49\\n\\t* 3 × 1 = 3\\n\\t* 8 × 6 = 48\\n\\t* 8 × 9 = 72\\n2. Sum up the products:\\n\\t* 49 + 3 + 48 + 72 = 172\\n\\nTherefore, the dot product of the two vectors is:\\n\\n[7, 3, 8, 8] ⋅ [7, 1, 6, 9] = 172',\n",
       "  'To find the dot product of two vectors, we multiply corresponding components and sum them up. Here are the steps:\\n\\n[6, 9, 7, 1] ⋅ [1, 6, 7, 5] =?\\n\\n1. Multiply corresponding components:\\n    * 6 × 1 = 6\\n    * 9 × 6 = 54\\n    * 7 × 7 = 49\\n    * 1 × 5 = 5\\n\\n2. Sum up the products:\\n    6 + 54 + 49 + 5 = 114\\n\\nTherefore, the dot product of the two vectors is:\\n\\n[6, 9, 7, 1] ⋅ [1, 6, 7, 5] = 114',\n",
       "  'To find the dot product of two vectors, we multiply corresponding elements and sum them up.\\n\\nVector 1: [6, 0, 1, 6]\\nVector 2: [0, 6, 6, 6]\\n\\nDot product = 6*0 + 0*6 + 1*6 + 6*6\\n= 0 + 0 + 6 + 36\\n= 42\\n\\nSo, the dot product of the two vectors is 42.',\n",
       "  'To find the dot product of the two vectors, we multiply corresponding elements and add them up:\\n\\n[4, 1, 4, 3] ⋅ [6, 3, 7, 0] = 4 × 6 + 1 × 3 + 4 × 7 + 3 × 0\\n= 24 + 3 + 28 + 0\\n= 55\\n\\nSo, the dot product of the two vectors is 55.',\n",
       "  'To find the dot product of two vectors, we multiply corresponding components and sum them up. Here are the steps:\\n\\n[9, 9, 3, 6] ⋅ [8, 9, 9, 0] =?\\n\\n1. Multiply corresponding components:\\n\\t* 9 × 8 = 72\\n\\t* 9 × 9 = 81\\n\\t* 3 × 9 = 27\\n\\t* 6 × 0 = 0\\n2. Sum up the products:\\n\\t* 72 + 81 + 27 + 0 = 180\\n\\nTherefore, the dot product of the two vectors is:\\n\\n[9, 9, 3, 6] ⋅ [8, 9, 9, 0] = 180',\n",
       "  \"To find the dot product of two vectors, we multiply corresponding components and sum them up.\\n\\nLet's do that:\\n\\n[7, 6, 0, 5] ⋅ [9, 2, 7, 6] =?\\n\\n= 7 × 9 + 6 × 2 + 0 × 7 + 5 × 6\\n= 63 + 12 + 0 + 30\\n= 105\\n\\nSo, the dot product of the two vectors is 105.\",\n",
       "  'To find the dot product of the two vectors, we need to multiply corresponding elements and then add them up.\\n\\n[3, 1, 8, 1] ⋅ [7, 0, 0, 9] =?\\n\\nFirst, multiply the corresponding elements:\\n\\n3 × 7 = 21\\n1 × 0 = 0\\n8 × 0 = 0\\n1 × 9 = 9\\n\\nNow, add up the results:\\n\\n21 + 0 + 0 + 9 = 30\\n\\nSo, the dot product of the two vectors is:\\n\\n[3, 1, 8, 1] ⋅ [7, 0, 0, 9] = 30',\n",
       "  'To find the dot product of the two vectors, we need to multiply the corresponding elements of the two vectors and then add them up.\\n\\nHere are the steps:\\n\\n[0, 7, 9, 7] ⋅ [6, 5, 9, 1] =?\\n\\n1. Multiply the first elements: 0 × 6 = 0\\n2. Multiply the second elements: 7 × 5 = 35\\n3. Multiply the third elements: 9 × 9 = 81\\n4. Multiply the fourth elements: 7 × 1 = 7\\n5. Add up the results: 0 + 35 + 81 + 7 = 123\\n\\nTherefore, the dot product of the two vectors is:\\n\\n[0, 7, 9, 7] ⋅ [6, 5, 9, 1] = 123',\n",
       "  \"To calculate the dot product of two vectors, we multiply corresponding elements of the two vectors and add them up.\\n\\nLet's do it step by step:\\n\\n[5, 3, 2, 7] ⋅ [1, 2, 6, 6] =?\\n\\n= (5 × 1) + (3 × 2) + (2 × 6) + (7 × 6)\\n= 5 + 6 + 12 + 42\\n= 65\\n\\nSo, the dot product of the two vectors is 65.\",\n",
       "  'To find the dot product of the two vectors, we need to multiply corresponding elements and add them up.\\n\\nVector 1: [8, 2, 8, 5]\\nVector 2: [7, 3, 2, 4]\\n\\nStep 1: Multiply corresponding elements\\n8 × 7 = 56\\n2 × 3 = 6\\n8 × 2 = 16\\n5 × 4 = 20\\n\\nStep 2: Add up the products\\n56 + 6 + 16 + 20 = 98\\n\\nThe dot product of the two vectors is 98.',\n",
       "  \"To find the dot product of two vectors, we multiply corresponding elements of the vectors and sum them up. Here's the step-by-step calculation:\\n\\n[3, 5, 6, 2] ⋅ [3, 1, 8, 7] =?\\n\\n1. Multiply the first elements: 3 × 3 = 9\\n2. Multiply the second elements: 5 × 1 = 5\\n3. Multiply the third elements: 6 × 8 = 48\\n4. Multiply the fourth elements: 2 × 7 = 14\\n5. Sum up the products: 9 + 5 + 48 + 14 = 76\\n\\nTherefore, the dot product of the two vectors is:\\n\\n[3, 5, 6, 2] ⋅ [3, 1, 8, 7] = 76\",\n",
       "  \"To find the dot product of two vectors, we multiply corresponding components and sum the results. Here's the step-by-step calculation:\\n\\n[9, 7, 6, 6] ⋅ [0, 5, 5, 4] =?\\n\\n1. Multiply the first components: 9 × 0 = 0\\n2. Multiply the second components: 7 × 5 = 35\\n3. Multiply the third components: 6 × 5 = 30\\n4. Multiply the fourth components: 6 × 4 = 24\\n5. Sum the results: 0 + 35 + 30 + 24 = 89\\n\\nTherefore, the dot product of the two vectors is:\\n\\n[9, 7, 6, 6] ⋅ [0, 5, 5, 4] = 89\",\n",
       "  \"To find the dot product of two vectors, we multiply corresponding components and add them up. Here's the step-by-step calculation:\\n\\n[6, 4, 5, 9] ⋅ [6, 1, 9, 0] =?\\n\\n1. Multiply the first components:\\n6 × 6 = 36\\n2. Multiply the second components:\\n4 × 1 = 4\\n3. Multiply the third components:\\n5 × 9 = 45\\n4. Multiply the fourth components:\\n9 × 0 = 0\\n5. Add up the results:\\n36 + 4 + 45 + 0 = 85\\n\\nTherefore, the dot product of the two vectors is 85.\",\n",
       "  \"To find the dot product of the two vectors, we need to multiply corresponding components and sum them up. Here's the step-by-step calculation:\\n\\n[6, 5, 2, 6] ⋅ [6, 9, 9, 4] =?\\n\\n1. Multiply corresponding components:\\n\\t* 6 × 6 = 36\\n\\t* 5 × 9 = 45\\n\\t* 2 × 9 = 18\\n\\t* 6 × 4 = 24\\n\\n2. Sum up the products:\\n\\t* 36 + 45 + 18 + 24 = 123\\n\\nSo, the dot product of the two vectors is:\\n\\n[6, 5, 2, 6] ⋅ [6, 9, 9, 4] = 123\",\n",
       "  'To find the dot product of the two vectors, we need to multiply the corresponding elements of the two vectors and then add them up.\\n\\nHere are the steps:\\n\\n[8, 3, 9, 5] ⋅ [2, 1, 5, 3] =?\\n\\n= (8 × 2) + (3 × 1) + (9 × 5) + (5 × 3)\\n= 16 + 3 + 45 + 15\\n= 79\\n\\nSo, the dot product of the two vectors is 79.',\n",
       "  'To find the dot product of two vectors, we multiply corresponding components of the vectors and sum the results.\\n\\nHere are the vectors:\\n\\n[7, 4, 7, 4]\\n[0, 7, 9, 1]\\n\\nWe multiply corresponding components:\\n\\n7 × 0 = 0\\n4 × 7 = 28\\n7 × 9 = 63\\n4 × 1 = 4\\n\\nThen, we sum the results:\\n\\n0 + 28 + 63 + 4 = 95\\n\\nSo, the dot product of the two vectors is:\\n\\n95',\n",
       "  \"To find the dot product of two vectors, we multiply corresponding elements and sum them up. Here's the step-by-step calculation:\\n\\n[3, 9, 6, 9] ⋅ [4, 9, 8, 4] =?\\n\\n1. Multiply the first elements: 3 × 4 = 12\\n2. Multiply the second elements: 9 × 9 = 81\\n3. Multiply the third elements: 6 × 8 = 48\\n4. Multiply the fourth elements: 9 × 4 = 36\\n5. Sum up the products: 12 + 81 + 48 + 36 = 177\\n\\nTherefore, the dot product of the two vectors is:\\n\\n[3, 9, 6, 9] ⋅ [4, 9, 8, 4] = 177\",\n",
       "  'To find the dot product of two vectors, we multiply corresponding components and sum them up. Here are the steps:\\n\\n[3, 0, 4, 2] ⋅ [2, 3, 5, 0] =?\\n\\n1. Multiply the first components:\\n3 × 2 = 6\\n\\n2. Multiply the second components:\\n0 × 3 = 0\\n\\n3. Multiply the third components:\\n4 × 5 = 20\\n\\n4. Multiply the fourth components:\\n2 × 0 = 0\\n\\n5. Sum up the products:\\n6 + 0 + 20 + 0 = 26\\n\\nTherefore, the dot product of the two vectors is 26.',\n",
       "  \"To find the dot product of two vectors, we multiply corresponding elements of the two vectors and sum them up. Here's the step-by-step calculation:\\n\\n[5, 2, 7, 8] ⋅ [6, 8, 8, 5] =?\\n\\n= 5 × 6 + 2 × 8 + 7 × 8 + 8 × 5\\n= 30 + 16 + 56 + 40\\n= 142\\n\\nSo, the dot product of the two vectors is 142.\",\n",
       "  \"To calculate the dot product of two vectors, we multiply corresponding elements of the two vectors and sum them up. Here's the step-by-step calculation:\\n\\n[8, 2, 4, 5] ⋅ [8, 3, 3, 8] =?\\n\\n1. Multiply the first elements: 8 × 8 = 64\\n2. Multiply the second elements: 2 × 3 = 6\\n3. Multiply the third elements: 4 × 3 = 12\\n4. Multiply the fourth elements: 5 × 8 = 40\\n5. Sum up the products: 64 + 6 + 12 + 40 = 122\\n\\nTherefore, the dot product of the two vectors is 122.\",\n",
       "  'To find the dot product of two vectors, we multiply corresponding elements of the two vectors and sum the results. Here are the steps:\\n\\n[0, 2, 8, 4] ⋅ [4, 7, 0, 3] =?\\n\\n1. Multiply the first elements: 0 × 4 = 0\\n2. Multiply the second elements: 2 × 7 = 14\\n3. Multiply the third elements: 8 × 0 = 0\\n4. Multiply the fourth elements: 4 × 3 = 12\\n5. Add the results: 0 + 14 + 0 + 12 = 26\\n\\nTherefore, the dot product of the two vectors is:\\n\\n[0, 2, 8, 4] ⋅ [4, 7, 0, 3] = 26',\n",
       "  'To find the dot product of the two vectors, we multiply corresponding elements and sum them up:\\n\\n[2, 4, 3, 9] ⋅ [0, 1, 7, 3] = 2*0 + 4*1 + 3*7 + 9*3\\n= 0 + 4 + 21 + 27\\n= 52\\n\\nSo, the dot product of the two vectors is 52.',\n",
       "  'To find the dot product of two vectors, we multiply corresponding elements and sum them up.\\n\\nVector 1: [4, 1, 6, 2]\\nVector 2: [4, 6, 6, 2]\\n\\nDot product:\\n\\n(4 × 4) + (1 × 6) + (6 × 6) + (2 × 2)\\n= 16 + 6 + 36 + 4\\n= 62\\n\\nSo, the dot product of these two vectors is 62.',\n",
       "  'To find the dot product of two vectors, we multiply corresponding components and sum them up.\\n\\nGiven vectors:\\n\\n[2, 7, 0, 3] ⋅ [0, 3, 5, 0]\\n\\nFirst, we multiply corresponding components:\\n\\n2 × 0 = 0\\n7 × 3 = 21\\n0 × 5 = 0\\n3 × 0 = 0\\n\\nThen, we sum up the results:\\n\\n0 + 21 + 0 + 0 = 21\\n\\nSo, the dot product of the two vectors is 21.',\n",
       "  'To find the dot product of two vectors, we multiply corresponding elements of the two vectors and sum them up. Here are the steps:\\n\\n[9, 4, 1, 9] ⋅ [7, 5, 5, 7] =?\\n\\n1. Multiply the first elements: 9 × 7 = 63\\n2. Multiply the second elements: 4 × 5 = 20\\n3. Multiply the third elements: 1 × 5 = 5\\n4. Multiply the fourth elements: 9 × 7 = 63\\n5. Add up the products: 63 + 20 + 5 + 63 = 151\\n\\nTherefore, the dot product of the two vectors is:\\n\\n[9, 4, 1, 9] ⋅ [7, 5, 5, 7] = 151',\n",
       "  'To find the dot product of two vectors, we multiply corresponding components and sum them up. Here are the steps:\\n\\n1. Multiply the first components:\\n[3] × [8] = 24\\n2. Multiply the second components:\\n[3] × [5] = 15\\n3. Multiply the third components:\\n[6] × [5] = 30\\n4. Multiply the fourth components:\\n[3] × [5] = 15\\n5. Sum up the products:\\n24 + 15 + 30 + 15 = 84\\n\\nSo, the dot product of the two vectors is 84.',\n",
       "  'To find the dot product of two vectors, we multiply corresponding elements of the two vectors and sum the results. Here are the steps:\\n\\n[1, 8, 3, 5] ⋅ [7, 4, 2, 8] =?\\n\\n1. Multiply the first elements: 1 × 7 = 7\\n2. Multiply the second elements: 8 × 4 = 32\\n3. Multiply the third elements: 3 × 2 = 6\\n4. Multiply the fourth elements: 5 × 8 = 40\\n5. Sum the results: 7 + 32 + 6 + 40 = 85\\n\\nTherefore, the dot product of the two vectors is 85.',\n",
       "  'To find the dot product of two vectors, we multiply corresponding components and sum them up. Here are the steps:\\n\\n[9, 9, 4, 8] ⋅ [5, 0, 3, 4] =?\\n\\n1. Multiply corresponding components:\\n\\t* 9 × 5 = 45\\n\\t* 9 × 0 = 0\\n\\t* 4 × 3 = 12\\n\\t* 8 × 4 = 32\\n2. Sum up the products:\\n\\t* 45 + 0 + 12 + 32 = 89\\n\\nTherefore, the dot product of the two vectors is:\\n\\n[9, 9, 4, 8] ⋅ [5, 0, 3, 4] = 89',\n",
       "  'To find the dot product of two vectors, we multiply corresponding elements and sum them up. Here are the steps:\\n\\n[5, 6, 5, 4] ⋅ [5, 5, 0, 0] =?\\n\\n1. Multiply the first elements: 5 × 5 = 25\\n2. Multiply the second elements: 6 × 5 = 30\\n3. Multiply the third elements: 5 × 0 = 0\\n4. Multiply the fourth elements: 4 × 0 = 0\\n5. Sum up the products: 25 + 30 + 0 + 0 = 55\\n\\nTherefore, the dot product of the two vectors is:\\n\\n[5, 6, 5, 4] ⋅ [5, 5, 0, 0] = 55',\n",
       "  'To find the dot product of two vectors, we multiply corresponding components and sum them up. Here are the steps:\\n\\n[9, 4, 0, 6] ⋅ [5, 3, 3, 0] =?\\n\\n1. Multiply corresponding components:\\n\\t* 9 × 5 = 45\\n\\t* 4 × 3 = 12\\n\\t* 0 × 3 = 0\\n\\t* 6 × 0 = 0\\n2. Sum up the products:\\n\\t* 45 + 12 + 0 + 0 = 57\\n\\nSo, the dot product of the two vectors is:\\n\\n[9, 4, 0, 6] ⋅ [5, 3, 3, 0] = 57',\n",
       "  \"To find the dot product, we multiply corresponding elements of the two vectors and sum them up:\\n\\n[1, 5, 1, 8] ⋅ [7, 7, 0, 1] =?\\n\\n1 × 7 = 7\\n5 × 7 = 35\\n1 × 0 = 0\\n8 × 1 = 8\\n\\nNow, let's add up the products:\\n\\n7 + 35 + 0 + 8 = 50\\n\\nSo, the dot product of the two vectors is 50.\",\n",
       "  'To find the dot product of the two vectors, we multiply corresponding elements and sum them up:\\n\\n[9, 3, 2, 7] ⋅ [5, 0, 0, 0] = 9*5 + 3*0 + 2*0 + 7*0\\n= 45 + 0 + 0 + 0\\n= 45\\n\\nSo, the dot product of the two vectors is 45.',\n",
       "  'To find the dot product of two vectors, we multiply corresponding elements and sum them up. Here are the steps:\\n\\n[6, 3, 9, 7] ⋅ [5, 5, 7, 2] =?\\n\\n1. Multiply the first elements: 6 × 5 = 30\\n2. Multiply the second elements: 3 × 5 = 15\\n3. Multiply the third elements: 9 × 7 = 63\\n4. Multiply the fourth elements: 7 × 2 = 14\\n5. Sum up the products: 30 + 15 + 63 + 14 = 122\\n\\nTherefore, the dot product of the two vectors is 122.',\n",
       "  'To calculate the dot product, we multiply corresponding elements of the two vectors and sum the results:\\n\\n(3 × 4) + (3 × 9) + (7 × 4) + (0 × 1)\\n\\n= 12 + 27 + 28 + 0\\n\\n= 67\\n\\nSo, the dot product of the two vectors is 67.',\n",
       "  'To find the dot product of the two vectors, we multiply corresponding components and sum them up:\\n\\n[7, 7, 9, 9] ⋅ [1, 7, 3, 6] = 7*1 + 7*7 + 9*3 + 9*6\\n\\n= 7 + 49 + 27 + 54\\n\\n= 137\\n\\nSo, the dot product of the two vectors is 137.',\n",
       "  \"To find the dot product of the two vectors, we need to multiply corresponding components and sum them up. Here's the step-by-step calculation:\\n\\n[8, 5, 4, 6] ⋅ [2, 2, 7, 0] =?\\n\\n1. Multiply the first components:\\n8 × 2 = 16\\n\\n2. Multiply the second components:\\n5 × 2 = 10\\n\\n3. Multiply the third components:\\n4 × 7 = 28\\n\\n4. Multiply the fourth components:\\n6 × 0 = 0\\n\\n5. Add up the products:\\n16 + 10 + 28 + 0 = 54\\n\\nTherefore, the dot product of the two vectors is:\\n\\n[8, 5, 4, 6] ⋅ [2, 2, 7, 0] = 54\",\n",
       "  'To find the dot product of two vectors, we multiply corresponding components and sum them up. Here are the steps:\\n\\n1. Multiply the first components:\\n9 × 8 = 72\\n2. Multiply the second components:\\n4 × 5 = 20\\n3. Multiply the third components:\\n4 × 4 = 16\\n4. Multiply the fourth components:\\n7 × 5 = 35\\n5. Add up the products:\\n72 + 20 + 16 + 35 = 143\\n\\nSo, the dot product of the two vectors is:\\n\\n[9, 4, 4, 7] ⋅ [8, 5, 4, 5] = 143',\n",
       "  'To find the dot product of two vectors, we multiply corresponding components and sum them up. Here are the steps:\\n\\n[9, 3, 0, 9] ⋅ [1, 2, 0, 7] =?\\n\\n1. Multiply corresponding components:\\n\\t* 9 × 1 = 9\\n\\t* 3 × 2 = 6\\n\\t* 0 × 0 = 0\\n\\t* 9 × 7 = 63\\n2. Sum up the products:\\n\\t9 + 6 + 0 + 63 = 78\\n\\nTherefore, the dot product of the two vectors is:\\n\\n[9, 3, 0, 9] ⋅ [1, 2, 0, 7] = 78',\n",
       "  'To find the dot product of the two vectors, we multiply corresponding elements and sum them up:\\n\\n[3, 4, 7, 1] ⋅ [4, 4, 4, 4] =?\\n\\n= (3 × 4) + (4 × 4) + (7 × 4) + (1 × 4)\\n= 12 + 16 + 28 + 4\\n= 60\\n\\nSo, the dot product of the two vectors is 60.',\n",
       "  'To find the dot product of the two vectors, we multiply corresponding elements and sum them up:\\n\\n[5, 1, 0, 0] ⋅ [7, 9, 3, 3] = 5 × 7 + 1 × 9 + 0 × 3 + 0 × 3\\n\\n= 35 + 9 + 0 + 0\\n\\n= 44\\n\\nSo, the dot product of the two vectors is 44.',\n",
       "  'To calculate the dot product of two vectors, we multiply corresponding elements of the two vectors and sum them up. Here are the steps:\\n\\n[7, 4, 8, 0] ⋅ [3, 9, 4, 2] =?\\n\\n1. Multiply corresponding elements:\\n    * 7 × 3 = 21\\n    * 4 × 9 = 36\\n    * 8 × 4 = 32\\n    * 0 × 2 = 0\\n\\n2. Sum up the products:\\n    * 21 + 36 + 32 + 0 = 89\\n\\nTherefore, the dot product of the two vectors is 89.',\n",
       "  \"To find the dot product of two vectors, we multiply corresponding components and sum them up. Here's the step-by-step calculation:\\n\\n[9, 2, 2, 2] ⋅ [6, 8, 1, 2] =?\\n\\n1. Multiply the first components: 9 × 6 = 54\\n2. Multiply the second components: 2 × 8 = 16\\n3. Multiply the third components: 2 × 1 = 2\\n4. Multiply the fourth components: 2 × 2 = 4\\n5. Sum up the products: 54 + 16 + 2 + 4 = 76\\n\\nTherefore, the dot product of the two vectors is:\\n\\n[9, 2, 2, 2] ⋅ [6, 8, 1, 2] = 76\",\n",
       "  \"To find the dot product of two vectors, we multiply corresponding elements and add them up. Here's the step-by-step calculation:\\n\\n[8, 8, 2, 4] ⋅ [3, 7, 2, 1] =?\\n\\n1. Multiply the first elements: 8 × 3 = 24\\n2. Multiply the second elements: 8 × 7 = 56\\n3. Multiply the third elements: 2 × 2 = 4\\n4. Multiply the fourth elements: 4 × 1 = 4\\n5. Add up the products: 24 + 56 + 4 + 4 = 88\\n\\nSo, the dot product of the two vectors is 88.\",\n",
       "  \"To calculate the dot product of two vectors, we multiply corresponding elements of the two vectors and sum the results.\\n\\nHere are the corresponding elements:\\n\\n[5, 9, 4, 6] ⋅ [6, 8, 5, 4] = 5 × 6 + 9 × 8 + 4 × 5 + 6 × 4\\n\\nNow, let's perform the multiplications and additions:\\n\\n= 30 + 72 + 20 + 24\\n= 146\\n\\nSo, the dot product of the two vectors is 146.\",\n",
       "  'To find the dot product, we multiply corresponding elements of the two vectors and sum the results:\\n\\n[0, 5, 5, 7] ⋅ [5, 2, 8, 8] = 0 × 5 + 5 × 2 + 5 × 8 + 7 × 8\\n= 0 + 10 + 40 + 56\\n= 106\\n\\nSo, the dot product is 106.',\n",
       "  'To find the dot product of two vectors, we multiply corresponding elements of the vectors and sum them up. Here are the steps:\\n\\n[7, 7, 0, 5] ⋅ [0, 4, 6, 2] =?\\n\\n1. Multiply corresponding elements:\\n\\t* 7 × 0 = 0\\n\\t* 7 × 4 = 28\\n\\t* 0 × 6 = 0\\n\\t* 5 × 2 = 10\\n\\n2. Sum up the products:\\n\\t* 0 + 28 + 0 + 10 = 38\\n\\nTherefore, the dot product of the two vectors is:\\n\\n[7, 7, 0, 5] ⋅ [0, 4, 6, 2] = 38',\n",
       "  'To find the dot product of two vectors, we multiply corresponding components and sum them up.\\n\\nThe two vectors are:\\n\\n[8, 4, 2, 0]\\n[1, 0, 2, 0]\\n\\nWe multiply corresponding components:\\n\\n8 × 1 = 8\\n4 × 0 = 0\\n2 × 2 = 4\\n0 × 0 = 0\\n\\nNow, we sum up the products:\\n\\n8 + 0 + 4 + 0 = 12\\n\\nSo, the dot product of the two vectors is 12.',\n",
       "  'To find the dot product of two vectors, we multiply corresponding elements of the two vectors and sum them up.\\n\\nVector 1: [8, 6, 0, 7]\\nVector 2: [6, 4, 4, 1]\\n\\nDot product:\\n\\n(8 × 6) + (6 × 4) + (0 × 4) + (7 × 1)\\n= 48 + 24 + 0 + 7\\n= 79\\n\\nSo, the dot product of the two vectors is 79.',\n",
       "  \"To find the dot product of two vectors, we multiply corresponding elements and sum them up. Here's the step-by-step calculation:\\n\\n[9, 5, 6, 6] ⋅ [2, 2, 1, 1] =?\\n\\n1. Multiply the first elements: 9 × 2 = 18\\n2. Multiply the second elements: 5 × 2 = 10\\n3. Multiply the third elements: 6 × 1 = 6\\n4. Multiply the fourth elements: 6 × 1 = 6\\n5. Sum up the products: 18 + 10 + 6 + 6 = 40\\n\\nTherefore, the dot product of the two vectors is:\\n\\n[9, 5, 6, 6] ⋅ [2, 2, 1, 1] = 40\",\n",
       "  \"To find the dot product of two vectors, we multiply corresponding components and sum them up. Here's the step-by-step calculation:\\n\\n[9, 4, 9, 2] ⋅ [5, 0, 2, 8] =?\\n\\n1. Multiply the first components: 9 × 5 = 45\\n2. Multiply the second components: 4 × 0 = 0\\n3. Multiply the third components: 9 × 2 = 18\\n4. Multiply the fourth components: 2 × 8 = 16\\n5. Sum up the results: 45 + 0 + 18 + 16 = 79\\n\\nTherefore, the dot product of the two vectors is 79.\",\n",
       "  'To find the dot product of two vectors, we multiply corresponding components and sum them up. Here are the steps:\\n\\n[9, 9, 3, 1] ⋅ [1, 7, 5, 3] =?\\n\\n1. Multiply the first components: 9 × 1 = 9\\n2. Multiply the second components: 9 × 7 = 63\\n3. Multiply the third components: 3 × 5 = 15\\n4. Multiply the fourth components: 1 × 3 = 3\\n5. Sum up the products: 9 + 63 + 15 + 3 = 90\\n\\nSo, the dot product of the two vectors is:\\n\\n[9, 9, 3, 1] ⋅ [1, 7, 5, 3] = 90',\n",
       "  'To find the dot product, we multiply corresponding components of the two vectors and sum the results:\\n\\n(9)(0) + (2)(5) + (4)(7) + (3)(0) =?\\n\\n= 0 + 10 + 28 + 0 = 38\\n\\nSo, the dot product of the two vectors is 38.',\n",
       "  \"To find the dot product of two vectors, we multiply corresponding components and sum them up. Here's the step-by-step calculation:\\n\\n[5, 2, 9, 6] ⋅ [9, 8, 3, 7] =?\\n\\n1. Multiply corresponding components:\\n\\t* 5 × 9 = 45\\n\\t* 2 × 8 = 16\\n\\t* 9 × 3 = 27\\n\\t* 6 × 7 = 42\\n2. Sum up the products:\\n\\t* 45 + 16 + 27 + 42 = 130\\n\\nTherefore, the dot product of the two vectors is:\\n\\n[5, 2, 9, 6] ⋅ [9, 8, 3, 7] = 130\",\n",
       "  'To calculate the dot product of two vectors, we multiply corresponding elements of the two vectors and sum them up.\\n\\nThe two vectors are:\\n\\n[8, 5, 1, 8]\\n[7, 3, 5, 6]\\n\\nSo, we multiply corresponding elements:\\n\\n8 × 7 = 56\\n5 × 3 = 15\\n1 × 5 = 5\\n8 × 6 = 48\\n\\nNow, we add up the products:\\n\\n56 + 15 + 5 + 48 = 124\\n\\nTherefore, the dot product of the two vectors is 124.',\n",
       "  \"To find the dot product of two vectors, we multiply corresponding elements and sum them up. Here's the step-by-step calculation:\\n\\n[0, 2, 8, 4] ⋅ [7, 2, 1, 5] =?\\n\\n1. Multiply the first elements: 0 × 7 = 0\\n2. Multiply the second elements: 2 × 2 = 4\\n3. Multiply the third elements: 8 × 1 = 8\\n4. Multiply the fourth elements: 4 × 5 = 20\\n5. Sum up the products: 0 + 4 + 8 + 20 = 32\\n\\nTherefore, the dot product of the two vectors is:\\n\\n[0, 2, 8, 4] ⋅ [7, 2, 1, 5] = 32\",\n",
       "  \"To find the dot product of two vectors, we multiply corresponding elements of the two vectors and then sum them up. Here's the step-by-step calculation:\\n\\n[0, 1, 9, 6] ⋅ [5, 7, 9, 7] =?\\n\\n1. Multiply corresponding elements:\\n0 × 5 = 0\\n1 × 7 = 7\\n9 × 9 = 81\\n6 × 7 = 42\\n\\n2. Sum up the products:\\n0 + 7 + 81 + 42 =?\\n\\n3. Calculate the sum:\\n0 + 7 = 7\\n7 + 81 = 88\\n88 + 42 = 130\\n\\nTherefore, the dot product of the two vectors is:\\n\\n[0, 1, 9, 6] ⋅ [5, 7, 9, 7] = 130\",\n",
       "  'To find the dot product of the two vectors, we multiply corresponding elements of the two vectors and sum them up:\\n\\n[6, 5, 9, 2] ⋅ [9, 5, 3, 4] =?\\n\\n= 6 × 9 + 5 × 5 + 9 × 3 + 2 × 4\\n= 54 + 25 + 27 + 8\\n= 114\\n\\nSo, the dot product of the two vectors is 114.',\n",
       "  'To find the dot product of two vectors, we multiply corresponding elements of the vectors and sum the results. Here are the steps:\\n\\n[4, 6, 1, 9] ⋅ [9, 8, 0, 1] =?\\n\\n1. Multiply corresponding elements:\\n    * 4 × 9 = 36\\n    * 6 × 8 = 48\\n    * 1 × 0 = 0\\n    * 9 × 1 = 9\\n\\n2. Sum the results:\\n    36 + 48 + 0 + 9 = 93\\n\\nTherefore, the dot product of the two vectors is:\\n\\n[4, 6, 1, 9] ⋅ [9, 8, 0, 1] = 93',\n",
       "  'To find the dot product of the two vectors, we multiply corresponding elements and sum them up:\\n\\n[6, 3, 1, 9] ⋅ [1, 2, 4, 4] =?\\n\\n= 6 × 1 + 3 × 2 + 1 × 4 + 9 × 4\\n= 6 + 6 + 4 + 36\\n= 52\\n\\nSo, the dot product of the two vectors is 52.',\n",
       "  'To find the dot product of the two vectors, we multiply corresponding elements and sum them up:\\n\\n[1, 5, 5, 7] ⋅ [1, 0, 1, 3] =?\\n\\n1 × 1 = 1\\n5 × 0 = 0\\n5 × 1 = 5\\n7 × 3 = 21\\n\\nAdd up the results:\\n\\n1 + 0 + 5 + 21 = 27\\n\\nSo, the dot product of the two vectors is 27.',\n",
       "  'To find the dot product of the two vectors, we need to multiply the corresponding elements of the two vectors and sum them up.\\n\\nHere are the steps:\\n\\n[0, 7, 0, 6] ⋅ [8, 5, 3, 5] =?\\n\\n= 0 × 8 + 7 × 5 + 0 × 3 + 6 × 5\\n= 0 + 35 + 0 + 30\\n= 65\\n\\nSo, the dot product of the two vectors is 65.',\n",
       "  'To find the dot product of two vectors, we multiply corresponding elements and sum them up. Here are the steps:\\n\\n[6, 5, 0, 4] ⋅ [2, 4, 6, 3] =?\\n\\n1. Multiply the first elements: 6 × 2 = 12\\n2. Multiply the second elements: 5 × 4 = 20\\n3. Multiply the third elements: 0 × 6 = 0\\n4. Multiply the fourth elements: 4 × 3 = 12\\n5. Sum up the products: 12 + 20 + 0 + 12 = 44\\n\\nTherefore, the dot product of the two vectors is 44.',\n",
       "  'To find the dot product of two vectors, we multiply corresponding elements and sum them up. Here are the steps:\\n\\n[1, 6, 4, 1] ⋅ [4, 1, 5, 3] =?\\n\\n1. Multiply the first elements: 1 × 4 = 4\\n2. Multiply the second elements: 6 × 1 = 6\\n3. Multiply the third elements: 4 × 5 = 20\\n4. Multiply the fourth elements: 1 × 3 = 3\\n5. Sum up the products: 4 + 6 + 20 + 3 = 33\\n\\nTherefore, the dot product of the two vectors is:\\n\\n[1, 6, 4, 1] ⋅ [4, 1, 5, 3] = 33'],\n",
       " ['98',\n",
       "  '66',\n",
       "  '43',\n",
       "  '26',\n",
       "  '14',\n",
       "  '12',\n",
       "  '28',\n",
       "  '54',\n",
       "  '42',\n",
       "  '24',\n",
       "  '32',\n",
       "  '32',\n",
       "  '48',\n",
       "  '28',\n",
       "  '30',\n",
       "  '40',\n",
       "  '48',\n",
       "  '348',\n",
       "  '80',\n",
       "  '40',\n",
       "  '14',\n",
       "  '24',\n",
       "  '14',\n",
       "  '64',\n",
       "  '70',\n",
       "  '66',\n",
       "  '12',\n",
       "  '34',\n",
       "  '28',\n",
       "  '28',\n",
       "  '40',\n",
       "  '30',\n",
       "  '30',\n",
       "  '16',\n",
       "  '20',\n",
       "  '56',\n",
       "  '20',\n",
       "  '56',\n",
       "  '64',\n",
       "  '54',\n",
       "  '24',\n",
       "  '54',\n",
       "  '42',\n",
       "  '63',\n",
       "  '24',\n",
       "  '32',\n",
       "  '64',\n",
       "  '14',\n",
       "  '24',\n",
       "  '24',\n",
       "  '28',\n",
       "  '34',\n",
       "  '28',\n",
       "  '120',\n",
       "  '14',\n",
       "  '40',\n",
       "  '64',\n",
       "  '16',\n",
       "  '21',\n",
       "  '28',\n",
       "  '15',\n",
       "  '34',\n",
       "  '30',\n",
       "  '24',\n",
       "  '36',\n",
       "  '20',\n",
       "  '42',\n",
       "  '28',\n",
       "  '35',\n",
       "  '74',\n",
       "  '28',\n",
       "  '63',\n",
       "  '20',\n",
       "  '44',\n",
       "  '63',\n",
       "  '32',\n",
       "  '63',\n",
       "  '56',\n",
       "  '34',\n",
       "  '48',\n",
       "  '76',\n",
       "  '60',\n",
       "  '14',\n",
       "  '8',\n",
       "  '24',\n",
       "  '20',\n",
       "  '20',\n",
       "  '34',\n",
       "  '14',\n",
       "  '70',\n",
       "  '64',\n",
       "  '16',\n",
       "  '38',\n",
       "  '56',\n",
       "  '35',\n",
       "  '28',\n",
       "  '13',\n",
       "  '30',\n",
       "  '24',\n",
       "  '22'])"
      ]
     },
     "execution_count": 20,
     "metadata": {},
     "output_type": "execute_result"
    }
   ],
   "source": [
    "results[(4, 10)]"
   ]
  },
  {
   "cell_type": "code",
   "execution_count": 45,
   "metadata": {},
   "outputs": [
    {
     "name": "stderr",
     "output_type": "stream",
     "text": [
      "100%|██████████| 100/100 [04:06<00:00,  2.47s/it]\n",
      "100%|██████████| 100/100 [00:07<00:00, 13.13it/s]"
     ]
    },
    {
     "name": "stdout",
     "output_type": "stream",
     "text": [
      "86 12\n"
     ]
    },
    {
     "name": "stderr",
     "output_type": "stream",
     "text": [
      "\n"
     ]
    }
   ],
   "source": [
    "results[(2, 10)] = dot_test(make_dot_product_problem_set(2, 10, n), memo_prompt=one_shot_true_memo_prompt)"
   ]
  },
  {
   "cell_type": "code",
   "execution_count": 46,
   "metadata": {},
   "outputs": [
    {
     "name": "stderr",
     "output_type": "stream",
     "text": [
      "100%|██████████| 100/100 [05:19<00:00,  3.20s/it]\n",
      "100%|██████████| 100/100 [00:07<00:00, 12.61it/s]"
     ]
    },
    {
     "name": "stdout",
     "output_type": "stream",
     "text": [
      "86 12\n"
     ]
    },
    {
     "name": "stderr",
     "output_type": "stream",
     "text": [
      "\n"
     ]
    }
   ],
   "source": [
    "results[(3, 5)] = dot_test(make_dot_product_problem_set(3, 5, n), memo_prompt=one_shot_true_memo_prompt)"
   ]
  },
  {
   "cell_type": "code",
   "execution_count": 47,
   "metadata": {},
   "outputs": [],
   "source": [
    "make_dot_product_problem_set(4, 10, 1000).to_csv('dot_product_problems_4_10.csv')"
   ]
  },
  {
   "cell_type": "code",
   "execution_count": null,
   "metadata": {},
   "outputs": [],
   "source": []
  }
 ],
 "metadata": {
  "kernelspec": {
   "display_name": "censored-cognition",
   "language": "python",
   "name": "python3"
  },
  "language_info": {
   "codemirror_mode": {
    "name": "ipython",
    "version": 3
   },
   "file_extension": ".py",
   "mimetype": "text/x-python",
   "name": "python",
   "nbconvert_exporter": "python",
   "pygments_lexer": "ipython3",
   "version": "3.10.12"
  }
 },
 "nbformat": 4,
 "nbformat_minor": 2
}
