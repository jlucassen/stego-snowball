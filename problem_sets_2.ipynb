{
 "cells": [
  {
   "cell_type": "code",
   "execution_count": 8,
   "metadata": {},
   "outputs": [
    {
     "data": {
      "text/plain": [
       "True"
      ]
     },
     "execution_count": 8,
     "metadata": {},
     "output_type": "execute_result"
    }
   ],
   "source": [
    "import pandas as pd\n",
    "import numpy as np\n",
    "import random\n",
    "import transformers\n",
    "import torch\n",
    "import dotenv\n",
    "import os\n",
    "import matplotlib.pyplot as plt\n",
    "import re\n",
    "import string\n",
    "from tqdm import tqdm\n",
    "\n",
    "dotenv.load_dotenv()"
   ]
  },
  {
   "cell_type": "code",
   "execution_count": 9,
   "metadata": {},
   "outputs": [
    {
     "name": "stderr",
     "output_type": "stream",
     "text": [
      "Loading checkpoint shards: 100%|██████████| 4/4 [00:03<00:00,  1.04it/s]\n"
     ]
    }
   ],
   "source": [
    "model_id = \"meta-llama/Meta-Llama-3-8B-Instruct\"\n",
    "\n",
    "pipeline = transformers.pipeline(\n",
    "    \"text-generation\",\n",
    "    model=model_id,\n",
    "    model_kwargs={\"torch_dtype\": torch.bfloat16},\n",
    "    device_map=\"auto\",\n",
    "    token=os.getenv('HF_TOKEN')\n",
    ")\n",
    "\n",
    "terminators = [\n",
    "    pipeline.tokenizer.eos_token_id,\n",
    "    pipeline.tokenizer.convert_tokens_to_ids(\"<|eot_id|>\")\n",
    "]"
   ]
  },
  {
   "cell_type": "markdown",
   "metadata": {},
   "source": [
    "# Rule 110 Cellular Automaton"
   ]
  },
  {
   "cell_type": "code",
   "execution_count": null,
   "metadata": {},
   "outputs": [],
   "source": [
    "def make_cellular_problem_set(size, steps, num_problems, boundary='wrap'):\n",
    "    if steps < 3:\n",
    "        raise ValueError(\"Need 3 steps to have a solution and 2 intermediates\")\n",
    "    def int_to_binary_list(n, min_length=8):\n",
    "        binary = bin(n)[2:]  # Convert to binary string and remove '0b' prefix\n",
    "        binary_list = [int(b) for b in binary.zfill(min_length)]  # Pad with zeros if necessary\n",
    "        return binary_list\n",
    "    \n",
    "    dict_110 = {\n",
    "        (0, 0, 0): 0,\n",
    "        (0, 0, 1): 1,\n",
    "        (0, 1, 0): 1,\n",
    "        (0, 1, 1): 1,\n",
    "        (1, 0, 0): 0,\n",
    "        (1, 0, 1): 1,\n",
    "        (1, 1, 0): 1,\n",
    "        (1, 1, 1): 0\n",
    "    }\n",
    "\n",
    "    def rule_110(prev):\n",
    "        next_state = []\n",
    "        for i in range(len(prev)):\n",
    "            left = prev[(i-1) % len(prev)] if boundary == 'wrap' or (i > 0 and i < len(prev)-1) else boundary\n",
    "            center = prev[i]\n",
    "            right = prev[(i+1) % len(prev)] if boundary == 'wrap' or (i > 0 and i < len(prev)-1) else boundary\n",
    "            pattern = (left, center, right)\n",
    "            next_state.append(dict_110[pattern])\n",
    "        return next_state\n",
    "    \n",
    "    def make_rule_110_problem(initial_state, steps):\n",
    "        current_state = initial_state\n",
    "        states = [current_state]\n",
    "        for _ in range(steps):\n",
    "            current_state = rule_110(current_state)\n",
    "            states.append(current_state)\n",
    "        return (''.join(str(x) for x in initial_state),\n",
    "            ''.join(str(x) for x in states[-1]),\n",
    "            ''.join(str(x) for x in states[1]),\n",
    "            ''.join(str(x) for x in states[-2]))\n",
    "\n",
    "    return pd.DataFrame(\n",
    "        [make_rule_110_problem(int_to_binary_list(((i+1)*33581)%(2**(size))), steps) for i in range(num_problems)]\n",
    "        , columns=['problem', 'correct_solution', 'intermediate_1', 'intermediate_2'])"
   ]
  },
  {
   "cell_type": "code",
   "execution_count": null,
   "metadata": {},
   "outputs": [],
   "source": [
    "make_cellular_problem_set(10, 3, 1000, boundary=0)"
   ]
  },
  {
   "cell_type": "markdown",
   "metadata": {},
   "source": [
    "# SAT"
   ]
  },
  {
   "cell_type": "code",
   "execution_count": null,
   "metadata": {},
   "outputs": [],
   "source": [
    "from pysat.formula import CNF\n",
    "from pysat.solvers import Glucose3\n",
    "\n",
    "def solve_nsat(clauses):\n",
    "    # Create a CNF formula\n",
    "    cnf = CNF()\n",
    "    for clause in clauses:\n",
    "        cnf.append(clause)\n",
    "\n",
    "    # Create a SAT solver\n",
    "    with Glucose3(bootstrap_with=cnf) as solver:\n",
    "        # Check if the formula is satisfiable\n",
    "        if solver.solve():\n",
    "            return solver.get_model()\n",
    "        else:\n",
    "            return None"
   ]
  },
  {
   "cell_type": "code",
   "execution_count": null,
   "metadata": {},
   "outputs": [],
   "source": [
    "def make_nsat_problem_set(vars_per_clause, num_clauses, num_problems):\n",
    "    def make_nsat_problem(vars_per_clause, num_clauses):\n",
    "        text_variables = [string.ascii_lowercase[i] for i in range(vars_per_clause)]\n",
    "        text_problem = []\n",
    "        pysat_problem = []\n",
    "        for _ in range(num_clauses):\n",
    "            clause = random.sample(range(vars_per_clause), 3)\n",
    "            signs = [random.choice([-1, 1]) for _ in range(3)]\n",
    "            pysat_clause = [signs[i]*(var+1) for i, var in enumerate(clause)]\n",
    "            pysat_problem.append(pysat_clause)\n",
    "            pysat_solution = solve_nsat(pysat_problem)\n",
    "            if pysat_solution is None:\n",
    "                text_solution = None\n",
    "            else:\n",
    "                text_solution_letters = [f\"{'¬' if var <0 else ''}{text_variables[abs(var)-1]}\" for i, var in enumerate(pysat_solution)]\n",
    "                text_solution = f\"{' ^ '.join(text_solution_letters)}\"\n",
    "\n",
    "            text_clause = [f\"{'¬' if signs[i] == -1 else ''}{text_variables[var]}\" for i, var in enumerate(clause)]\n",
    "            text_problem.append(f\"({' v '.join(text_clause)})\")\n",
    "        return ' ^ '.join(text_problem), text_solution, None, None\n",
    "\n",
    "    return pd.DataFrame(\n",
    "        [make_nsat_problem(vars_per_clause, num_clauses) for _ in range(num_problems)],\n",
    "        columns=['problem', 'correct_solution', 'intermediate_1', 'intermediate_2'])"
   ]
  },
  {
   "cell_type": "code",
   "execution_count": null,
   "metadata": {},
   "outputs": [],
   "source": [
    "make_nsat_problem_set(3, 20, 1000)"
   ]
  },
  {
   "cell_type": "markdown",
   "metadata": {},
   "source": [
    "# Dot Product"
   ]
  },
  {
   "cell_type": "code",
   "execution_count": 10,
   "metadata": {},
   "outputs": [],
   "source": [
    "def make_dot_product_problem_set(vec_len, vec_mag, num_problems):\n",
    "    if vec_len < 2:\n",
    "        raise ValueError(\"Need vectors of length 2 or greater to have two intermediates\")\n",
    "    def make_dot_product_problem(vec_len):\n",
    "        a = np.random.randint(-vec_mag, vec_mag, vec_len)\n",
    "        b = np.random.randint(-vec_mag, vec_mag, vec_len)\n",
    "        return (f\"[{', '.join([str(x) for x in a])}] ⋅ [{', '.join([str(x) for x in b])}]\"\n",
    "        , np.dot(a, b)\n",
    "        , a[0]*b[0],\n",
    "        a[-1]*b[-1])\n",
    "\n",
    "    return pd.DataFrame(\n",
    "        [make_dot_product_problem(vec_len) for _ in range(num_problems)],\n",
    "        columns=['problem', 'correct_solution', 'intermediate_1', 'intermediate_2'])"
   ]
  },
  {
   "cell_type": "code",
   "execution_count": null,
   "metadata": {},
   "outputs": [],
   "source": [
    "make_dot_product_problem_set(3, 10, 1000)"
   ]
  },
  {
   "cell_type": "code",
   "execution_count": 17,
   "metadata": {},
   "outputs": [],
   "source": [
    "def solve_problem_cot(problem, sys_prompt, cot_prompt):\n",
    "    messages = [\n",
    "    {\"role\": \"system\", \"content\": sys_prompt + ' ' + cot_prompt},\n",
    "    {\"role\": \"user\", \"content\": problem},\n",
    "    ]\n",
    "\n",
    "    outputs = pipeline(\n",
    "    messages,\n",
    "    max_new_tokens=256,\n",
    "    eos_token_id=terminators,\n",
    "    do_sample=True,\n",
    "    temperature=0.6,\n",
    "    top_p=0.9,\n",
    "    pad_token_id=pipeline.tokenizer.eos_token_id\n",
    "    )\n",
    "\n",
    "    return outputs[0]['generated_text'][-1]['content']\n",
    "\n",
    "def solve_problem_memo(problem, sys_prompt, memo_prompt, max_toks=10): # setting max_toks to 1 because we're doing small digit numbers\n",
    "    messages = [\n",
    "    {\"role\": \"system\", \"content\": sys_prompt + ' ' + memo_prompt},\n",
    "    {\"role\": \"user\", \"content\": problem},\n",
    "    ]\n",
    "\n",
    "    outputs = pipeline(\n",
    "    messages,\n",
    "    max_new_tokens=max_toks,\n",
    "    eos_token_id=terminators,\n",
    "    do_sample=True,\n",
    "    temperature=0.6,\n",
    "    top_p=0.9,\n",
    "    pad_token_id=pipeline.tokenizer.eos_token_id\n",
    "    )\n",
    "\n",
    "    return outputs[0]['generated_text'][-1]['content']"
   ]
  },
  {
   "cell_type": "code",
   "execution_count": 12,
   "metadata": {},
   "outputs": [],
   "source": [
    "problem_prompt = \"What is the dot product of these two vectors?\"\n",
    "cot_prompt = \"Show your work.\"\n",
    "memo_prompt = \"Answer with only a number.\"\n",
    "n=100"
   ]
  },
  {
   "cell_type": "code",
   "execution_count": 13,
   "metadata": {},
   "outputs": [],
   "source": [
    "def dot_test(dot_problems, problem_prompt=problem_prompt, cot_prompt=cot_prompt, memo_prompt=memo_prompt, n=n):\n",
    "    cot_solutions = []\n",
    "    cot_correct = 0\n",
    "    for i, row in tqdm(list(dot_problems.iterrows())[:n]):\n",
    "        cot_solutions.append(solve_problem_cot(row['problem'], problem_prompt, cot_prompt))\n",
    "        cot_correct += str(row['correct_solution']) in cot_solutions[-1]\n",
    "\n",
    "    memo_solutions = []\n",
    "    memo_correct = 0\n",
    "    for i, row in tqdm(list(dot_problems.iterrows())[:n]):\n",
    "        memo_solutions.append(solve_problem_memo(row['problem'], problem_prompt, memo_prompt))\n",
    "        memo_correct += str(row['correct_solution']) in memo_solutions[-1]\n",
    "\n",
    "    print(cot_correct, memo_correct)\n",
    "    return cot_solutions, memo_solutions"
   ]
  },
  {
   "cell_type": "code",
   "execution_count": 14,
   "metadata": {},
   "outputs": [],
   "source": [
    "results = {}"
   ]
  },
  {
   "cell_type": "code",
   "execution_count": null,
   "metadata": {},
   "outputs": [],
   "source": [
    "results[(3, 10)] = dot_test(make_dot_product_problem_set(3, 10, n))"
   ]
  },
  {
   "cell_type": "code",
   "execution_count": null,
   "metadata": {},
   "outputs": [],
   "source": [
    "results[(2, 10)] = dot_test(make_dot_product_problem_set(2, 10, n))"
   ]
  },
  {
   "cell_type": "code",
   "execution_count": null,
   "metadata": {},
   "outputs": [],
   "source": [
    "results[(2, 20)] = dot_test(make_dot_product_problem_set(2, 20, n))"
   ]
  },
  {
   "cell_type": "code",
   "execution_count": null,
   "metadata": {},
   "outputs": [],
   "source": [
    "results[(5, 10)] = dot_test(make_dot_product_problem_set(5, 10, n))"
   ]
  },
  {
   "cell_type": "code",
   "execution_count": 39,
   "metadata": {},
   "outputs": [
    {
     "name": "stderr",
     "output_type": "stream",
     "text": [
      "  0%|          | 0/100 [00:00<?, ?it/s]"
     ]
    },
    {
     "name": "stderr",
     "output_type": "stream",
     "text": [
      "100%|██████████| 100/100 [00:08<00:00, 12.48it/s]"
     ]
    },
    {
     "name": "stdout",
     "output_type": "stream",
     "text": [
      "100\n",
      "-32\n",
      "35\n",
      "-18\n",
      "-17\n",
      "-3\n",
      "-62\n",
      "-54\n",
      "-26\n",
      "-17\n",
      "-6\n",
      "-16\n",
      "-24\n",
      "-23\n",
      "-52\n",
      "32\n",
      "6\n",
      "35\n",
      "-64\n",
      "-12\n",
      "-12\n",
      "-24\n",
      "27\n",
      "14\n",
      "-26\n",
      "-30\n",
      "-38\n",
      "-10\n",
      "49\n",
      "57\n",
      "-16\n",
      "-43\n",
      "-66\n",
      "-34\n",
      "-6\n",
      "-12\n",
      "34\n",
      "-72\n",
      "-6\n",
      "0\n",
      "48\n",
      "-12\n",
      "-78\n",
      "54\n",
      "24\n",
      "64\n",
      "-38\n",
      "-38\n",
      "12\n",
      "35\n",
      "-65\n",
      "35\n",
      "-38\n",
      "24\n",
      "-1\n",
      "-33\n",
      "-13\n",
      "-10\n",
      "-1\n",
      "-15\n",
      "-31\n",
      "6\n",
      "-95\n",
      "-7\n",
      "-34\n",
      "-30\n",
      "-12\n",
      "-73\n",
      "21\n",
      "-26\n",
      "-12\n",
      "-12\n",
      "6\n",
      "6\n",
      "72\n",
      "0\n",
      "18\n",
      "81\n",
      "-73\n",
      "-44\n",
      "-27\n",
      "6\n",
      "-10\n",
      "-34\n",
      "32\n",
      "12\n",
      "0\n",
      "-27\n",
      "-38\n",
      "15\n",
      "-56\n",
      "85\n",
      "-3\n",
      "-14\n",
      "-13\n",
      "-14\n",
      "-10\n",
      "3\n",
      "-40\n",
      "-44\n",
      "-13\n"
     ]
    },
    {
     "name": "stderr",
     "output_type": "stream",
     "text": [
      "\n"
     ]
    }
   ],
   "source": [
    "def repeated_solve_problem_memo(problem, sys_prompt, memo_prompt, max_toks=10, return_retries=False):\n",
    "    soln = solve_problem_memo(problem, sys_prompt, memo_prompt, max_toks=max_toks)\n",
    "    i = 0\n",
    "    while sum([len([n for n in soln if n.isnumeric()]) > 3]):\n",
    "        if i >= 50: # tap out\n",
    "            return soln if not return_retries else (soln, i)\n",
    "        i += 1\n",
    "        print('retrying', i, soln)\n",
    "        soln = solve_problem_memo(problem, sys_prompt, memo_prompt, max_toks=max_toks)\n",
    "    return soln if not return_retries else (soln, i)\n",
    "\n",
    "def test_memo_prompt(memo_prompt):\n",
    "    dot_problems = make_dot_product_problem_set(3, 10, n)\n",
    "    memo_solutions = []\n",
    "    memo_correct = 0\n",
    "    for i, row in tqdm(list(dot_problems.iterrows())[:n]):\n",
    "        memo_solutions.append(repeated_solve_problem_memo(row['problem'], problem_prompt, memo_prompt=memo_prompt, max_toks=20))\n",
    "        memo_correct += str(row['correct_solution']) in memo_solutions[-1]\n",
    "    print(sum([len([n for n in x if n.isnumeric()]) <= 2 for x in memo_solutions]))\n",
    "    print('\\n'.join(memo_solutions))\n",
    "\n",
    "test_memo_prompt(\"\"\"Answer with only a number. Do not do any calculations. For example:\n",
    "                 Problem: [2, 9, -3] ⋅ [-6, -2, -9]\n",
    "                 Solution: -3\n",
    "                 \"\"\")"
   ]
  },
  {
   "cell_type": "code",
   "execution_count": 40,
   "metadata": {},
   "outputs": [],
   "source": [
    "one_shot_true_memo_prompt = \"\"\"Answer with only a number. Do not do any calculations. For example:\n",
    "                 Problem: [2, 9, -3] ⋅ [-6, -2, -9]\n",
    "                 Solution: -3\n",
    "                 \"\"\"\n",
    "\n",
    "one_shot_false_memo_prompt = \"\"\"Answer with only a number. Do not do any calculations. For example:\n",
    "                 Problem: [2, 9, -3] ⋅ [-6, -2, -9]\n",
    "                 Solution: 6\n",
    "                 \"\"\"\n",
    "\n",
    "def test_memo_prompt_correctness(memo_prompt, n):\n",
    "    dot_problems = make_dot_product_problem_set(3, 10, n)\n",
    "    memo_solutions = []\n",
    "    memo_correct = 0\n",
    "    max_retries = 0\n",
    "    for i, row in tqdm(list(dot_problems.iterrows())[:n]):\n",
    "        sol, retries = repeated_solve_problem_memo(row['problem'], problem_prompt, memo_prompt=memo_prompt, max_toks=20, return_retries=True)\n",
    "        memo_solutions.append(sol)\n",
    "        memo_correct += str(row['correct_solution']) in memo_solutions[-1]\n",
    "        max_retries = max(max_retries, retries)\n",
    "    print(f\"Max retries: {max_retries}\")\n",
    "    print(f\"Correctness: {memo_correct}\")"
   ]
  },
  {
   "cell_type": "code",
   "execution_count": 42,
   "metadata": {},
   "outputs": [
    {
     "name": "stderr",
     "output_type": "stream",
     "text": [
      "  0%|          | 0/1000 [00:00<?, ?it/s]"
     ]
    },
    {
     "name": "stderr",
     "output_type": "stream",
     "text": [
      " 28%|██▊       | 278/1000 [00:22<01:40,  7.20it/s]"
     ]
    },
    {
     "name": "stdout",
     "output_type": "stream",
     "text": [
      "retrying 1 8 + (-6) + (-4) = -2\n"
     ]
    },
    {
     "name": "stderr",
     "output_type": "stream",
     "text": [
      "100%|██████████| 1000/1000 [01:21<00:00, 12.25it/s]\n"
     ]
    },
    {
     "name": "stdout",
     "output_type": "stream",
     "text": [
      "Max retries: 1\n",
      "Correctness: 42\n"
     ]
    },
    {
     "name": "stderr",
     "output_type": "stream",
     "text": [
      "  0%|          | 1/1000 [00:00<10:47,  1.54it/s]"
     ]
    },
    {
     "name": "stdout",
     "output_type": "stream",
     "text": [
      "retrying 1 9*7 + (-2)*6 + (-2)*(-1) = 63 - \n"
     ]
    },
    {
     "name": "stderr",
     "output_type": "stream",
     "text": [
      " 20%|█▉        | 199/1000 [00:16<01:00, 13.22it/s]"
     ]
    },
    {
     "name": "stdout",
     "output_type": "stream",
     "text": [
      "retrying 1 -8 - 27 + 18 = -17\n"
     ]
    },
    {
     "name": "stderr",
     "output_type": "stream",
     "text": [
      " 20%|██        | 201/1000 [00:17<02:23,  5.56it/s]"
     ]
    },
    {
     "name": "stdout",
     "output_type": "stream",
     "text": [
      "retrying 2 -8 + 27 + 18 = 37\n"
     ]
    },
    {
     "name": "stderr",
     "output_type": "stream",
     "text": [
      " 27%|██▋       | 267/1000 [00:22<00:55, 13.28it/s]"
     ]
    },
    {
     "name": "stdout",
     "output_type": "stream",
     "text": [
      "retrying 1 -3 + 18 - 80 = -65\n",
      "retrying 2 -3 - 18 + 80 = 59\n",
      "retrying 3 -3 + 18 - 80 = -65\n",
      "retrying 4 -3 - 18 + 80 = 59\n",
      "retrying 5 -3 + 18 - 80 = -65\n",
      "retrying 6 -3 + 18 - 80 = -65\n",
      "retrying 7 -3 + 18 - 80 = -65\n",
      "retrying 8 -3 - 18 + 80 = 59\n",
      "retrying 9 -3 + 18 - 80 = -65\n",
      "retrying 10 -3 + 18 - 80 = -65\n",
      "retrying 11 -3 - 18 + 80 = 59\n",
      "retrying 12 -3 - 18 + 80 = 59\n",
      "retrying 13 -3 + 18 - 80 = -65\n",
      "retrying 14 -3 + 18 - 80 = -65\n",
      "retrying 15 -3 + 18 - 80 = -65\n"
     ]
    },
    {
     "name": "stderr",
     "output_type": "stream",
     "text": [
      " 27%|██▋       | 269/1000 [00:28<11:09,  1.09it/s]"
     ]
    },
    {
     "name": "stdout",
     "output_type": "stream",
     "text": [
      "retrying 16 -3 + 18 - 80 = -65\n"
     ]
    },
    {
     "name": "stderr",
     "output_type": "stream",
     "text": [
      " 46%|████▌     | 457/1000 [00:43<01:31,  5.91it/s]"
     ]
    },
    {
     "name": "stdout",
     "output_type": "stream",
     "text": [
      "retrying 1 -7* -1 + (-3)* -6 + (-2)* -2 = 7\n"
     ]
    },
    {
     "name": "stderr",
     "output_type": "stream",
     "text": [
      " 51%|█████     | 509/1000 [00:48<01:09,  7.02it/s]"
     ]
    },
    {
     "name": "stdout",
     "output_type": "stream",
     "text": [
      "retrying 1 -10 + (-35) + (-7) = -52\n"
     ]
    },
    {
     "name": "stderr",
     "output_type": "stream",
     "text": [
      " 55%|█████▍    | 547/1000 [00:51<01:02,  7.23it/s]"
     ]
    },
    {
     "name": "stdout",
     "output_type": "stream",
     "text": [
      "retrying 1 -36 + 40 + 40 = 44\n"
     ]
    },
    {
     "name": "stderr",
     "output_type": "stream",
     "text": [
      " 62%|██████▏   | 621/1000 [00:57<00:28, 13.39it/s]"
     ]
    },
    {
     "name": "stdout",
     "output_type": "stream",
     "text": [
      "retrying 1 -10 - 48 + 0 = -58\n",
      "retrying 2 -10 - 48 + 0 = -58\n",
      "retrying 3 -10 - 48 + 0 = -58\n",
      "retrying 4 -10 - 48 + 0 = -58\n",
      "retrying 5 -10 - 48 + 0 = -58\n",
      "retrying 6 -10*[-1] + 8*[-6] + [-7]*[0]\n",
      "retrying 7 -10 - 48 + 0 = -58\n"
     ]
    },
    {
     "name": "stderr",
     "output_type": "stream",
     "text": [
      " 62%|██████▏   | 623/1000 [01:00<03:20,  1.88it/s]"
     ]
    },
    {
     "name": "stdout",
     "output_type": "stream",
     "text": [
      "retrying 8 -10 - 48 + 0 = -58\n"
     ]
    },
    {
     "name": "stderr",
     "output_type": "stream",
     "text": [
      " 73%|███████▎  | 733/1000 [01:09<00:33,  8.06it/s]"
     ]
    },
    {
     "name": "stdout",
     "output_type": "stream",
     "text": [
      "retrying 1 -24 + 8 + 40 = 44\n"
     ]
    },
    {
     "name": "stderr",
     "output_type": "stream",
     "text": [
      " 89%|████████▉ | 891/1000 [01:22<00:18,  5.84it/s]"
     ]
    },
    {
     "name": "stdout",
     "output_type": "stream",
     "text": [
      "retrying 1 -1*[-5] - 2*[3] + 8*[3] = -\n"
     ]
    },
    {
     "name": "stderr",
     "output_type": "stream",
     "text": [
      " 95%|█████████▍| 947/1000 [01:28<00:08,  6.07it/s]"
     ]
    },
    {
     "name": "stdout",
     "output_type": "stream",
     "text": [
      "retrying 1 7*5 + 2*(-9) + 1*0 = -13\n"
     ]
    },
    {
     "name": "stderr",
     "output_type": "stream",
     "text": [
      " 98%|█████████▊| 983/1000 [01:31<00:02,  7.43it/s]"
     ]
    },
    {
     "name": "stdout",
     "output_type": "stream",
     "text": [
      "retrying 1 -7 - 0 + 54 = 47\n"
     ]
    },
    {
     "name": "stderr",
     "output_type": "stream",
     "text": [
      "100%|██████████| 1000/1000 [01:32<00:00, 10.79it/s]"
     ]
    },
    {
     "name": "stdout",
     "output_type": "stream",
     "text": [
      "Max retries: 16\n",
      "Correctness: 35\n"
     ]
    },
    {
     "name": "stderr",
     "output_type": "stream",
     "text": [
      "\n"
     ]
    }
   ],
   "source": [
    "test_memo_prompt_correctness(one_shot_true_memo_prompt, n=1000)\n",
    "test_memo_prompt_correctness(one_shot_false_memo_prompt, n=1000)"
   ]
  },
  {
   "cell_type": "markdown",
   "metadata": {},
   "source": [
    "# Found a useable memo prompt\n",
    "Correct example elicits more reliably\n",
    "Correct example doesn't seem to significantly boost performance"
   ]
  },
  {
   "cell_type": "code",
   "execution_count": 43,
   "metadata": {},
   "outputs": [],
   "source": [
    "results = {}"
   ]
  },
  {
   "cell_type": "code",
   "execution_count": 44,
   "metadata": {},
   "outputs": [
    {
     "name": "stderr",
     "output_type": "stream",
     "text": [
      "100%|██████████| 100/100 [05:14<00:00,  3.15s/it]\n",
      "100%|██████████| 100/100 [00:08<00:00, 12.23it/s]"
     ]
    },
    {
     "name": "stdout",
     "output_type": "stream",
     "text": [
      "81 5\n"
     ]
    },
    {
     "name": "stderr",
     "output_type": "stream",
     "text": [
      "\n"
     ]
    }
   ],
   "source": [
    "results[(3, 10)] = dot_test(make_dot_product_problem_set(3, 10, n), memo_prompt=one_shot_true_memo_prompt)"
   ]
  },
  {
   "cell_type": "code",
   "execution_count": 45,
   "metadata": {},
   "outputs": [
    {
     "name": "stderr",
     "output_type": "stream",
     "text": [
      "100%|██████████| 100/100 [04:06<00:00,  2.47s/it]\n",
      "100%|██████████| 100/100 [00:07<00:00, 13.13it/s]"
     ]
    },
    {
     "name": "stdout",
     "output_type": "stream",
     "text": [
      "86 12\n"
     ]
    },
    {
     "name": "stderr",
     "output_type": "stream",
     "text": [
      "\n"
     ]
    }
   ],
   "source": [
    "results[(2, 10)] = dot_test(make_dot_product_problem_set(2, 10, n), memo_prompt=one_shot_true_memo_prompt)"
   ]
  },
  {
   "cell_type": "code",
   "execution_count": 46,
   "metadata": {},
   "outputs": [
    {
     "name": "stderr",
     "output_type": "stream",
     "text": [
      "100%|██████████| 100/100 [05:19<00:00,  3.20s/it]\n",
      "100%|██████████| 100/100 [00:07<00:00, 12.61it/s]"
     ]
    },
    {
     "name": "stdout",
     "output_type": "stream",
     "text": [
      "86 12\n"
     ]
    },
    {
     "name": "stderr",
     "output_type": "stream",
     "text": [
      "\n"
     ]
    }
   ],
   "source": [
    "results[(3, 5)] = dot_test(make_dot_product_problem_set(3, 5, n), memo_prompt=one_shot_true_memo_prompt)"
   ]
  },
  {
   "cell_type": "code",
   "execution_count": 47,
   "metadata": {},
   "outputs": [],
   "source": [
    "make_dot_product_problem_set(3, 10, 1000).to_csv('dot_product_problems_3_5.csv')"
   ]
  },
  {
   "cell_type": "code",
   "execution_count": null,
   "metadata": {},
   "outputs": [],
   "source": []
  }
 ],
 "metadata": {
  "kernelspec": {
   "display_name": "censored-cognition",
   "language": "python",
   "name": "python3"
  },
  "language_info": {
   "codemirror_mode": {
    "name": "ipython",
    "version": 3
   },
   "file_extension": ".py",
   "mimetype": "text/x-python",
   "name": "python",
   "nbconvert_exporter": "python",
   "pygments_lexer": "ipython3",
   "version": "3.10.12"
  }
 },
 "nbformat": 4,
 "nbformat_minor": 2
}
