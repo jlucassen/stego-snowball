{
 "cells": [
  {
   "cell_type": "code",
   "execution_count": 1,
   "metadata": {},
   "outputs": [
    {
     "name": "stderr",
     "output_type": "stream",
     "text": [
      "/home/ubuntu/.local/lib/python3.8/site-packages/tqdm/auto.py:21: TqdmWarning: IProgress not found. Please update jupyter and ipywidgets. See https://ipywidgets.readthedocs.io/en/stable/user_install.html\n",
      "  from .autonotebook import tqdm as notebook_tqdm\n"
     ]
    },
    {
     "data": {
      "text/plain": [
       "True"
      ]
     },
     "execution_count": 1,
     "metadata": {},
     "output_type": "execute_result"
    }
   ],
   "source": [
    "import transformers\n",
    "import torch\n",
    "from time import perf_counter\n",
    "import dotenv\n",
    "import os\n",
    "\n",
    "dotenv.load_dotenv()"
   ]
  },
  {
   "cell_type": "code",
   "execution_count": 13,
   "metadata": {},
   "outputs": [
    {
     "name": "stderr",
     "output_type": "stream",
     "text": [
      "Special tokens have been added in the vocabulary, make sure the associated word embeddings are fine-tuned or trained.\n",
      "Loading checkpoint shards: 100%|██████████| 4/4 [00:02<00:00,  1.45it/s]\n"
     ]
    }
   ],
   "source": [
    "device = torch.device(\"cuda\" if torch.cuda.is_available() else \"cpu\")\n",
    "\n",
    "model_id = \"meta-llama/Meta-Llama-3-8B-Instruct\"\n",
    "\n",
    "tokenizer = transformers.AutoTokenizer.from_pretrained(model_id, token=os.getenv('HF_TOKEN'))\n",
    "model = transformers.AutoModelForCausalLM.from_pretrained(model_id, token=os.getenv('HF_TOKEN')).to(device)\n",
    "\n",
    "terminators = [\n",
    "    tokenizer.eos_token_id,\n",
    "    tokenizer.convert_tokens_to_ids(\"<|eot_id|>\")\n",
    "]\n",
    "\n",
    "# Set pad token id if it's not already set\n",
    "if tokenizer.pad_token is None:\n",
    "    tokenizer.pad_token = tokenizer.eos_token\n",
    "    model.config.pad_token_id = model.config.eos_token_id"
   ]
  },
  {
   "cell_type": "code",
   "execution_count": 19,
   "metadata": {},
   "outputs": [
    {
     "name": "stdout",
     "output_type": "stream",
     "text": [
      "3...\n",
      "Welcome to the new and improved blog of The Art of Living! I'm excited to share my thoughts, experiences, and insights with you all on this new platform. I hope you'll join me on this journey and share your own stories and\n",
      "\n",
      "Full generated text:\n",
      "testing, testing, 1, 2, 3...\n",
      "Welcome to the new and improved blog of The Art of Living! I'm excited to share my thoughts, experiences, and insights with you all on this new platform. I hope you'll join me on this journey and share your own stories and\n"
     ]
    }
   ],
   "source": [
    "input_text = \"testing, testing, 1, 2, \"\n",
    "\n",
    "inputs = tokenizer(input_text, return_tensors=\"pt\", padding=True, truncation=True)\n",
    "\n",
    "# Move input tensors to the same device as the model\n",
    "inputs = {k: v.to(device) for k, v in inputs.items()}\n",
    "\n",
    "# Set pad token id if it's not already set\n",
    "if tokenizer.pad_token is None:\n",
    "    tokenizer.pad_token = tokenizer.eos_token\n",
    "    model.config.pad_token_id = model.config.eos_token_id\n",
    "\n",
    "# Generate text token by token\n",
    "generated = inputs['input_ids']\n",
    "attention_mask = inputs['attention_mask']\n",
    "\n",
    "for _ in range(50):  # Generate 50 new tokens\n",
    "    outputs = model.generate(\n",
    "        generated,\n",
    "        attention_mask=attention_mask,\n",
    "        max_new_tokens=1,\n",
    "        do_sample=True,\n",
    "        pad_token_id=tokenizer.pad_token_id\n",
    "    )\n",
    "    new_token = outputs[0, -1].unsqueeze(0).unsqueeze(0)  # Shape: (1, 1)\n",
    "    generated = torch.cat([generated, new_token], dim=-1)\n",
    "    attention_mask = torch.cat([attention_mask, torch.ones((1, 1), dtype=torch.long, device=device)], dim=-1)\n",
    "    print(tokenizer.decode(new_token.squeeze().cpu()), end='', flush=True)\n",
    "\n",
    "print(\"\\n\\nFull generated text:\")\n",
    "print(tokenizer.decode(generated[0].cpu(), skip_special_tokens=True))"
   ]
  },
  {
   "cell_type": "code",
   "execution_count": null,
   "metadata": {},
   "outputs": [],
   "source": []
  }
 ],
 "metadata": {
  "kernelspec": {
   "display_name": "Python 3",
   "language": "python",
   "name": "python3"
  },
  "language_info": {
   "codemirror_mode": {
    "name": "ipython",
    "version": 3
   },
   "file_extension": ".py",
   "mimetype": "text/x-python",
   "name": "python",
   "nbconvert_exporter": "python",
   "pygments_lexer": "ipython3",
   "version": "3.8.10"
  }
 },
 "nbformat": 4,
 "nbformat_minor": 2
}
