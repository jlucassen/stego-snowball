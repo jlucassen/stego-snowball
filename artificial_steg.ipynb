{
 "cells": [
  {
   "cell_type": "code",
   "execution_count": 7,
   "metadata": {},
   "outputs": [
    {
     "data": {
      "text/plain": [
       "True"
      ]
     },
     "execution_count": 7,
     "metadata": {},
     "output_type": "execute_result"
    }
   ],
   "source": [
    "from transformers import AutoModelForCausalLM, AutoTokenizer\n",
    "import torch\n",
    "\n",
    "import dotenv\n",
    "\n",
    "dotenv.load_dotenv()\n",
    "\n",
    "llama8b = \"meta-llama/Meta-Llama-3-8B-Instruct\""
   ]
  },
  {
   "cell_type": "code",
   "execution_count": 18,
   "metadata": {},
   "outputs": [
    {
     "name": "stderr",
     "output_type": "stream",
     "text": [
      "Loading checkpoint shards: 100%|██████████| 4/4 [00:02<00:00,  1.96it/s]\n"
     ]
    },
    {
     "name": "stdout",
     "output_type": "stream",
     "text": [
      "<|begin_of_text|>Alternate saying '1' and '0'. 0101010...10101010101010101010101010101010101010101010101010101010101010101010101010101010101010101010101010101010101010101010101010101010101010101010101010101010101010101010101010101\n"
     ]
    }
   ],
   "source": [
    "def insert_between_tokens(model_id, prompt, max_length, insert_str):\n",
    "    model = AutoModelForCausalLM.from_pretrained(model_id)\n",
    "    tokenizer = AutoTokenizer.from_pretrained(model_id)\n",
    "\n",
    "    input_ids = tokenizer.encode(prompt, return_tensors='pt')\n",
    "    generated = input_ids\n",
    "    \n",
    "    insert_toks = tokenizer.encode(insert_str, return_tensors='pt', add_special_tokens=False, )\n",
    "    print(insert_toks.shape)\n",
    "    \n",
    "    while generated.shape[1] < max_length:\n",
    "        model_inputs = model.prepare_inputs_for_generation(generated)\n",
    "        with torch.no_grad():\n",
    "            outputs = model(**model_inputs)\n",
    "        next_token = outputs.logits[:, -1, :].argmax(dim=-1).unsqueeze(0)\n",
    "        generated = torch.cat([generated, next_token], dim=-1)\n",
    "        generated = torch.cat([generated, insert_toks], dim=-1)\n",
    "    \n",
    "    return tokenizer.decode(generated[0])\n",
    "\n",
    "\n",
    "prompt = \"Alternate saying '1' and '0'. 0101010\"\n",
    "insert_str = '101'\n",
    "result = insert_between_tokens(llama8b, prompt, max_length=100, insert_str=insert_str)\n",
    "print(result)"
   ]
  }
 ],
 "metadata": {
  "kernelspec": {
   "display_name": "Python 3",
   "language": "python",
   "name": "python3"
  },
  "language_info": {
   "codemirror_mode": {
    "name": "ipython",
    "version": 3
   },
   "file_extension": ".py",
   "mimetype": "text/x-python",
   "name": "python",
   "nbconvert_exporter": "python",
   "pygments_lexer": "ipython3",
   "version": "3.10.12"
  }
 },
 "nbformat": 4,
 "nbformat_minor": 2
}
