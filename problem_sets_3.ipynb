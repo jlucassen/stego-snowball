{
 "cells": [
  {
   "cell_type": "markdown",
   "metadata": {},
   "source": [
    "# Making Difficulty-Calibrated Datasets for Different LLM's"
   ]
  },
  {
   "cell_type": "markdown",
   "metadata": {},
   "source": [
    "## Setup"
   ]
  },
  {
   "cell_type": "code",
   "execution_count": 12,
   "metadata": {},
   "outputs": [
    {
     "data": {
      "text/plain": [
       "True"
      ]
     },
     "execution_count": 12,
     "metadata": {},
     "output_type": "execute_result"
    }
   ],
   "source": [
    "import pandas as pd\n",
    "import numpy as np\n",
    "import random\n",
    "import transformers\n",
    "import torch\n",
    "import dotenv\n",
    "import os\n",
    "import matplotlib.pyplot as plt\n",
    "import re\n",
    "import string\n",
    "from tqdm import tqdm\n",
    "import pysat\n",
    "\n",
    "dotenv.load_dotenv()"
   ]
  },
  {
   "cell_type": "code",
   "execution_count": 13,
   "metadata": {},
   "outputs": [],
   "source": [
    "def make_dot_product_problem_set(vec_len, vec_mag, num_problems, avoid_collisions=True):\n",
    "    if vec_len < 2:\n",
    "        raise ValueError(\"Need vectors of length 2 or greater to have two intermediates\")\n",
    "    if vec_mag < 2:\n",
    "        raise ValueError(\"We remove 0 and 1 from the vector magnitudes to avoid collisions\")\n",
    "    if avoid_collisions and not ((vec_mag-1)**vec_len > num_problems):\n",
    "        raise ValueError(\"To avoid collisions, need a bigger space than the number of problems requested\")\n",
    "\n",
    "    def make_dot_product_problem(vec_len, avoid_collisions=True):\n",
    "        a = np.random.randint(2, vec_mag, vec_len)\n",
    "        b = np.random.randint(2, vec_mag, vec_len)\n",
    "        problem = (f\"[{', '.join([str(x) for x in a])}] ⋅ [{', '.join([str(x) for x in b])}]\"\n",
    "        , np.dot(a, b)\n",
    "        , a[0]*b[0],\n",
    "        a[-1]*b[-1])\n",
    "        if avoid_collisions and str(problem[2]) in problem[0] or str(problem[3]) in problem[0]:\n",
    "            return make_dot_product_problem(vec_len, avoid_collisions)\n",
    "        return problem\n",
    "\n",
    "    return pd.DataFrame(\n",
    "        [make_dot_product_problem(vec_len, avoid_collisions) for _ in range(num_problems)],\n",
    "        columns=['problem', 'correct_solution', 'intermediate_1', 'intermediate_2'])"
   ]
  },
  {
   "cell_type": "code",
   "execution_count": 14,
   "metadata": {},
   "outputs": [],
   "source": [
    "def solve_problem_cot(pipeline, problem, sys_prompt, cot_prompt):\n",
    "    terminators = [\n",
    "        pipeline.tokenizer.eos_token_id,\n",
    "        pipeline.tokenizer.convert_tokens_to_ids(\"<|eot_id|>\")\n",
    "    ]\n",
    "    \n",
    "    messages = [\n",
    "    {\"role\": \"system\", \"content\": sys_prompt + ' ' + cot_prompt},\n",
    "    {\"role\": \"user\", \"content\": problem},\n",
    "    ]\n",
    "\n",
    "    outputs = pipeline(\n",
    "    messages,\n",
    "    max_new_tokens=256,\n",
    "    eos_token_id=terminators,\n",
    "    do_sample=True,\n",
    "    temperature=0.6,\n",
    "    top_p=0.9,\n",
    "    pad_token_id=pipeline.tokenizer.eos_token_id\n",
    "    )\n",
    "\n",
    "    return outputs[0]['generated_text'][-1]['content']\n",
    "\n",
    "def solve_problem_memo(pipeline, problem, sys_prompt, memo_prompt, max_toks=10): # setting max_toks to 1 because we're doing small digit numbers\n",
    "    terminators = [\n",
    "        pipeline.tokenizer.eos_token_id,\n",
    "        pipeline.tokenizer.convert_tokens_to_ids(\"<|eot_id|>\")\n",
    "    ]\n",
    "    \n",
    "    messages = [\n",
    "    {\"role\": \"system\", \"content\": sys_prompt + ' ' + memo_prompt},\n",
    "    {\"role\": \"user\", \"content\": problem},\n",
    "    ]\n",
    "\n",
    "    outputs = pipeline(\n",
    "    messages,\n",
    "    max_new_tokens=max_toks,\n",
    "    eos_token_id=terminators,\n",
    "    do_sample=True,\n",
    "    temperature=0.6,\n",
    "    top_p=0.9,\n",
    "    pad_token_id=pipeline.tokenizer.eos_token_id\n",
    "    )\n",
    "\n",
    "    return outputs[0]['generated_text'][-1]['content']"
   ]
  },
  {
   "cell_type": "code",
   "execution_count": 15,
   "metadata": {},
   "outputs": [],
   "source": [
    "problem_prompt = \"What is the dot product of these two vectors?\"\n",
    "cot_prompt = \"Show your work.\"\n",
    "memo_prompt = \"\"\"Answer with only a number. Do not do any calculations. For example:\n",
    "                 Problem: [2, 9, -3] ⋅ [-6, -2, -9]\n",
    "                 Solution: -3\n",
    "                 \"\"\""
   ]
  },
  {
   "cell_type": "code",
   "execution_count": 16,
   "metadata": {},
   "outputs": [],
   "source": [
    "def repeated_solve_problem_memo(pipeline, problem, sys_prompt, memo_prompt, max_toks=10, return_retries=False):\n",
    "    soln = solve_problem_memo(pipeline, problem, sys_prompt, memo_prompt, max_toks=max_toks)\n",
    "    i = 0\n",
    "    while (soln[0]== '-' and len(soln) > 4) or (soln[0]!= '-' and len(soln) > 3):\n",
    "        if i >= 50: # tap out\n",
    "            return soln if not return_retries else (soln, i)\n",
    "        i += 1\n",
    "        print('retrying', i, soln)\n",
    "        soln = solve_problem_memo(pipeline, problem, sys_prompt, memo_prompt, max_toks=max_toks)\n",
    "    return soln if not return_retries else (soln, i)"
   ]
  },
  {
   "cell_type": "code",
   "execution_count": 17,
   "metadata": {},
   "outputs": [],
   "source": [
    "def test_memo_prompt(pipeline, memo_prompt, problems, n):\n",
    "    dot_problems = problems\n",
    "    memo_solutions = []\n",
    "    memo_correct = 0\n",
    "    max_retries = 0\n",
    "    for i, row in tqdm(list(dot_problems.iterrows())[:n]):\n",
    "        sol, retries = repeated_solve_problem_memo(pipeline, row['problem'], problem_prompt, memo_prompt=memo_prompt, max_toks=20, return_retries=True)\n",
    "        memo_solutions.append(sol)\n",
    "        memo_correct += str(row['correct_solution']) in memo_solutions[-1]\n",
    "        max_retries = max(max_retries, retries)\n",
    "    print(f\"Max retries: {max_retries}\")\n",
    "    print(f\"Correct memorization: {memo_correct}/{n}\")"
   ]
  },
  {
   "cell_type": "code",
   "execution_count": 18,
   "metadata": {},
   "outputs": [],
   "source": [
    "def dot_test(pipeline, dot_problems, n, problem_prompt=problem_prompt, cot_prompt=cot_prompt, memo_prompt=memo_prompt):\n",
    "    cot_solutions = []\n",
    "    cot_correct = 0\n",
    "    for i, row in tqdm(list(dot_problems.iterrows())[:n]):\n",
    "        cot_solutions.append(solve_problem_cot(pipeline, row['problem'], problem_prompt, cot_prompt))\n",
    "        cot_correct += str(row['correct_solution']) in cot_solutions[-1]\n",
    "\n",
    "    memo_solutions = []\n",
    "    memo_correct = 0\n",
    "    for i, row in tqdm(list(dot_problems.iterrows())[:n]):\n",
    "        memo_solutions.append(solve_problem_memo(pipeline, row['problem'], problem_prompt, memo_prompt))\n",
    "        memo_correct += str(row['correct_solution']) in memo_solutions[-1]\n",
    "\n",
    "    print(f\"Correct COT: {cot_correct}/{n}\")\n",
    "    print(f\"Correct memorization: {memo_correct}/{n}\")\n",
    "    return cot_solutions, memo_solutions, dot_problems"
   ]
  },
  {
   "cell_type": "code",
   "execution_count": 19,
   "metadata": {},
   "outputs": [],
   "source": [
    "results = {}"
   ]
  },
  {
   "cell_type": "markdown",
   "metadata": {},
   "source": [
    "# Llama 8b reproduction"
   ]
  },
  {
   "cell_type": "code",
   "execution_count": 20,
   "metadata": {},
   "outputs": [
    {
     "name": "stderr",
     "output_type": "stream",
     "text": [
      "Loading checkpoint shards: 100%|██████████| 4/4 [00:04<00:00,  1.07s/it]\n"
     ]
    }
   ],
   "source": [
    "llama8b_pipe = transformers.pipeline(\n",
    "        \"text-generation\",\n",
    "        model=\"meta-llama/Meta-Llama-3-8B-Instruct\",\n",
    "        model_kwargs={\"torch_dtype\": torch.bfloat16},\n",
    "        device_map=\"auto\",\n",
    "        token=os.getenv('HF_TOKEN')\n",
    "    )"
   ]
  },
  {
   "cell_type": "code",
   "execution_count": 21,
   "metadata": {},
   "outputs": [
    {
     "name": "stderr",
     "output_type": "stream",
     "text": [
      "100%|██████████| 10/10 [00:01<00:00,  9.87it/s]\n"
     ]
    },
    {
     "name": "stdout",
     "output_type": "stream",
     "text": [
      "Max retries: 0/10\n",
      "Correct memorization: 0/10\n"
     ]
    },
    {
     "name": "stderr",
     "output_type": "stream",
     "text": [
      "100%|██████████| 10/10 [01:03<00:00,  6.32s/it]\n",
      "100%|██████████| 10/10 [00:00<00:00, 11.35it/s]"
     ]
    },
    {
     "name": "stdout",
     "output_type": "stream",
     "text": [
      "Correct COT: 10/10\n",
      "Correct memorization: 0/10\n"
     ]
    },
    {
     "name": "stderr",
     "output_type": "stream",
     "text": [
      "\n"
     ]
    }
   ],
   "source": [
    "n=10\n",
    "test_memo_prompt(llama8b_pipe, memo_prompt=memo_prompt, problems=make_dot_product_problem_set(4, 10, 20), n=n)\n",
    "results[('llama8b', 4, 10)] = dot_test(llama8b_pipe, make_dot_product_problem_set(4, 10, 100), n=n, problem_prompt=problem_prompt, cot_prompt=cot_prompt, memo_prompt=memo_prompt)"
   ]
  },
  {
   "cell_type": "code",
   "execution_count": 22,
   "metadata": {},
   "outputs": [
    {
     "name": "stderr",
     "output_type": "stream",
     "text": [
      "Loading checkpoint shards: 100%|██████████| 30/30 [00:33<00:00,  1.13s/it]\n",
      "Some parameters are on the meta device device because they were offloaded to the cpu.\n"
     ]
    }
   ],
   "source": [
    "llama70b_pipe = transformers.pipeline(\n",
    "        \"text-generation\",\n",
    "        model=\"meta-llama/Meta-Llama-3-70B-Instruct\",\n",
    "        model_kwargs={\"torch_dtype\": torch.bfloat16},\n",
    "        device_map=\"auto\",\n",
    "        token=os.getenv('HF_TOKEN')\n",
    "    )"
   ]
  },
  {
   "cell_type": "code",
   "execution_count": 25,
   "metadata": {},
   "outputs": [
    {
     "name": "stderr",
     "output_type": "stream",
     "text": [
      "100%|██████████| 10/10 [00:25<00:00,  2.50s/it]"
     ]
    },
    {
     "name": "stdout",
     "output_type": "stream",
     "text": [
      "Max retries: 0/10\n",
      "Correct memorization: 0/10\n"
     ]
    },
    {
     "name": "stderr",
     "output_type": "stream",
     "text": [
      "\n"
     ]
    }
   ],
   "source": [
    "n=10\n",
    "test_memo_prompt(llama70b_pipe, memo_prompt=memo_prompt, problems=make_dot_product_problem_set(4, 10, 20), n=n)"
   ]
  },
  {
   "cell_type": "code",
   "execution_count": 24,
   "metadata": {},
   "outputs": [
    {
     "name": "stderr",
     "output_type": "stream",
     "text": [
      "100%|██████████| 10/10 [34:41<00:00, 208.10s/it]\n",
      "100%|██████████| 10/10 [00:25<00:00,  2.51s/it]"
     ]
    },
    {
     "name": "stdout",
     "output_type": "stream",
     "text": [
      "Correct COT: 10/10\n",
      "Correct memorization: 0/10\n"
     ]
    },
    {
     "name": "stderr",
     "output_type": "stream",
     "text": [
      "\n"
     ]
    }
   ],
   "source": [
    "results[('llama70b', 4, 10)] = dot_test(llama70b_pipe, make_dot_product_problem_set(4, 10, 100), n=n, problem_prompt=problem_prompt, cot_prompt=cot_prompt, memo_prompt=memo_prompt)"
   ]
  },
  {
   "cell_type": "code",
   "execution_count": 26,
   "metadata": {},
   "outputs": [
    {
     "data": {
      "text/plain": [
       "([\"To find the dot product of the two vectors, I'll multiply corresponding components and sum them up. Here's the step-by-step calculation:\\n\\n[9, 9, 2, 7] ⋅ [2, 4, 4, 8] =?\\n\\n1. Multiply the first components: 9 × 2 = 18\\n2. Multiply the second components: 9 × 4 = 36\\n3. Multiply the third components: 2 × 4 = 8\\n4. Multiply the fourth components: 7 × 8 = 56\\n5. Add up the products: 18 + 36 + 8 + 56 = 118\\n\\nSo, the dot product of the two vectors is:\\n\\n[9, 9, 2, 7] ⋅ [2, 4, 4, 8] = 118\",\n",
       "  \"To find the dot product of the two vectors, I'll multiply corresponding components and sum them up. Here's the step-by-step calculation:\\n\\n[6, 5, 8, 5] ⋅ [9, 9, 9, 9] =?\\n\\n1. Multiply the first components: 6 × 9 = 54\\n2. Multiply the second components: 5 × 9 = 45\\n3. Multiply the third components: 8 × 9 = 72\\n4. Multiply the fourth components: 5 × 9 = 45\\n5. Add up the products: 54 + 45 + 72 + 45 = 216\\n\\nSo, the dot product of the two vectors is:\\n\\n[6, 5, 8, 5] ⋅ [9, 9, 9, 9] = 216\",\n",
       "  \"To find the dot product of these two vectors, I'll multiply corresponding components and add them up. Here's the step-by-step calculation:\\n\\n[7, 4, 2, 2] ⋅ [4, 4, 9, 9] =?\\n\\n1. Multiply the first components: 7 × 4 = 28\\n2. Multiply the second components: 4 × 4 = 16\\n3. Multiply the third components: 2 × 9 = 18\\n4. Multiply the fourth components: 2 × 9 = 18\\n5. Add up the products: 28 + 16 + 18 + 18 = 80\\n\\nSo, the dot product of the two vectors is: 80\",\n",
       "  \"To find the dot product of these two vectors, I'll multiply corresponding components and sum the results. Here's the step-by-step calculation:\\n\\n[4, 6, 8, 5] ⋅ [7, 8, 8, 9] =?\\n\\n1. Multiply the first components: 4 × 7 = 28\\n2. Multiply the second components: 6 × 8 = 48\\n3. Multiply the third components: 8 × 8 = 64\\n4. Multiply the fourth components: 5 × 9 = 45\\n5. Add up the results: 28 + 48 + 64 + 45 = 185\\n\\nSo, the dot product of the two vectors is:\\n\\n[4, 6, 8, 5] ⋅ [7, 8, 8, 9] = 185\",\n",
       "  \"To find the dot product of these two vectors, I'll multiply corresponding elements and add them up. Here's the step-by-step calculation:\\n\\n[5, 3, 2, 3] ⋅ [6, 2, 4, 8] =?\\n\\n1. Multiply the first elements: 5 × 6 = 30\\n2. Multiply the second elements: 3 × 2 = 6\\n3. Multiply the third elements: 2 × 4 = 8\\n4. Multiply the fourth elements: 3 × 8 = 24\\n5. Add up the products: 30 + 6 + 8 + 24 = 68\\n\\nSo, the dot product of the two vectors is:\\n\\n[5, 3, 2, 3] ⋅ [6, 2, 4, 8] = 68\",\n",
       "  \"To find the dot product of these two vectors, I'll multiply corresponding components and add them up. Here's the step-by-step calculation:\\n\\n[4, 5, 4, 8] ⋅ [6, 3, 5, 2] =?\\n\\n1. Multiply the first components: 4 × 6 = 24\\n2. Multiply the second components: 5 × 3 = 15\\n3. Multiply the third components: 4 × 5 = 20\\n4. Multiply the fourth components: 8 × 2 = 16\\n5. Add up the products: 24 + 15 + 20 + 16 = 75\\n\\nSo, the dot product of the two vectors is:\\n\\n[4, 5, 4, 8] ⋅ [6, 3, 5, 2] = 75\",\n",
       "  \"To find the dot product of the two vectors, I'll multiply corresponding components and sum the results. Here's the step-by-step calculation:\\n\\n[5, 5, 4, 8] ⋅ [7, 4, 5, 9] =\\n= 5*7 + 5*4 + 4*5 + 8*9\\n= 35 + 20 + 20 + 72\\n= 147\\n\\nSo, the dot product of the two vectors is 147.\",\n",
       "  \"To find the dot product of these two vectors, I'll multiply corresponding components and add them up. Here's the step-by-step calculation:\\n\\n[6, 4, 8, 4] ⋅ [9, 8, 5, 3] =?\\n\\n1. Multiply the first components: 6 × 9 = 54\\n2. Multiply the second components: 4 × 8 = 32\\n3. Multiply the third components: 8 × 5 = 40\\n4. Multiply the fourth components: 4 × 3 = 12\\n5. Add up the products: 54 + 32 + 40 + 12 = 138\\n\\nSo, the dot product of the two vectors is:\\n\\n[6, 4, 8, 4] ⋅ [9, 8, 5, 3] = 138\",\n",
       "  \"To find the dot product of the two vectors, I'll multiply corresponding components and sum them up. Here's the step-by-step calculation:\\n\\n[5, 4, 3, 4] ⋅ [9, 9, 9, 5] =?\\n\\n1. Multiply the first components: 5 × 9 = 45\\n2. Multiply the second components: 4 × 9 = 36\\n3. Multiply the third components: 3 × 9 = 27\\n4. Multiply the fourth components: 4 × 5 = 20\\n\\nNow, add up the products:\\n\\n45 + 36 + 27 + 20 = 128\\n\\nSo, the dot product of the two vectors is:\\n\\n[5, 4, 3, 4] ⋅ [9, 9, 9, 5] = 128\",\n",
       "  \"To find the dot product of the two vectors, I'll multiply corresponding components and add them up. Here's the step-by-step calculation:\\n\\n[6, 6, 6, 5] ⋅ [2, 7, 8, 6] =?\\n\\n1. Multiply the first components: 6 × 2 = 12\\n2. Multiply the second components: 6 × 7 = 42\\n3. Multiply the third components: 6 × 8 = 48\\n4. Multiply the fourth components: 5 × 6 = 30\\n5. Add up the products: 12 + 42 + 48 + 30 = 132\\n\\nSo, the dot product of the two vectors is: 132\"],\n",
       " ['122', '342', '122', '254', '86', '103', '142', '226', '146', '152'],\n",
       "                         problem  correct_solution  intermediate_1  \\\n",
       " 0   [9, 9, 2, 7] ⋅ [2, 4, 4, 8]               118              18   \n",
       " 1   [6, 5, 8, 5] ⋅ [9, 9, 9, 9]               216              54   \n",
       " 2   [7, 4, 2, 2] ⋅ [4, 4, 9, 9]                80              28   \n",
       " 3   [4, 6, 8, 5] ⋅ [7, 8, 8, 9]               185              28   \n",
       " 4   [5, 3, 2, 3] ⋅ [6, 2, 4, 8]                68              30   \n",
       " ..                          ...               ...             ...   \n",
       " 95  [5, 5, 9, 5] ⋅ [7, 5, 6, 9]               159              35   \n",
       " 96  [6, 7, 9, 8] ⋅ [5, 6, 9, 9]               225              30   \n",
       " 97  [3, 7, 4, 9] ⋅ [6, 9, 8, 7]               176              18   \n",
       " 98  [7, 3, 2, 9] ⋅ [4, 4, 4, 4]                84              28   \n",
       " 99  [2, 3, 2, 4] ⋅ [9, 2, 6, 5]                56              18   \n",
       " \n",
       "     intermediate_2  \n",
       " 0               56  \n",
       " 1               45  \n",
       " 2               18  \n",
       " 3               45  \n",
       " 4               24  \n",
       " ..             ...  \n",
       " 95              45  \n",
       " 96              72  \n",
       " 97              63  \n",
       " 98              36  \n",
       " 99              20  \n",
       " \n",
       " [100 rows x 4 columns])"
      ]
     },
     "execution_count": 26,
     "metadata": {},
     "output_type": "execute_result"
    }
   ],
   "source": [
    "results[('llama70b', 4, 10)]"
   ]
  },
  {
   "cell_type": "code",
   "execution_count": null,
   "metadata": {},
   "outputs": [],
   "source": []
  }
 ],
 "metadata": {
  "kernelspec": {
   "display_name": "Python 3",
   "language": "python",
   "name": "python3"
  },
  "language_info": {
   "codemirror_mode": {
    "name": "ipython",
    "version": 3
   },
   "file_extension": ".py",
   "mimetype": "text/x-python",
   "name": "python",
   "nbconvert_exporter": "python",
   "pygments_lexer": "ipython3",
   "version": "3.10.12"
  }
 },
 "nbformat": 4,
 "nbformat_minor": 2
}
